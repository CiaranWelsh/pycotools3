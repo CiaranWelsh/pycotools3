{
 "cells": [
  {
   "cell_type": "markdown",
   "metadata": {},
   "source": [
    "The Lotka Volterra System\n",
    "=========================\n",
    "\n",
    "\\begin{equation}\n",
    "    \\begin{aligned}\n",
    "    \\frac{d[X]}{dt} &= \\alpha \\cdot X - \\beta \\cdot X \\cdot Y\\\\\n",
    "    \\frac{d[Y]}{dt} &= - \\gamma \\cdot Y + \\delta \\cdot X \\cdot Y\\\\\n",
    "    \\end{aligned}\n",
    "\\end{equation}\n",
    "\n",
    "where:\n",
    "\n",
    "\\begin{equation}\n",
    "    \\begin{aligned}\n",
    "    X_0 = 1\\\\\n",
    "    Y_0 = 1\n",
    "    \\end{aligned}\n",
    "\\end{equation}\n",
    "\n",
    "and \n",
    "\n",
    "\\begin{equation}\n",
    "    \\begin{aligned}\n",
    "        \\alpha &= 1.5 \\\\\n",
    "        \\beta  &= 1 \\\\\n",
    "        \\gamma &= 3 \\\\\n",
    "        \\delta &=  1 \\\\\n",
    "    \\end{aligned}\n",
    "\\end{equation}"
   ]
  },
  {
   "cell_type": "code",
   "execution_count": 8,
   "metadata": {
    "ExecuteTime": {
     "end_time": "2017-11-10T16:31:12.437000Z",
     "start_time": "2017-11-10T16:30:55.743000Z"
    }
   },
   "outputs": [
    {
     "ename": "AlreadyExistsError",
     "evalue": "Model already contains reaction with name: \"X\"",
     "output_type": "error",
     "traceback": [
      "\u001b[0;31m---------------------------------------------------------------------------\u001b[0m",
      "\u001b[0;31mAlreadyExistsError\u001b[0m                        Traceback (most recent call last)",
      "\u001b[0;32m<ipython-input-8-263e6011c0a5>\u001b[0m in \u001b[0;36m<module>\u001b[0;34m\u001b[0m\n\u001b[1;32m     31\u001b[0m \u001b[0;34m\u001b[0m\u001b[0m\n\u001b[1;32m     32\u001b[0m     \u001b[0;31m## If not already present X and Y will be automatically added at concentration of 1 model unit\u001b[0m\u001b[0;34m\u001b[0m\u001b[0;34m\u001b[0m\u001b[0;34m\u001b[0m\u001b[0m\n\u001b[0;32m---> 33\u001b[0;31m     \u001b[0mm\u001b[0m\u001b[0;34m.\u001b[0m\u001b[0madd\u001b[0m\u001b[0;34m(\u001b[0m\u001b[0;34m'reaction'\u001b[0m\u001b[0;34m,\u001b[0m \u001b[0mname\u001b[0m\u001b[0;34m=\u001b[0m\u001b[0;34m'X'\u001b[0m\u001b[0;34m,\u001b[0m \u001b[0mexpression\u001b[0m\u001b[0;34m=\u001b[0m\u001b[0;34m'-> X ; Y'\u001b[0m\u001b[0;34m,\u001b[0m \u001b[0mrate_law\u001b[0m\u001b[0;34m=\u001b[0m\u001b[0;34m'alpha*X - beta*X*Y'\u001b[0m\u001b[0;34m,\u001b[0m \u001b[0mparameter_values\u001b[0m\u001b[0;34m=\u001b[0m\u001b[0;34m{\u001b[0m\u001b[0;34m'alpha'\u001b[0m\u001b[0;34m:\u001b[0m \u001b[0;36m1.5\u001b[0m\u001b[0;34m,\u001b[0m \u001b[0;34m'beta'\u001b[0m\u001b[0;34m:\u001b[0m\u001b[0;36m1\u001b[0m\u001b[0;34m}\u001b[0m\u001b[0;34m)\u001b[0m\u001b[0;34m\u001b[0m\u001b[0;34m\u001b[0m\u001b[0m\n\u001b[0m\u001b[1;32m     34\u001b[0m     \u001b[0mm\u001b[0m\u001b[0;34m.\u001b[0m\u001b[0madd\u001b[0m\u001b[0;34m(\u001b[0m\u001b[0;34m'reaction'\u001b[0m\u001b[0;34m,\u001b[0m \u001b[0mname\u001b[0m\u001b[0;34m=\u001b[0m\u001b[0;34m'Y'\u001b[0m\u001b[0;34m,\u001b[0m \u001b[0mexpression\u001b[0m\u001b[0;34m=\u001b[0m\u001b[0;34m'-> Y ; X'\u001b[0m\u001b[0;34m,\u001b[0m \u001b[0mrate_law\u001b[0m\u001b[0;34m=\u001b[0m\u001b[0;34m'-gamma*Y + delta*X*Y'\u001b[0m\u001b[0;34m,\u001b[0m \u001b[0mparameter_values\u001b[0m\u001b[0;34m=\u001b[0m\u001b[0;34m{\u001b[0m\u001b[0;34m'gamma'\u001b[0m\u001b[0;34m:\u001b[0m \u001b[0;36m3\u001b[0m\u001b[0;34m,\u001b[0m \u001b[0;34m'delta'\u001b[0m\u001b[0;34m:\u001b[0m\u001b[0;36m1\u001b[0m\u001b[0;34m}\u001b[0m\u001b[0;34m)\u001b[0m\u001b[0;34m\u001b[0m\u001b[0;34m\u001b[0m\u001b[0m\n\u001b[1;32m     35\u001b[0m \u001b[0;34m\u001b[0m\u001b[0m\n",
      "\u001b[0;32m~/miniconda3/envs/py36/lib/python3.6/site-packages/pycotools3/model.py\u001b[0m in \u001b[0;36madd\u001b[0;34m(self, component_name, **kwargs)\u001b[0m\n\u001b[1;32m   1993\u001b[0m         \u001b[0;32melif\u001b[0m \u001b[0mcomponent_name\u001b[0m \u001b[0;34m==\u001b[0m \u001b[0;34m'reaction'\u001b[0m\u001b[0;34m:\u001b[0m\u001b[0;34m\u001b[0m\u001b[0;34m\u001b[0m\u001b[0m\n\u001b[1;32m   1994\u001b[0m             \u001b[0mreact\u001b[0m \u001b[0;34m=\u001b[0m \u001b[0mReaction\u001b[0m\u001b[0;34m(\u001b[0m\u001b[0mself\u001b[0m\u001b[0;34m,\u001b[0m \u001b[0;34m**\u001b[0m\u001b[0mkwargs\u001b[0m\u001b[0;34m)\u001b[0m\u001b[0;34m\u001b[0m\u001b[0;34m\u001b[0m\u001b[0m\n\u001b[0;32m-> 1995\u001b[0;31m             \u001b[0;32mreturn\u001b[0m \u001b[0mself\u001b[0m\u001b[0;34m.\u001b[0m\u001b[0madd_reaction\u001b[0m\u001b[0;34m(\u001b[0m\u001b[0mreact\u001b[0m\u001b[0;34m)\u001b[0m\u001b[0;34m\u001b[0m\u001b[0;34m\u001b[0m\u001b[0m\n\u001b[0m\u001b[1;32m   1996\u001b[0m \u001b[0;34m\u001b[0m\u001b[0m\n\u001b[1;32m   1997\u001b[0m         \u001b[0;32melif\u001b[0m \u001b[0mcomponent_name\u001b[0m \u001b[0;34m==\u001b[0m \u001b[0;34m'global_quantity'\u001b[0m\u001b[0;34m:\u001b[0m\u001b[0;34m\u001b[0m\u001b[0;34m\u001b[0m\u001b[0m\n",
      "\u001b[0;32m~/miniconda3/envs/py36/lib/python3.6/site-packages/pycotools3/model.py\u001b[0m in \u001b[0;36madd_reaction\u001b[0;34m(self, reaction, expression, rate_law)\u001b[0m\n\u001b[1;32m   1621\u001b[0m             raise errors.AlreadyExistsError(\n\u001b[1;32m   1622\u001b[0m                 \u001b[0;34m'Model already contains reaction '\u001b[0m\u001b[0;34m\u001b[0m\u001b[0;34m\u001b[0m\u001b[0m\n\u001b[0;32m-> 1623\u001b[0;31m                 \u001b[0;34m'with name: \"{}\"'\u001b[0m\u001b[0;34m.\u001b[0m\u001b[0mformat\u001b[0m\u001b[0;34m(\u001b[0m\u001b[0mreaction\u001b[0m\u001b[0;34m.\u001b[0m\u001b[0mname\u001b[0m\u001b[0;34m)\u001b[0m\u001b[0;34m\u001b[0m\u001b[0;34m\u001b[0m\u001b[0m\n\u001b[0m\u001b[1;32m   1624\u001b[0m             )\n\u001b[1;32m   1625\u001b[0m \u001b[0;34m\u001b[0m\u001b[0m\n",
      "\u001b[0;31mAlreadyExistsError\u001b[0m: Model already contains reaction with name: \"X\""
     ]
    }
   ],
   "source": [
    "%matplotlib inline \n",
    "import site\n",
    "site.addsitedir('/home/ncw135/Documents/pycotools3')\n",
    "\n",
    "try:\n",
    "    ## if using the Python 3 version\n",
    "    from pycotools3 import viz, model, misc, tasks, models\n",
    "except ImportError:\n",
    "    ## fall back on the python 2 version \n",
    "    from pycotools import viz, model, misc, tasks, models\n",
    "\n",
    "import os\n",
    "import pandas\n",
    "import seaborn\n",
    "seaborn.set_style('white')\n",
    "seaborn.set_context('notebook')\n",
    "\n",
    "## turn off debugging warnings from matplotlib\n",
    "import logging \n",
    "mpl_logger = logging.getLogger('matplotlib') \n",
    "mpl_logger.setLevel(logging.WARNING) \n",
    "\n",
    "wd = r'/home/ncw135/Documents/pycotools3/docs/source/Examples/lotka_volterra'\n",
    "if not os.path.isdir(wd):\n",
    "    os.makedirs(wd)\n",
    "cps = os.path.join(wd, 'LotkaVolterra.cps')\n",
    "\n",
    "\n",
    "with model.Build(cps) as m:\n",
    "    m.name = 'LotkaVolterra'\n",
    "    \n",
    "    ## If not already present X and Y will be automatically added at concentration of 1 model unit\n",
    "    m.add('reaction', name='X', expression='-> X ; Y', rate_law='alpha*X - beta*X*Y', parameter_values={'alpha': 1.5, 'beta':1})\n",
    "    m.add('reaction', name='Y', expression='-> Y ; X', rate_law='-gamma*Y + delta*X*Y', parameter_values={'gamma': 3, 'delta':1})\n",
    "\n",
    "\n",
    "lotka = model.Model(cps)\n",
    "\n",
    "TC = tasks.TimeCourse(\n",
    "    lotka, end=100, intervals=0.0001*100, step_size=0.0001\n",
    ")\n",
    "\n",
    "viz.Parse(TC)"
   ]
  },
  {
   "cell_type": "markdown",
   "metadata": {},
   "source": [
    "#  Visualization"
   ]
  },
  {
   "cell_type": "code",
   "execution_count": null,
   "metadata": {
    "ExecuteTime": {
     "end_time": "2017-11-10T16:31:30.219000Z",
     "start_time": "2017-11-10T16:31:12.457000Z"
    }
   },
   "outputs": [],
   "source": [
    "viz.PlotTimeCourse(\n",
    "    TC, show=True, separate=False\n",
    ")"
   ]
  },
  {
   "cell_type": "code",
   "execution_count": 2,
   "metadata": {
    "ExecuteTime": {
     "end_time": "2017-11-10T16:31:35.099000Z",
     "start_time": "2017-11-10T16:31:30.222000Z"
    },
    "scrolled": true
   },
   "outputs": [
    {
     "ename": "NameError",
     "evalue": "name 'TC' is not defined",
     "output_type": "error",
     "traceback": [
      "\u001b[0;31m---------------------------------------------------------------------------\u001b[0m",
      "\u001b[0;31mNameError\u001b[0m                                 Traceback (most recent call last)",
      "\u001b[0;32m<ipython-input-2-8dbe9d4db1e7>\u001b[0m in \u001b[0;36m<module>\u001b[0;34m\u001b[0m\n\u001b[1;32m      1\u001b[0m viz.PlotTimeCourse(\n\u001b[0;32m----> 2\u001b[0;31m     \u001b[0mTC\u001b[0m\u001b[0;34m,\u001b[0m \u001b[0mshow\u001b[0m\u001b[0;34m=\u001b[0m\u001b[0;32mTrue\u001b[0m\u001b[0;34m,\u001b[0m \u001b[0mseparate\u001b[0m\u001b[0;34m=\u001b[0m\u001b[0;32mTrue\u001b[0m\u001b[0;34m,\u001b[0m \u001b[0mx\u001b[0m\u001b[0;34m=\u001b[0m\u001b[0;34m'X'\u001b[0m\u001b[0;34m,\u001b[0m \u001b[0my\u001b[0m\u001b[0;34m=\u001b[0m\u001b[0;34m'Y'\u001b[0m\u001b[0;34m\u001b[0m\u001b[0;34m\u001b[0m\u001b[0m\n\u001b[0m\u001b[1;32m      3\u001b[0m )\n\u001b[1;32m      4\u001b[0m viz.PlotTimeCourse(\n\u001b[1;32m      5\u001b[0m     \u001b[0mTC\u001b[0m\u001b[0;34m,\u001b[0m \u001b[0mshow\u001b[0m\u001b[0;34m=\u001b[0m\u001b[0;32mTrue\u001b[0m\u001b[0;34m,\u001b[0m \u001b[0mseparate\u001b[0m\u001b[0;34m=\u001b[0m\u001b[0;32mTrue\u001b[0m\u001b[0;34m,\u001b[0m \u001b[0mx\u001b[0m\u001b[0;34m=\u001b[0m\u001b[0;34m'Y'\u001b[0m\u001b[0;34m,\u001b[0m \u001b[0my\u001b[0m\u001b[0;34m=\u001b[0m\u001b[0;34m'X'\u001b[0m\u001b[0;34m\u001b[0m\u001b[0;34m\u001b[0m\u001b[0m\n",
      "\u001b[0;31mNameError\u001b[0m: name 'TC' is not defined"
     ]
    }
   ],
   "source": [
    "viz.PlotTimeCourse(\n",
    "    TC, show=True, separate=True, x='X', y='Y'\n",
    ")\n",
    "viz.PlotTimeCourse(\n",
    "    TC, show=True, separate=True, x='Y', y='X'\n",
    ")"
   ]
  },
  {
   "cell_type": "code",
   "execution_count": null,
   "metadata": {},
   "outputs": [],
   "source": []
  }
 ],
 "metadata": {
  "kernelspec": {
   "display_name": "Python 3",
   "language": "python",
   "name": "python3"
  },
  "language_info": {
   "codemirror_mode": {
    "name": "ipython",
    "version": 3
   },
   "file_extension": ".py",
   "mimetype": "text/x-python",
   "name": "python",
   "nbconvert_exporter": "python",
   "pygments_lexer": "ipython3",
   "version": "3.6.8"
  },
  "toc": {
   "colors": {
    "hover_highlight": "#DAA520",
    "navigate_num": "#000000",
    "navigate_text": "#333333",
    "running_highlight": "#FF0000",
    "selected_highlight": "#FFD700",
    "sidebar_border": "#EEEEEE",
    "wrapper_background": "#FFFFFF"
   },
   "moveMenuLeft": true,
   "nav_menu": {
    "height": "48px",
    "width": "252px"
   },
   "navigate_menu": true,
   "number_sections": true,
   "sideBar": true,
   "threshold": 4,
   "toc_cell": false,
   "toc_section_display": "block",
   "toc_window_display": true,
   "widenNotebook": false
  }
 },
 "nbformat": 4,
 "nbformat_minor": 2
}
