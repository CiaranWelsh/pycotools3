{
 "cells": [
  {
   "cell_type": "markdown",
   "metadata": {},
   "source": [
    "## Running Time-Courses\n",
    "Copasi enables users to simulate their model with a range of different solvers. \n",
    "\n",
    "### Create a model\n",
    "Here we do our imports and create the model we use for the tutorial"
   ]
  },
  {
   "cell_type": "code",
   "execution_count": 1,
   "metadata": {},
   "outputs": [
    {
     "data": {
      "text/plain": [
       "Model(name=michaelis_menten, time_unit=s, volume_unit=l, quantity_unit=mol)"
      ]
     },
     "execution_count": 1,
     "metadata": {},
     "output_type": "execute_result"
    }
   ],
   "source": [
    "import os\n",
    "import site\n",
    "site.addsitedir('D:\\pycotools3')\n",
    "from pycotools3 import model, tasks, viz\n",
    "\n",
    "working_directory = r'/home/ncw135/Documents/pycotools3/docs/source/Tutorials/timecourse_tutorial'\n",
    "if not os.path.isdir(working_directory):\n",
    "    os.makedirs(working_directory)\n",
    "    \n",
    "copasi_file = os.path.join(working_directory, 'michaelis_menten.cps')\n",
    "\n",
    "if os.path.isfile(copasi_file):\n",
    "    os.remove(copasi_file)\n",
    "    \n",
    "antimony_string = \"\"\"\n",
    "model michaelis_menten()\n",
    "    compartment cell = 1.0\n",
    "    var E in cell\n",
    "    var S in cell\n",
    "    var ES in cell\n",
    "    var P in cell\n",
    "\n",
    "    kf = 0.1\n",
    "    kb = 1\n",
    "    kcat = 0.3\n",
    "    E = 75\n",
    "    S = 1000\n",
    "\n",
    "    SBindE: S + E => ES; kf*S*E\n",
    "    ESUnbind: ES => S + E; kb*ES\n",
    "    ProdForm: ES => P + E; kcat*ES\n",
    "end\n",
    "\"\"\"\n",
    "\n",
    "with model.BuildAntimony(copasi_file) as loader:\n",
    "    mm = loader.load(antimony_string)\n",
    "    \n",
    "    \n",
    "mm"
   ]
  },
  {
   "cell_type": "markdown",
   "metadata": {},
   "source": [
    "### Deterministic Time Course"
   ]
  },
  {
   "cell_type": "code",
   "execution_count": null,
   "metadata": {
    "ExecuteTime": {
     "end_time": "2018-02-03T13:34:55.382160Z",
     "start_time": "2018-02-03T13:34:54.968181Z"
    },
    "scrolled": false
   },
   "outputs": [],
   "source": [
    "TC = tasks.TimeCourse(\n",
    "    mm, report_name='mm_simulation.txt',\n",
    "    end=1000, intervals=50, step_size=20\n",
    ")\n",
    "\n",
    "## check its worked\n",
    "os.path.isfile(TC.report_name)\n",
    "\n",
    "import pandas\n",
    "df = pandas.read_csv(TC.report_name, sep='\\t')\n",
    "df.head()"
   ]
  },
  {
   "cell_type": "markdown",
   "metadata": {},
   "source": [
    "When running a time course, you should ensure that the number of intervals times the step size equals the end time, i.e.: \n",
    "    \n",
    "    - $$intervals \\cdot step\\_size = end$$\n",
    "\n",
    "The default behaviour is to output all model variables as they can easily be filtered later in the Python environment. However, the `metabolites`, `global_quantities` and `local_parameters` arguments exist to filter the variables that are simulated prior to running the time course. "
   ]
  },
  {
   "cell_type": "code",
   "execution_count": null,
   "metadata": {
    "ExecuteTime": {
     "end_time": "2018-02-03T13:34:58.585973Z",
     "start_time": "2018-02-03T13:34:58.215498Z"
    },
    "scrolled": true
   },
   "outputs": [],
   "source": [
    "TC=tasks.TimeCourse(\n",
    "    mm,\n",
    "    report_name='mm_timecourse.txt',\n",
    "    end=100,\n",
    "    intervals=50,\n",
    "    step_size=2,\n",
    "    global_quantities = ['kf'], ##recall that antimony puts all parameters as global quantities\n",
    ")\n",
    "\n",
    "##check that we only kf as a global variables\n",
    "pandas.read_csv(TC.report_name,sep='\\t').head()"
   ]
  },
  {
   "cell_type": "markdown",
   "metadata": {},
   "source": [
    "An alternative and more convenient interface into the `tasks.TimeCourse` class is using the `model.Model.simulate` method. This is simply a wrapper and is used like so."
   ]
  },
  {
   "cell_type": "code",
   "execution_count": null,
   "metadata": {
    "scrolled": true
   },
   "outputs": [],
   "source": [
    "data = mm.simulate(start=0, stop=100, by=0.1)\n",
    "data.head()"
   ]
  },
  {
   "cell_type": "markdown",
   "metadata": {},
   "source": [
    "This mechanism of running a time course has the advantage that 1) pycotools parses the data back into python in the form of a `pandas.DataFrame` and 2) the column names are automatically pruned to remove the copasi reference information. "
   ]
  },
  {
   "cell_type": "markdown",
   "metadata": {},
   "source": [
    "### Visualization"
   ]
  },
  {
   "cell_type": "code",
   "execution_count": null,
   "metadata": {
    "ExecuteTime": {
     "end_time": "2018-02-03T13:35:01.356908Z",
     "start_time": "2018-02-03T13:35:00.388672Z"
    }
   },
   "outputs": [],
   "source": [
    "viz.PlotTimeCourse(TC)"
   ]
  },
  {
   "cell_type": "markdown",
   "metadata": {},
   "source": [
    "It is also possible to plot these on the same axis by specifying `separate=False`"
   ]
  },
  {
   "cell_type": "code",
   "execution_count": null,
   "metadata": {
    "ExecuteTime": {
     "end_time": "2018-02-03T13:35:03.644932Z",
     "start_time": "2018-02-03T13:35:03.428538Z"
    },
    "scrolled": true
   },
   "outputs": [],
   "source": [
    "viz.PlotTimeCourse(TC, separate=False)"
   ]
  },
  {
   "cell_type": "markdown",
   "metadata": {},
   "source": [
    "or to choose the y variables,"
   ]
  },
  {
   "cell_type": "code",
   "execution_count": null,
   "metadata": {
    "ExecuteTime": {
     "end_time": "2018-02-03T13:35:05.747871Z",
     "start_time": "2018-02-03T13:35:05.332691Z"
    }
   },
   "outputs": [],
   "source": [
    "viz.PlotTimeCourse(TC, y=['E', 'S'], separate=False)\n",
    "viz.PlotTimeCourse(TC, y=['ES', 'P'], separate=False)"
   ]
  },
  {
   "cell_type": "markdown",
   "metadata": {},
   "source": [
    "#### Plot in Phase Space\n",
    "Choose the x variable to plot phase space. Same arguments apply as above. "
   ]
  },
  {
   "cell_type": "code",
   "execution_count": null,
   "metadata": {
    "ExecuteTime": {
     "end_time": "2018-02-03T13:35:09.129295Z",
     "start_time": "2018-02-03T13:35:08.357921Z"
    }
   },
   "outputs": [],
   "source": [
    "viz.PlotTimeCourse(TC, x='E', y='ES', separate=True)"
   ]
  },
  {
   "cell_type": "markdown",
   "metadata": {},
   "source": []
  },
  {
   "cell_type": "markdown",
   "metadata": {},
   "source": [
    "#### Save to file\n",
    "Use the `savefig=True` option to save the figure to file and give an argument to the filename option to choose the filename. "
   ]
  },
  {
   "cell_type": "code",
   "execution_count": null,
   "metadata": {
    "ExecuteTime": {
     "end_time": "2018-02-03T13:35:10.958029Z",
     "start_time": "2018-02-03T13:35:10.485128Z"
    }
   },
   "outputs": [],
   "source": [
    "viz.PlotTimeCourse(TC, y=['S', 'P'], separate=False, savefig=True, filename='MyTimeCourse.png')"
   ]
  },
  {
   "cell_type": "markdown",
   "metadata": {},
   "source": [
    "### Alternative Solvers\n",
    "Valid arguments for the `method` argument of `TimeCourse` are:\n",
    "\n",
    "    -  deterministic\n",
    "    -  direct\n",
    "    -  gibson_bruck\n",
    "    -  tau_leap\n",
    "    -  adaptive_tau_leap\n",
    "    -  hybrid_runge_kutta\n",
    "    -  hybrid_lsoda\n",
    "\n",
    "Copasi also includes a `hybrid_rk45` solver but this is not yet supported by Pycotools. To use an alternative solver, pass the name of the solver to the `method` argument. \n",
    "\n",
    "#### Stochastic MM\n",
    "For demonstrating simulation of stochastic time courses we build another michaelis-menten type reaction schema. We need to do this so we can set `unit substance = item`, or in other words, change the model to particle numbers - otherwise there are too may molecules in the system to simulate a stochastic model"
   ]
  },
  {
   "cell_type": "code",
   "execution_count": 18,
   "metadata": {
    "ExecuteTime": {
     "end_time": "2018-02-05T20:57:08.292570Z",
     "start_time": "2018-02-05T20:57:08.177073Z"
    }
   },
   "outputs": [],
   "source": [
    "copasi_file = os.path.join(working_directory, 'michaelis_menten_stochastic.cps')\n",
    "\n",
    "antimony_string = \"\"\"\n",
    "model michaelis_menten()\n",
    "    compartment cell = 1.0;\n",
    "    var E in cell;\n",
    "    var S in cell;\n",
    "    var ES in cell;\n",
    "    var P in cell;\n",
    "\n",
    "    kf = 0.1;\n",
    "    kb = 1;\n",
    "    kcat = 0.3;\n",
    "    E = 75;\n",
    "    S = 1000;\n",
    "\n",
    "    SBindE: S + E => ES; kf*S*E;\n",
    "    ESUnbind: ES => S + E; kb*ES;\n",
    "    ProdForm: ES => P + E; kcat*ES;\n",
    "    \n",
    "    unit substance = item;\n",
    "    \n",
    "end\n",
    "\"\"\"\n",
    "\n",
    "with model.BuildAntimony(copasi_file) as loader:\n",
    "    mm = loader.load(antimony_string)"
   ]
  },
  {
   "cell_type": "markdown",
   "metadata": {},
   "source": [
    "### Run a Time Course Using Direct Method"
   ]
  },
  {
   "cell_type": "code",
   "execution_count": 21,
   "metadata": {},
   "outputs": [
    {
     "data": {
      "text/html": [
       "<div>\n",
       "<style scoped>\n",
       "    .dataframe tbody tr th:only-of-type {\n",
       "        vertical-align: middle;\n",
       "    }\n",
       "\n",
       "    .dataframe tbody tr th {\n",
       "        vertical-align: top;\n",
       "    }\n",
       "\n",
       "    .dataframe thead th {\n",
       "        text-align: right;\n",
       "    }\n",
       "</style>\n",
       "<table border=\"1\" class=\"dataframe\">\n",
       "  <thead>\n",
       "    <tr style=\"text-align: right;\">\n",
       "      <th></th>\n",
       "      <th>E</th>\n",
       "      <th>ES</th>\n",
       "      <th>P</th>\n",
       "      <th>S</th>\n",
       "    </tr>\n",
       "    <tr>\n",
       "      <th>Time</th>\n",
       "      <th></th>\n",
       "      <th></th>\n",
       "      <th></th>\n",
       "      <th></th>\n",
       "    </tr>\n",
       "  </thead>\n",
       "  <tbody>\n",
       "    <tr>\n",
       "      <th>0</th>\n",
       "      <td>75</td>\n",
       "      <td>1</td>\n",
       "      <td>1</td>\n",
       "      <td>1000</td>\n",
       "    </tr>\n",
       "    <tr>\n",
       "      <th>1</th>\n",
       "      <td>0</td>\n",
       "      <td>76</td>\n",
       "      <td>18</td>\n",
       "      <td>908</td>\n",
       "    </tr>\n",
       "    <tr>\n",
       "      <th>2</th>\n",
       "      <td>2</td>\n",
       "      <td>74</td>\n",
       "      <td>36</td>\n",
       "      <td>892</td>\n",
       "    </tr>\n",
       "    <tr>\n",
       "      <th>3</th>\n",
       "      <td>0</td>\n",
       "      <td>76</td>\n",
       "      <td>57</td>\n",
       "      <td>869</td>\n",
       "    </tr>\n",
       "    <tr>\n",
       "      <th>4</th>\n",
       "      <td>1</td>\n",
       "      <td>75</td>\n",
       "      <td>81</td>\n",
       "      <td>846</td>\n",
       "    </tr>\n",
       "    <tr>\n",
       "      <th>5</th>\n",
       "      <td>0</td>\n",
       "      <td>76</td>\n",
       "      <td>100</td>\n",
       "      <td>826</td>\n",
       "    </tr>\n",
       "    <tr>\n",
       "      <th>6</th>\n",
       "      <td>0</td>\n",
       "      <td>76</td>\n",
       "      <td>122</td>\n",
       "      <td>804</td>\n",
       "    </tr>\n",
       "    <tr>\n",
       "      <th>7</th>\n",
       "      <td>1</td>\n",
       "      <td>75</td>\n",
       "      <td>143</td>\n",
       "      <td>784</td>\n",
       "    </tr>\n",
       "    <tr>\n",
       "      <th>8</th>\n",
       "      <td>1</td>\n",
       "      <td>75</td>\n",
       "      <td>167</td>\n",
       "      <td>760</td>\n",
       "    </tr>\n",
       "    <tr>\n",
       "      <th>9</th>\n",
       "      <td>1</td>\n",
       "      <td>75</td>\n",
       "      <td>200</td>\n",
       "      <td>727</td>\n",
       "    </tr>\n",
       "  </tbody>\n",
       "</table>\n",
       "</div>"
      ],
      "text/plain": [
       "       E  ES    P     S\n",
       "Time                   \n",
       "0     75   1    1  1000\n",
       "1      0  76   18   908\n",
       "2      2  74   36   892\n",
       "3      0  76   57   869\n",
       "4      1  75   81   846\n",
       "5      0  76  100   826\n",
       "6      0  76  122   804\n",
       "7      1  75  143   784\n",
       "8      1  75  167   760\n",
       "9      1  75  200   727"
      ]
     },
     "execution_count": 21,
     "metadata": {},
     "output_type": "execute_result"
    }
   ],
   "source": [
    "data = mm.simulate(0, 100, 1, method='direct')\n",
    "data.head(n=10)"
   ]
  },
  {
   "cell_type": "markdown",
   "metadata": {
    "collapsed": true
   },
   "source": [
    "### Plot stochastic time course\n",
    "Note that we can also use the `pandas`, `matplotlib` and `seaborn` libraries for plotting"
   ]
  },
  {
   "cell_type": "code",
   "execution_count": 28,
   "metadata": {
    "ExecuteTime": {
     "end_time": "2018-02-05T20:57:15.318352Z",
     "start_time": "2018-02-05T20:57:15.024746Z"
    },
    "scrolled": false
   },
   "outputs": [
    {
     "data": {
      "text/plain": [
       "<matplotlib.axes._subplots.AxesSubplot at 0x1fa3c225d68>"
      ]
     },
     "execution_count": 28,
     "metadata": {},
     "output_type": "execute_result"
    },
    {
     "data": {
      "image/png": "[encoded data removed]",
      "text/plain": [
       "<Figure size 432x288 with 1 Axes>"
      ]
     },
     "metadata": {
      "needs_background": "light"
     },
     "output_type": "display_data"
    }
   ],
   "source": [
    "import matplotlib\n",
    "import seaborn\n",
    "seaborn.set_context('notebook')\n",
    "data.plot()"
   ]
  },
  {
   "cell_type": "markdown",
   "metadata": {},
   "source": [
    "Notice how similar the stochastic simulation is to the deterministic. As the number of molecules being simulated increases, the stochastic simulation converges to the deterministic solution. Another way to put it, stochastic effects are greatest when simulating small molecule numbers"
   ]
  }
 ],
 "metadata": {
  "hide_input": false,
  "kernelspec": {
   "display_name": "Python 3",
   "language": "python",
   "name": "python3"
  },
  "language_info": {
   "codemirror_mode": {
    "name": "ipython",
    "version": 3
   },
   "file_extension": ".py",
   "mimetype": "text/x-python",
   "name": "python",
   "nbconvert_exporter": "python",
   "pygments_lexer": "ipython3",
   "version": "3.6.6"
  },
  "latex_envs": {
   "LaTeX_envs_menu_present": true,
   "autocomplete": true,
   "bibliofile": "biblio.bib",
   "cite_by": "apalike",
   "current_citInitial": 1,
   "eqLabelWithNumbers": true,
   "eqNumInitial": 1,
   "hotkeys": {
    "equation": "Ctrl-E",
    "itemize": "Ctrl-I"
   },
   "labels_anchors": false,
   "latex_user_defs": false,
   "report_style_numbering": false,
   "user_envs_cfg": false
  },
  "toc": {
   "colors": {
    "hover_highlight": "#DAA520",
    "navigate_num": "#000000",
    "navigate_text": "#333333",
    "running_highlight": "#FF0000",
    "selected_highlight": "#FFD700",
    "sidebar_border": "#EEEEEE",
    "wrapper_background": "#FFFFFF"
   },
   "moveMenuLeft": true,
   "nav_menu": {
    "height": "48px",
    "width": "252px"
   },
   "navigate_menu": true,
   "number_sections": true,
   "sideBar": true,
   "threshold": 4,
   "toc_cell": false,
   "toc_position": {
    "height": "813px",
    "left": "0px",
    "right": "1024.67px",
    "top": "131px",
    "width": "212px"
   },
   "toc_section_display": "block",
   "toc_window_display": true,
   "widenNotebook": false
  },
  "varInspector": {
   "cols": {
    "lenName": 16,
    "lenType": 16,
    "lenVar": 40
   },
   "kernels_config": {
    "python": {
     "delete_cmd_postfix": "",
     "delete_cmd_prefix": "del ",
     "library": "var_list.py",
     "varRefreshCmd": "print(var_dic_list())"
    },
    "r": {
     "delete_cmd_postfix": ") ",
     "delete_cmd_prefix": "rm(",
     "library": "var_list.r",
     "varRefreshCmd": "cat(var_dic_list()) "
    }
   },
   "types_to_exclude": [
    "module",
    "function",
    "builtin_function_or_method",
    "instance",
    "_Feature"
   ],
   "window_display": false
  }
 },
 "nbformat": 4,
 "nbformat_minor": 2
}
