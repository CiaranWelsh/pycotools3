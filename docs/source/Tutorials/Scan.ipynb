{
 "cells": [
  {
   "cell_type": "markdown",
   "metadata": {},
   "source": [
    "## Parameter Scan\n",
    "Copasi supports three types of scan, a regular parameter scan, a repeat scan and sampling from a parametric distributions.\n",
    "\n",
    "We first build a model to work with throughout the tutorial."
   ]
  },
  {
   "cell_type": "code",
   "execution_count": 1,
   "metadata": {
    "ExecuteTime": {
     "end_time": "2017-11-10T12:04:00.233000Z",
     "start_time": "2017-11-10T12:03:56.465Z"
    }
   },
   "outputs": [
    {
     "name": "stderr",
     "output_type": "stream",
     "text": [
      "The BuildAntimony context manager is deprecated and will be removed in future versions. Please use model.loada instead.\n"
     ]
    },
    {
     "data": {
      "text/plain": [
       "Model(name=michaelis_menten, time_unit=s, volume_unit=l, quantity_unit=mol)"
      ]
     },
     "execution_count": 1,
     "metadata": {},
     "output_type": "execute_result"
    }
   ],
   "source": [
    "import os\n",
    "import site\n",
    "from pycotools3 import model, tasks, viz\n",
    "import pandas\n",
    "\n",
    "working_directory = r'/home/ncw135/Documents/pycotools3/docs/source/Tutorials/timecourse_tutorial'\n",
    "if not os.path.isdir(working_directory):\n",
    "    os.makedirs(working_directory)\n",
    "    \n",
    "copasi_file = os.path.join(working_directory, 'michaelis_menten.cps')\n",
    "\n",
    "if os.path.isfile(copasi_file):\n",
    "    os.remove(copasi_file)\n",
    "    \n",
    "antimony_string = \"\"\"\n",
    "model michaelis_menten()\n",
    "    compartment cell = 1.0\n",
    "    var E in cell\n",
    "    var S in cell\n",
    "    var ES in cell\n",
    "    var P in cell\n",
    "\n",
    "    kf = 0.1\n",
    "    kb = 1\n",
    "    kcat = 0.3\n",
    "    E = 75\n",
    "    S = 1000\n",
    "\n",
    "    SBindE: S + E => ES; kf*S*E\n",
    "    ESUnbind: ES => S + E; kb*ES\n",
    "    ProdForm: ES => P + E; kcat*ES\n",
    "end\n",
    "\"\"\"\n",
    "\n",
    "with model.BuildAntimony(copasi_file) as loader:\n",
    "    mm = loader.load(antimony_string)\n",
    "    \n",
    "    \n",
    "mm"
   ]
  },
  {
   "cell_type": "code",
   "execution_count": 2,
   "metadata": {
    "ExecuteTime": {
     "end_time": "2017-11-10T12:04:00.240000Z",
     "start_time": "2017-11-10T12:03:56.513Z"
    },
    "scrolled": true
   },
   "outputs": [
    {
     "data": {
      "text/plain": [
       "True"
      ]
     },
     "execution_count": 2,
     "metadata": {},
     "output_type": "execute_result"
    }
   ],
   "source": [
    "S = tasks.Scan(\n",
    "    mm, scan_type='scan', subtask='time_course', report_type='time_course',\n",
    "    report_name = 'ParameterScanOfTimeCourse.txt', variable='S',\n",
    "    minimum=1, maximum=20, number_of_steps=8, run=True,\n",
    ")\n",
    "\n",
    "## Now check parameter scan data exists\n",
    "os.path.isfile(S.report_name)"
   ]
  },
  {
   "cell_type": "markdown",
   "metadata": {},
   "source": [
    "### Two Way Parameter Scan\n",
    "By default, scan tasks are removed before setting up a new scan. To set up dual scans, set  clear_scans to False in a  second call to `Scan` so that the first is not removed prior to adding the second."
   ]
  },
  {
   "cell_type": "code",
   "execution_count": 3,
   "metadata": {
    "ExecuteTime": {
     "end_time": "2017-11-10T12:04:00.243000Z",
     "start_time": "2017-11-10T12:03:56.533Z"
    }
   },
   "outputs": [
    {
     "data": {
      "text/plain": [
       "True"
      ]
     },
     "execution_count": 3,
     "metadata": {},
     "output_type": "execute_result"
    }
   ],
   "source": [
    "## Clear scans for setting up first scan\n",
    "tasks.Scan(\n",
    "    mm, scan_type='scan', subtask='time_course', report_type='time_course',\n",
    "    variable='E', minimum=1, maximum=20, number_of_steps=8, run=False, clear_scan=True,\n",
    ")\n",
    "\n",
    "## do not clear tasks when setting up the second\n",
    "S = tasks.Scan(\n",
    "    mm, scan_type='scan', subtask='time_course', report_type='time_course',\n",
    "    report_name = 'TwoWayParameterScanOfTimeCourse.csv', variable='S',\n",
    "    minimum=1, maximum=20, number_of_steps=8, run=True, clear_scan=False,\n",
    ")\n",
    "\n",
    "## check the output exists\n",
    "os.path.isfile(S.report_name)"
   ]
  },
  {
   "cell_type": "markdown",
   "metadata": {},
   "source": [
    "An arbitrary number of scans can be setup this way. Further, its possible to chain together scans with repeat or random distribution scans."
   ]
  },
  {
   "cell_type": "markdown",
   "metadata": {},
   "source": [
    "### Repeat Scan Items\n",
    "Repeat scans are very useful for running multiple parameter estimations and for running stochastic time courses."
   ]
  },
  {
   "cell_type": "code",
   "execution_count": 4,
   "metadata": {
    "ExecuteTime": {
     "end_time": "2017-11-10T12:04:00.246000Z",
     "start_time": "2017-11-10T12:03:56.574Z"
    }
   },
   "outputs": [
    {
     "data": {
      "text/plain": [
       "<pycotools3.tasks.Scan at 0x1cb859370b8>"
      ]
     },
     "execution_count": 4,
     "metadata": {},
     "output_type": "execute_result"
    }
   ],
   "source": [
    "## Assume Parameter Estimation task already configured\n",
    "tasks.Scan(\n",
    "    mm, scan_type='repeat', subtask='parameter_estimation', report_type='parameter_estimation',\n",
    "    number_of_steps=6, run=False, ##set run to True to run via CopasiSE\n",
    ")\n",
    "\n",
    "\n",
    "## Assume model runs stochastically and time course settings are already configured\n",
    "tasks.Scan(\n",
    "    mm, scan_type='repeat', subtask='time_course', report_type='time_course',\n",
    "    number_of_steps=100, run=False,  ##set run to True to run via CopasiSE\n",
    ")"
   ]
  }
 ],
 "metadata": {
  "hide_input": false,
  "kernelspec": {
   "display_name": "Python 3",
   "language": "python",
   "name": "python3"
  },
  "language_info": {
   "codemirror_mode": {
    "name": "ipython",
    "version": 3
   },
   "file_extension": ".py",
   "mimetype": "text/x-python",
   "name": "python",
   "nbconvert_exporter": "python",
   "pygments_lexer": "ipython3",
   "version": "3.6.6"
  },
  "latex_envs": {
   "LaTeX_envs_menu_present": true,
   "autocomplete": true,
   "bibliofile": "biblio.bib",
   "cite_by": "apalike",
   "current_citInitial": 1,
   "eqLabelWithNumbers": true,
   "eqNumInitial": 1,
   "hotkeys": {
    "equation": "Ctrl-E",
    "itemize": "Ctrl-I"
   },
   "labels_anchors": false,
   "latex_user_defs": false,
   "report_style_numbering": false,
   "user_envs_cfg": false
  },
  "toc": {
   "colors": {
    "hover_highlight": "#DAA520",
    "navigate_num": "#000000",
    "navigate_text": "#333333",
    "running_highlight": "#FF0000",
    "selected_highlight": "#FFD700",
    "sidebar_border": "#EEEEEE",
    "wrapper_background": "#FFFFFF"
   },
   "moveMenuLeft": true,
   "nav_menu": {
    "height": "102px",
    "width": "252px"
   },
   "navigate_menu": true,
   "number_sections": true,
   "sideBar": true,
   "threshold": 4,
   "toc_cell": false,
   "toc_section_display": "block",
   "toc_window_display": true,
   "widenNotebook": false
  },
  "varInspector": {
   "cols": {
    "lenName": 16,
    "lenType": 16,
    "lenVar": 40
   },
   "kernels_config": {
    "python": {
     "delete_cmd_postfix": "",
     "delete_cmd_prefix": "del ",
     "library": "var_list.py",
     "varRefreshCmd": "print(var_dic_list())"
    },
    "r": {
     "delete_cmd_postfix": ") ",
     "delete_cmd_prefix": "rm(",
     "library": "var_list.r",
     "varRefreshCmd": "cat(var_dic_list()) "
    }
   },
   "types_to_exclude": [
    "module",
    "function",
    "builtin_function_or_method",
    "instance",
    "_Feature"
   ],
   "window_display": false
  },
  "pycharm": {
   "stem_cell": {
    "cell_type": "raw",
    "source": [],
    "metadata": {
     "collapsed": false
    }
   }
  }
 },
 "nbformat": 4,
 "nbformat_minor": 2
}