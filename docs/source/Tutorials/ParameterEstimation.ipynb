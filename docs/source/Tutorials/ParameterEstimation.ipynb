{
 "cells": [
  {
   "cell_type": "markdown",
   "metadata": {},
   "source": [
    "## Parameter Estimation"
   ]
  },
  {
   "cell_type": "code",
   "execution_count": 1,
   "metadata": {
    "ExecuteTime": {
     "end_time": "2018-04-20T09:52:27.017405Z",
     "start_time": "2018-04-20T09:52:27.012178Z"
    },
    "scrolled": true
   },
   "outputs": [
    {
     "ename": "ImportError",
     "evalue": "cannot import name 'models'",
     "output_type": "error",
     "traceback": [
      "\u001b[1;31m---------------------------------------------------------------------------\u001b[0m",
      "\u001b[1;31mImportError\u001b[0m                               Traceback (most recent call last)",
      "\u001b[1;32m<ipython-input-1-98638840c819>\u001b[0m in \u001b[0;36m<module>\u001b[1;34m()\u001b[0m\n\u001b[0;32m      3\u001b[0m \u001b[0msite\u001b[0m\u001b[1;33m.\u001b[0m\u001b[0maddsitedir\u001b[0m\u001b[1;33m(\u001b[0m\u001b[1;34mr'/home/ncw135/Documents/pycotools3'\u001b[0m\u001b[1;33m)\u001b[0m\u001b[1;33m\u001b[0m\u001b[0m\n\u001b[0;32m      4\u001b[0m \u001b[0msite\u001b[0m\u001b[1;33m.\u001b[0m\u001b[0maddsitedir\u001b[0m\u001b[1;33m(\u001b[0m\u001b[1;34m'D:\\pycotools3'\u001b[0m\u001b[1;33m)\u001b[0m\u001b[1;33m\u001b[0m\u001b[0m\n\u001b[1;32m----> 5\u001b[1;33m \u001b[1;32mfrom\u001b[0m \u001b[0mpycotools3\u001b[0m \u001b[1;32mimport\u001b[0m \u001b[0mviz\u001b[0m\u001b[1;33m,\u001b[0m \u001b[0mmodel\u001b[0m\u001b[1;33m,\u001b[0m \u001b[0mmisc\u001b[0m\u001b[1;33m,\u001b[0m \u001b[0mtasks\u001b[0m\u001b[1;33m,\u001b[0m \u001b[0mmodels\u001b[0m\u001b[1;33m\u001b[0m\u001b[0m\n\u001b[0m\u001b[0;32m      6\u001b[0m \u001b[1;32mfrom\u001b[0m \u001b[0mio\u001b[0m \u001b[1;32mimport\u001b[0m \u001b[0mStringIO\u001b[0m\u001b[1;33m\u001b[0m\u001b[0m\n\u001b[0;32m      7\u001b[0m \u001b[1;32mimport\u001b[0m \u001b[0mpandas\u001b[0m\u001b[1;33m\u001b[0m\u001b[0m\n",
      "\u001b[1;31mImportError\u001b[0m: cannot import name 'models'"
     ]
    }
   ],
   "source": [
    "import os, glob\n",
    "import site\n",
    "site.addsitedir(r'/home/ncw135/Documents/pycotools3')\n",
    "site.addsitedir('D:\\pycotools3')\n",
    "from pycotools3 import viz, model, misc, tasks, models\n",
    "from io import StringIO\n",
    "import pandas\n",
    "%matplotlib inline"
   ]
  },
  {
   "cell_type": "markdown",
   "metadata": {},
   "source": [
    "### Build a Model"
   ]
  },
  {
   "cell_type": "code",
   "execution_count": null,
   "metadata": {
    "ExecuteTime": {
     "end_time": "2018-03-23T10:25:57.881079Z",
     "start_time": "2018-03-23T10:25:52.590150Z"
    }
   },
   "outputs": [],
   "source": [
    "working_directory = os.path.abspath('')\n",
    "\n",
    "copasi_file = os.path.join(working_directory, 'negative_feedback.cps')\n",
    "\n",
    "with model.BuildAntimony(copasi_file) as loader:\n",
    "    mod = loader.load(\n",
    "        \"\"\"\n",
    "        model negative_feedback\n",
    "            compartment cell = 1.0\n",
    "            var A in cell\n",
    "            var B in cell\n",
    "\n",
    "            vAProd = 0.1\n",
    "            kADeg = 0.2\n",
    "            kBProd = 0.3\n",
    "            kBDeg = 0.4\n",
    "            A = 0\n",
    "            B = 0\n",
    "\n",
    "            AProd: => A; cell*vAProd\n",
    "            ADeg: A =>; cell*kADeg*A*B\n",
    "            BProd: => B; cell*kBProd*A\n",
    "            BDeg: B => ; cell*kBDeg*B\n",
    "        end\n",
    "        \"\"\"\n",
    "    )\n",
    "\n",
    "## open model in copasi\n",
    "#mod.open()\n",
    "mod"
   ]
  },
  {
   "cell_type": "markdown",
   "metadata": {},
   "source": [
    "### Collect some experimental data\n",
    "Organise your experimental data into delimited text files"
   ]
  },
  {
   "cell_type": "code",
   "execution_count": null,
   "metadata": {},
   "outputs": [],
   "source": [
    "experimental_data = StringIO(\n",
    "    \"\"\"\n",
    "Time,A,B\n",
    " 0, 0.000000, 0.000000\n",
    " 1, 0.099932, 0.013181\n",
    " 2, 0.199023, 0.046643\n",
    " 3, 0.295526, 0.093275\n",
    " 4, 0.387233, 0.147810\n",
    " 5, 0.471935, 0.206160\n",
    " 6, 0.547789, 0.265083\n",
    " 7, 0.613554, 0.322023\n",
    " 8, 0.668702, 0.375056\n",
    " 9, 0.713393, 0.422852\n",
    "10, 0.748359, 0.464639\n",
    "    \"\"\".strip()\n",
    ")\n",
    "\n",
    "df = pandas.read_csv(experimental_data, index_col=0)\n",
    "\n",
    "fname = os.path.join(os.path.abspath(''), 'experimental_data.csv')\n",
    "df.to_csv(fname)\n",
    "\n",
    "assert os.path.isfile(fname)"
   ]
  },
  {
   "cell_type": "markdown",
   "metadata": {},
   "source": [
    "### The Config Object\n",
    "The interface to COPASI's parameter estimation using `pycotools3` revolves around the `ParameterEstimation.Config` object. `ParameterEstimation.Config` is a dictionary-like object which allows the user to define their parameter estimation problem. All features of COPASI's parameter estimations task are supported, including configuration of `validation experiments`, `affected experiments`, `affected validation experiments` and `constraints` as well additional features such as the configuration of multiple models simultaneously via the `affected_models` keyword.\n",
    "\n",
    "The `ParameterEstimation.Config` object expects at the bare minimum some information about the models being configured, some experimental data, some fit items and a working directory. The remaining options are automatically filled in with defaults. "
   ]
  },
  {
   "cell_type": "code",
   "execution_count": null,
   "metadata": {},
   "outputs": [],
   "source": [
    "config = tasks.ParameterEstimation.Config(\n",
    "    models=dict(\n",
    "        negative_feedback=dict(\n",
    "            copasi_file=copasi_file\n",
    "        )\n",
    "    ),\n",
    "    datasets=dict(\n",
    "        experiments=dict(\n",
    "            first_dataset=dict(\n",
    "                filename=fname,    \n",
    "                separator=','\n",
    "            )\n",
    "        )\n",
    "    ),\n",
    "    items=dict(\n",
    "        fit_items=dict(\n",
    "            A={},\n",
    "            B={},\n",
    "        )\n",
    "    ),\n",
    "    settings=dict(\n",
    "        working_directory=working_directory\n",
    "    )\n",
    ")\n",
    "config"
   ]
  },
  {
   "cell_type": "markdown",
   "metadata": {},
   "source": [
    "The COPASI user will be familiar with most of these settings, though there are also a few [additional options](link/to/additional/options).\n",
    "\n",
    "Once built, a `ParameterEstimation.Config` object can be passed to `ParameterEstimation` object. "
   ]
  },
  {
   "cell_type": "code",
   "execution_count": null,
   "metadata": {},
   "outputs": [],
   "source": [
    "PE = tasks.ParameterEstimation(config)"
   ]
  },
  {
   "cell_type": "markdown",
   "metadata": {},
   "source": [
    "By default, the `run_mode` setting is set to False. To run the parameter estimation in background processes using CopasiSE, set `run_mode` to `True` or `parallel`. "
   ]
  },
  {
   "cell_type": "code",
   "execution_count": null,
   "metadata": {
    "scrolled": true
   },
   "outputs": [],
   "source": [
    "config.settings.run_mode = True\n",
    "PE = tasks.ParameterEstimation(config)\n",
    "viz.Parse(PE)['negative_feedback']\n",
    "# config"
   ]
  },
  {
   "cell_type": "markdown",
   "metadata": {},
   "source": [
    "### Running multiple parameter estimations\n",
    "With pycotools, parameter estimations are run via the scan task interface so that we have the option of running the same problem `pe_number` times. Additionally, pycotools provides a way of copying a model `copy_number` times so that the final number of parameter estimations that get executed is $pe\\_number`\\cdot`copy\\_number`$.    "
   ]
  },
  {
   "cell_type": "code",
   "execution_count": null,
   "metadata": {},
   "outputs": [],
   "source": [
    "config.settings.copy_number = 4\n",
    "config.settings.pe_number = 2\n",
    "config.settings.run_mode = True\n",
    "PE = tasks.ParameterEstimation(config)"
   ]
  },
  {
   "cell_type": "markdown",
   "metadata": {},
   "source": [
    "And sure enough we have ran the problem 8 times. "
   ]
  },
  {
   "cell_type": "code",
   "execution_count": null,
   "metadata": {
    "scrolled": true
   },
   "outputs": [],
   "source": [
    "viz.Parse(PE)['negative_feedback']"
   ]
  },
  {
   "cell_type": "markdown",
   "metadata": {},
   "source": [
    "## A shortcut for configuring the `ParameterEstimation.Config` object\n",
    "Manually configuring the `ParameterEstimation.Config` object can take some time as it is bulky, but necessarily so in order to enable users to configure any type of parameter estimation. The `ParameterEstimation.Config` class should be used directly when a lower level interface into COPASI configurations are required. For instance, if you want to configure different boundaries for each parameter, choose which parameters are affected by which experiment, mix timecourse and steasy state experiments, define independent variables, add constraints or choose which models are affected by which experiments, you can use the `ParameterEstimation.Config` class directly.\n",
    "\n",
    "However, if you want a more standard configuration such as all parameters estimated between the same boundaries, all experiments affecting all parameters and models etc.. then you can use the `ParameterEstimation.Context` class to build the `ParameterEstimation.Config` class for you. The `ParameterEstimation.Context` class has a `context` argument that defaults to `'s'` for `simple`. While not yet implemented, everntually, alternative options for `context` will be provided to support other common patters, such as `cross_validation` or `chaser_estimations` (global followed by local algorithm). Note that an option is no longer required for `model_selection` since it is innately incorporated via the `affected_models` argument. \n",
    "\n",
    "To use the `ParameterEstimation.Context` object"
   ]
  },
  {
   "cell_type": "code",
   "execution_count": null,
   "metadata": {},
   "outputs": [],
   "source": [
    "with tasks.ParameterEstimation.Context(mod, fname, context='s', parameters='g') as context:\n",
    "    context.set('method', 'genetic_algorithm')\n",
    "    context.set('population_size', 10)\n",
    "    context.set('copy_number', 4)\n",
    "    context.set('pe_number', 2)\n",
    "    context.set('run_mode', True)\n",
    "    context.set('separator', ',')\n",
    "    config = context.get_config()\n",
    "    \n",
    "pe = tasks.ParameterEstimation(config)"
   ]
  },
  {
   "cell_type": "markdown",
   "metadata": {},
   "source": [
    "The `parameters` keyword provides an easy interface for parameter selection. Here are the available options:\n",
    "\n",
    "    * `g` specifies that all global variables are to be estimated\n",
    "    * `l` specifies that all local parameters are to be estimated\n",
    "    * `m` specifies that all metabolites are to be estimated\n",
    "    * `c` specifies that all compartment volumes are to be estimated\n",
    "    * `a` specifies that all of the above will be estimated\n",
    "    \n",
    "These options can also be combined. For example, `parameters='cgm'` means that compartment volumes, global quantities and metabolite concentrations (or particle numbers) will be estimated."
   ]
  },
  {
   "cell_type": "code",
   "execution_count": null,
   "metadata": {
    "scrolled": false
   },
   "outputs": [],
   "source": [
    "viz.Parse(pe)['negative_feedback']"
   ]
  }
 ],
 "metadata": {
  "hide_input": false,
  "kernelspec": {
   "display_name": "Python 3",
   "language": "python",
   "name": "python3"
  },
  "language_info": {
   "codemirror_mode": {
    "name": "ipython",
    "version": 3
   },
   "file_extension": ".py",
   "mimetype": "text/x-python",
   "name": "python",
   "nbconvert_exporter": "python",
   "pygments_lexer": "ipython3",
   "version": "3.6.6"
  },
  "latex_envs": {
   "LaTeX_envs_menu_present": true,
   "autocomplete": true,
   "bibliofile": "biblio.bib",
   "cite_by": "apalike",
   "current_citInitial": 1,
   "eqLabelWithNumbers": true,
   "eqNumInitial": 1,
   "hotkeys": {
    "equation": "Ctrl-E",
    "itemize": "Ctrl-I"
   },
   "labels_anchors": false,
   "latex_user_defs": false,
   "report_style_numbering": false,
   "user_envs_cfg": false
  },
  "toc": {
   "colors": {
    "hover_highlight": "#DAA520",
    "navigate_num": "#000000",
    "navigate_text": "#333333",
    "running_highlight": "#FF0000",
    "selected_highlight": "#FFD700",
    "sidebar_border": "#EEEEEE",
    "wrapper_background": "#FFFFFF"
   },
   "moveMenuLeft": true,
   "nav_menu": {
    "height": "369px",
    "width": "252px"
   },
   "navigate_menu": true,
   "number_sections": true,
   "sideBar": true,
   "threshold": 4,
   "toc_cell": false,
   "toc_section_display": "block",
   "toc_window_display": false,
   "widenNotebook": false
  },
  "varInspector": {
   "cols": {
    "lenName": 16,
    "lenType": 16,
    "lenVar": 40
   },
   "kernels_config": {
    "python": {
     "delete_cmd_postfix": "",
     "delete_cmd_prefix": "del ",
     "library": "var_list.py",
     "varRefreshCmd": "print(var_dic_list())"
    },
    "r": {
     "delete_cmd_postfix": ") ",
     "delete_cmd_prefix": "rm(",
     "library": "var_list.r",
     "varRefreshCmd": "cat(var_dic_list()) "
    }
   },
   "types_to_exclude": [
    "module",
    "function",
    "builtin_function_or_method",
    "instance",
    "_Feature"
   ],
   "window_display": false
  }
 },
 "nbformat": 4,
 "nbformat_minor": 2
}
