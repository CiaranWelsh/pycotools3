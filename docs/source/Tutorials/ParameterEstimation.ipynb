{
 "cells": [
  {
   "cell_type": "markdown",
   "metadata": {},
   "source": [
    "## Parameter Estimation Tutorial"
   ]
  },
  {
   "cell_type": "code",
   "execution_count": 1,
   "metadata": {
    "ExecuteTime": {
     "end_time": "2018-04-20T09:52:27.017405Z",
     "start_time": "2018-04-20T09:52:27.012178Z"
    },
    "scrolled": true
   },
   "outputs": [],
   "source": [
    "import os, glob\n",
    "import site\n",
    "site.addsitedir(r'/home/ncw135/Documents/pycotools3')\n",
    "site.addsitedir('D:\\pycotools3')\n",
    "from pycotools3 import viz, model, misc, tasks, models\n",
    "from io import StringIO\n",
    "import pandas\n",
    "%matplotlib inline"
   ]
  },
  {
   "cell_type": "markdown",
   "metadata": {},
   "source": [
    "### Build a Model"
   ]
  },
  {
   "cell_type": "code",
   "execution_count": 2,
   "metadata": {
    "ExecuteTime": {
     "end_time": "2018-03-23T10:25:57.881079Z",
     "start_time": "2018-03-23T10:25:52.590150Z"
    }
   },
   "outputs": [
    {
     "data": {
      "text/plain": [
       "Model(name=negative_feedback, time_unit=s, volume_unit=l, quantity_unit=mol)"
      ]
     },
     "execution_count": 2,
     "metadata": {},
     "output_type": "execute_result"
    }
   ],
   "source": [
    "working_directory = os.path.abspath('')\n",
    "\n",
    "copasi_file = os.path.join(working_directory, 'negative_feedback.cps')\n",
    "\n",
    "with model.BuildAntimony(copasi_file) as loader:\n",
    "    mod = loader.load(\n",
    "        \"\"\"\n",
    "        model negative_feedback\n",
    "            compartment cell = 1.0\n",
    "            var A in cell\n",
    "            var B in cell\n",
    "\n",
    "            vAProd = 0.1\n",
    "            kADeg = 0.2\n",
    "            kBProd = 0.3\n",
    "            kBDeg = 0.4\n",
    "            A = 0\n",
    "            B = 0\n",
    "\n",
    "            AProd: => A; cell*vAProd\n",
    "            ADeg: A =>; cell*kADeg*A*B\n",
    "            BProd: => B; cell*kBProd*A\n",
    "            BDeg: B => ; cell*kBDeg*B\n",
    "        end\n",
    "        \"\"\"\n",
    "    )\n",
    "\n",
    "## open model in copasi\n",
    "#mod.open()\n",
    "mod"
   ]
  },
  {
   "cell_type": "markdown",
   "metadata": {},
   "source": [
    "### Collect some experimental data\n",
    "Organise your experimental data into delimited text files"
   ]
  },
  {
   "cell_type": "code",
   "execution_count": 3,
   "metadata": {},
   "outputs": [],
   "source": [
    "experimental_data = StringIO(\n",
    "    \"\"\"\n",
    "Time,A,B\n",
    " 0, 0.000000, 0.000000\n",
    " 1, 0.099932, 0.013181\n",
    " 2, 0.199023, 0.046643\n",
    " 3, 0.295526, 0.093275\n",
    " 4, 0.387233, 0.147810\n",
    " 5, 0.471935, 0.206160\n",
    " 6, 0.547789, 0.265083\n",
    " 7, 0.613554, 0.322023\n",
    " 8, 0.668702, 0.375056\n",
    " 9, 0.713393, 0.422852\n",
    "10, 0.748359, 0.464639\n",
    "    \"\"\".strip()\n",
    ")\n",
    "\n",
    "df = pandas.read_csv(experimental_data, index_col=0)\n",
    "\n",
    "fname = os.path.join(os.path.abspath(''), 'experimental_data.csv')\n",
    "df.to_csv(fname)\n",
    "\n",
    "assert os.path.isfile(fname)"
   ]
  },
  {
   "cell_type": "markdown",
   "metadata": {},
   "source": [
    "### The Config Object\n",
    "The interface to COPASI's parameter estimation using `pycotools3` revolves around the `ParameterEstimation.Config` object. `ParameterEstimation.Config` is a dictionary-like object which allows the user to define their parameter estimation problem. All features of COPASI's parameter estimations task are supported, including configuration of `validation experiments`, `affected experiments`, `affected validation experiments` and `constraints` as well additional features such as the configuration of multiple models simultaneously via the `affected_models` keyword.\n",
    "\n",
    "The `ParameterEstimation.Config` object expects at the bare minimum some information about the models being configured, some experimental data, some fit items and a working directory. The remaining options are automatically filled in with defaults. "
   ]
  },
  {
   "cell_type": "code",
   "execution_count": 4,
   "metadata": {},
   "outputs": [
    {
     "data": {
      "text/plain": [
       "datasets:\n",
       "    experiments:\n",
       "        first_dataset:\n",
       "            affected_models: negative_feedback\n",
       "            filename: D:\\pycotools3\\docs\\source\\Tutorials\\experimental_data.csv\n",
       "            mappings:\n",
       "                A:\n",
       "                    model_object: A\n",
       "                    object_type: Metabolite\n",
       "                    role: dependent\n",
       "                B:\n",
       "                    model_object: B\n",
       "                    object_type: Metabolite\n",
       "                    role: dependent\n",
       "                Time:\n",
       "                    model_object: Time\n",
       "                    role: time\n",
       "            normalize_weights_per_experiment: true\n",
       "            separator: ','\n",
       "    validations: {}\n",
       "items:\n",
       "    fit_items:\n",
       "        A:\n",
       "            affected_experiments:\n",
       "            - first_dataset\n",
       "            affected_models:\n",
       "            - negative_feedback\n",
       "            affected_validation_experiments: []\n",
       "            lower_bound: 1.0e-06\n",
       "            start_value: model_value\n",
       "            upper_bound: 1000000\n",
       "        B:\n",
       "            affected_experiments:\n",
       "            - first_dataset\n",
       "            affected_models:\n",
       "            - negative_feedback\n",
       "            affected_validation_experiments: []\n",
       "            lower_bound: 1.0e-06\n",
       "            start_value: model_value\n",
       "            upper_bound: 1000000\n",
       "models:\n",
       "    negative_feedback:\n",
       "        copasi_file: D:\\pycotools3\\docs\\source\\Tutorials\\negative_feedback.cps\n",
       "        model: Model(name=negative_feedback, time_unit=s, volume_unit=l, quantity_unit=mol)\n",
       "settings:\n",
       "    calculate_statistics: false\n",
       "    config_filename: config.yml\n",
       "    cooling_factor: 0.85\n",
       "    copy_number: 1\n",
       "    create_parameter_sets: false\n",
       "    fit: 1\n",
       "    iteration_limit: 50\n",
       "    lower_bound: 1.0e-06\n",
       "    max_active: 3\n",
       "    method: genetic_algorithm\n",
       "    number_of_generations: 200\n",
       "    number_of_iterations: 100000\n",
       "    overwrite_config_file: false\n",
       "    pe_number: 1\n",
       "    pf: 0.475\n",
       "    population_size: 50\n",
       "    prefix: null\n",
       "    problem: 1\n",
       "    quantity_type: concentration\n",
       "    random_number_generator: 1\n",
       "    randomize_start_values: false\n",
       "    report_name: PEData.txt\n",
       "    results_directory: ParameterEstimationData\n",
       "    rho: 0.2\n",
       "    run_mode: false\n",
       "    save: false\n",
       "    scale: 10\n",
       "    seed: 0\n",
       "    start_temperature: 1\n",
       "    start_value: 0.1\n",
       "    std_deviation: 1.0e-06\n",
       "    swarm_size: 50\n",
       "    tolerance: 1.0e-05\n",
       "    update_model: false\n",
       "    upper_bound: 1000000\n",
       "    use_config_start_values: false\n",
       "    validation_threshold: 5\n",
       "    validation_weight: 1\n",
       "    weight_method: mean_squared\n",
       "    working_directory: D:\\pycotools3\\docs\\source\\Tutorials"
      ]
     },
     "execution_count": 4,
     "metadata": {},
     "output_type": "execute_result"
    }
   ],
   "source": [
    "config = tasks.ParameterEstimation.Config(\n",
    "    models=dict(\n",
    "        negative_feedback=dict(\n",
    "            copasi_file=copasi_file\n",
    "        )\n",
    "    ),\n",
    "    datasets=dict(\n",
    "        experiments=dict(\n",
    "            first_dataset=dict(\n",
    "                filename=fname,    \n",
    "                separator=','\n",
    "            )\n",
    "        )\n",
    "    ),\n",
    "    items=dict(\n",
    "        fit_items=dict(\n",
    "            A={},\n",
    "            B={},\n",
    "        )\n",
    "    ),\n",
    "    settings=dict(\n",
    "        working_directory=working_directory\n",
    "    )\n",
    ")\n",
    "config"
   ]
  },
  {
   "cell_type": "markdown",
   "metadata": {},
   "source": [
    "The COPASI user will be familiar with most of these settings, though there are also a few [additional options](link/to/additional/options).\n",
    "\n",
    "Once built, a `ParameterEstimation.Config` object can be passed to `ParameterEstimation` object. "
   ]
  },
  {
   "cell_type": "code",
   "execution_count": 5,
   "metadata": {},
   "outputs": [],
   "source": [
    "PE = tasks.ParameterEstimation(config)"
   ]
  },
  {
   "cell_type": "markdown",
   "metadata": {},
   "source": [
    "By default, the `run_mode` setting is set to False. To run the parameter estimation in background processes using CopasiSE, set `run_mode` to `True` or `parallel`. "
   ]
  },
  {
   "cell_type": "code",
   "execution_count": 6,
   "metadata": {
    "scrolled": false
   },
   "outputs": [
    {
     "name": "stderr",
     "output_type": "stream",
     "text": [
      "D:\\pycotools3\\pycotools3\\viz.py:764: FutureWarning:\n",
      "\n",
      "Sorting because non-concatenation axis is not aligned. A future version\n",
      "of pandas will change to not sort by default.\n",
      "\n",
      "To accept the future behavior, pass 'sort=False'.\n",
      "\n",
      "To retain the current behavior and silence the warning, pass 'sort=True'.\n",
      "\n",
      "\n"
     ]
    },
    {
     "data": {
      "text/html": [
       "<div>\n",
       "<style scoped>\n",
       "    .dataframe tbody tr th:only-of-type {\n",
       "        vertical-align: middle;\n",
       "    }\n",
       "\n",
       "    .dataframe tbody tr th {\n",
       "        vertical-align: top;\n",
       "    }\n",
       "\n",
       "    .dataframe thead th {\n",
       "        text-align: right;\n",
       "    }\n",
       "</style>\n",
       "<table border=\"1\" class=\"dataframe\">\n",
       "  <thead>\n",
       "    <tr style=\"text-align: right;\">\n",
       "      <th></th>\n",
       "      <th>A</th>\n",
       "      <th>B</th>\n",
       "      <th>RSS</th>\n",
       "      <th>kADeg</th>\n",
       "      <th>kBDeg</th>\n",
       "      <th>kBProd</th>\n",
       "      <th>vAProd</th>\n",
       "    </tr>\n",
       "  </thead>\n",
       "  <tbody>\n",
       "    <tr>\n",
       "      <th>0</th>\n",
       "      <td>NaN</td>\n",
       "      <td>NaN</td>\n",
       "      <td>8.851340e-13</td>\n",
       "      <td>0.2</td>\n",
       "      <td>0.4</td>\n",
       "      <td>0.3</td>\n",
       "      <td>0.1</td>\n",
       "    </tr>\n",
       "    <tr>\n",
       "      <th>1</th>\n",
       "      <td>NaN</td>\n",
       "      <td>NaN</td>\n",
       "      <td>8.851340e-13</td>\n",
       "      <td>0.2</td>\n",
       "      <td>0.4</td>\n",
       "      <td>0.3</td>\n",
       "      <td>0.1</td>\n",
       "    </tr>\n",
       "    <tr>\n",
       "      <th>2</th>\n",
       "      <td>NaN</td>\n",
       "      <td>NaN</td>\n",
       "      <td>8.851340e-13</td>\n",
       "      <td>0.2</td>\n",
       "      <td>0.4</td>\n",
       "      <td>0.3</td>\n",
       "      <td>0.1</td>\n",
       "    </tr>\n",
       "    <tr>\n",
       "      <th>3</th>\n",
       "      <td>NaN</td>\n",
       "      <td>NaN</td>\n",
       "      <td>8.851340e-13</td>\n",
       "      <td>0.2</td>\n",
       "      <td>0.4</td>\n",
       "      <td>0.3</td>\n",
       "      <td>0.1</td>\n",
       "    </tr>\n",
       "    <tr>\n",
       "      <th>4</th>\n",
       "      <td>NaN</td>\n",
       "      <td>NaN</td>\n",
       "      <td>8.851340e-13</td>\n",
       "      <td>0.2</td>\n",
       "      <td>0.4</td>\n",
       "      <td>0.3</td>\n",
       "      <td>0.1</td>\n",
       "    </tr>\n",
       "    <tr>\n",
       "      <th>5</th>\n",
       "      <td>NaN</td>\n",
       "      <td>NaN</td>\n",
       "      <td>8.851340e-13</td>\n",
       "      <td>0.2</td>\n",
       "      <td>0.4</td>\n",
       "      <td>0.3</td>\n",
       "      <td>0.1</td>\n",
       "    </tr>\n",
       "    <tr>\n",
       "      <th>6</th>\n",
       "      <td>0.000001</td>\n",
       "      <td>0.000001</td>\n",
       "      <td>7.955450e-12</td>\n",
       "      <td>NaN</td>\n",
       "      <td>NaN</td>\n",
       "      <td>NaN</td>\n",
       "      <td>NaN</td>\n",
       "    </tr>\n",
       "  </tbody>\n",
       "</table>\n",
       "</div>"
      ],
      "text/plain": [
       "          A         B           RSS  kADeg  kBDeg  kBProd  vAProd\n",
       "0       NaN       NaN  8.851340e-13    0.2    0.4     0.3     0.1\n",
       "1       NaN       NaN  8.851340e-13    0.2    0.4     0.3     0.1\n",
       "2       NaN       NaN  8.851340e-13    0.2    0.4     0.3     0.1\n",
       "3       NaN       NaN  8.851340e-13    0.2    0.4     0.3     0.1\n",
       "4       NaN       NaN  8.851340e-13    0.2    0.4     0.3     0.1\n",
       "5       NaN       NaN  8.851340e-13    0.2    0.4     0.3     0.1\n",
       "6  0.000001  0.000001  7.955450e-12    NaN    NaN     NaN     NaN"
      ]
     },
     "execution_count": 6,
     "metadata": {},
     "output_type": "execute_result"
    }
   ],
   "source": [
    "config.settings.run_mode = True\n",
    "PE = tasks.ParameterEstimation(config)\n",
    "viz.Parse(PE)['negative_feedback']\n",
    "# config"
   ]
  },
  {
   "cell_type": "markdown",
   "metadata": {},
   "source": [
    "### Running multiple parameter estimations\n",
    "With pycotools, parameter estimations are run via the scan task interface so that we have the option of running the same problem `pe_number` times. Additionally, pycotools provides a way of copying a model `copy_number` times so that the final number of parameter estimations that get executed is $pe\\_number`\\cdot`copy\\_number`$.    "
   ]
  },
  {
   "cell_type": "code",
   "execution_count": 7,
   "metadata": {},
   "outputs": [],
   "source": [
    "config.settings.copy_number = 4\n",
    "config.settings.pe_number = 2\n",
    "config.settings.run_mode = True\n",
    "PE = tasks.ParameterEstimation(config)"
   ]
  },
  {
   "cell_type": "markdown",
   "metadata": {},
   "source": [
    "And sure enough we have ran the problem 8 times. "
   ]
  },
  {
   "cell_type": "code",
   "execution_count": 8,
   "metadata": {
    "scrolled": true
   },
   "outputs": [
    {
     "data": {
      "text/html": [
       "<div>\n",
       "<style scoped>\n",
       "    .dataframe tbody tr th:only-of-type {\n",
       "        vertical-align: middle;\n",
       "    }\n",
       "\n",
       "    .dataframe tbody tr th {\n",
       "        vertical-align: top;\n",
       "    }\n",
       "\n",
       "    .dataframe thead th {\n",
       "        text-align: right;\n",
       "    }\n",
       "</style>\n",
       "<table border=\"1\" class=\"dataframe\">\n",
       "  <thead>\n",
       "    <tr style=\"text-align: right;\">\n",
       "      <th></th>\n",
       "      <th>A</th>\n",
       "      <th>B</th>\n",
       "      <th>RSS</th>\n",
       "    </tr>\n",
       "  </thead>\n",
       "  <tbody>\n",
       "    <tr>\n",
       "      <th>0</th>\n",
       "      <td>0.000001</td>\n",
       "      <td>0.000001</td>\n",
       "      <td>7.955440e-12</td>\n",
       "    </tr>\n",
       "    <tr>\n",
       "      <th>1</th>\n",
       "      <td>0.000001</td>\n",
       "      <td>0.000001</td>\n",
       "      <td>7.955450e-12</td>\n",
       "    </tr>\n",
       "    <tr>\n",
       "      <th>2</th>\n",
       "      <td>0.000001</td>\n",
       "      <td>0.000001</td>\n",
       "      <td>7.955450e-12</td>\n",
       "    </tr>\n",
       "    <tr>\n",
       "      <th>3</th>\n",
       "      <td>0.000001</td>\n",
       "      <td>0.000001</td>\n",
       "      <td>7.955450e-12</td>\n",
       "    </tr>\n",
       "    <tr>\n",
       "      <th>4</th>\n",
       "      <td>0.000001</td>\n",
       "      <td>0.000001</td>\n",
       "      <td>7.955450e-12</td>\n",
       "    </tr>\n",
       "    <tr>\n",
       "      <th>5</th>\n",
       "      <td>0.000001</td>\n",
       "      <td>0.000001</td>\n",
       "      <td>7.955450e-12</td>\n",
       "    </tr>\n",
       "    <tr>\n",
       "      <th>6</th>\n",
       "      <td>0.000001</td>\n",
       "      <td>0.000001</td>\n",
       "      <td>7.955450e-12</td>\n",
       "    </tr>\n",
       "    <tr>\n",
       "      <th>7</th>\n",
       "      <td>0.000001</td>\n",
       "      <td>0.000001</td>\n",
       "      <td>7.955450e-12</td>\n",
       "    </tr>\n",
       "  </tbody>\n",
       "</table>\n",
       "</div>"
      ],
      "text/plain": [
       "          A         B           RSS\n",
       "0  0.000001  0.000001  7.955440e-12\n",
       "1  0.000001  0.000001  7.955450e-12\n",
       "2  0.000001  0.000001  7.955450e-12\n",
       "3  0.000001  0.000001  7.955450e-12\n",
       "4  0.000001  0.000001  7.955450e-12\n",
       "5  0.000001  0.000001  7.955450e-12\n",
       "6  0.000001  0.000001  7.955450e-12\n",
       "7  0.000001  0.000001  7.955450e-12"
      ]
     },
     "execution_count": 8,
     "metadata": {},
     "output_type": "execute_result"
    }
   ],
   "source": [
    "viz.Parse(PE)['negative_feedback']"
   ]
  },
  {
   "cell_type": "markdown",
   "metadata": {},
   "source": [
    "## A shortcut for configuring the `ParameterEstimation.Config` object\n",
    "Manually configuring the `ParameterEstimation.Config` object can take some time as it is bulky, but necessarily so in order to enable users to configure any type of parameter estimation. The `ParameterEstimation.Config` class should be used directly when a lower level interface into COPASI configurations are required. For instance, if you want to configure different boundaries for each parameter, choose which parameters are affected by which experiment, mix timecourse and steasy state experiments, define independent variables, add constraints or choose which models are affected by which experiments, you can use the `ParameterEstimation.Config` class directly.\n",
    "\n",
    "However, if you want a more standard configuration such as all parameters estimated between the same boundaries, all experiments affecting all parameters and models etc.. then you can use the `ParameterEstimation.Context` class to build the `ParameterEstimation.Config` class for you. The `ParameterEstimation.Context` class has a `context` argument that defaults to `'s'` for `simple`. While not yet implemented, everntually, alternative options for `context` will be provided to support other common patters, such as `cross_validation` or `chaser_estimations` (global followed by local algorithm). Note that an option is no longer required for `model_selection` since it is innately incorporated via the `affected_models` argument. \n",
    "\n",
    "To use the `ParameterEstimation.Context` object"
   ]
  },
  {
   "cell_type": "code",
   "execution_count": 10,
   "metadata": {},
   "outputs": [],
   "source": [
    "with tasks.ParameterEstimation.Context(mod, fname, context='s', parameters='g') as context:\n",
    "    context.set('method', 'genetic_algorithm')\n",
    "    context.set('population_size', 25)\n",
    "    context.set('copy_number', 4)\n",
    "    context.set('pe_number', 2)\n",
    "    context.set('run_mode', True)\n",
    "    context.set('separator', ',')\n",
    "    config = context.get_config()\n",
    "    \n",
    "pe = tasks.ParameterEstimation(config)"
   ]
  },
  {
   "cell_type": "markdown",
   "metadata": {},
   "source": [
    "The `parameters` keyword provides an easy interface for parameter selection. Here are the available options:\n",
    "\n",
    "    * `g` specifies that all global variables are to be estimated\n",
    "    * `l` specifies that all local parameters are to be estimated\n",
    "    * `m` specifies that all metabolites are to be estimated\n",
    "    * `c` specifies that all compartment volumes are to be estimated\n",
    "    * `a` specifies that all of the above will be estimated\n",
    "    \n",
    "These options can also be combined. For example, `parameters='cgm'` means that compartment volumes, global quantities and metabolite concentrations (or particle numbers) will be estimated."
   ]
  },
  {
   "cell_type": "code",
   "execution_count": 12,
   "metadata": {
    "scrolled": false
   },
   "outputs": [
    {
     "name": "stderr",
     "output_type": "stream",
     "text": [
      "No Columns to parse from file. D:\\pycotools3\\docs\\source\\Tutorials\\Problem1\\Fit1\\negative_feedback\\ParameterEstimationData\\PEData0.txt is empty. Skipping this file\n",
      "No Columns to parse from file. D:\\pycotools3\\docs\\source\\Tutorials\\Problem1\\Fit1\\negative_feedback\\ParameterEstimationData\\PEData1.txt is empty. Skipping this file\n",
      "No Columns to parse from file. D:\\pycotools3\\docs\\source\\Tutorials\\Problem1\\Fit1\\negative_feedback\\ParameterEstimationData\\PEData2.txt is empty. Skipping this file\n",
      "No Columns to parse from file. D:\\pycotools3\\docs\\source\\Tutorials\\Problem1\\Fit1\\negative_feedback\\ParameterEstimationData\\PEData3.txt is empty. Skipping this file\n"
     ]
    },
    {
     "ename": "ValueError",
     "evalue": "No objects to concatenate",
     "output_type": "error",
     "traceback": [
      "\u001b[1;31m---------------------------------------------------------------------------\u001b[0m",
      "\u001b[1;31mValueError\u001b[0m                                Traceback (most recent call last)",
      "\u001b[1;32m<ipython-input-12-e07c90d070b0>\u001b[0m in \u001b[0;36m<module>\u001b[1;34m()\u001b[0m\n\u001b[1;32m----> 1\u001b[1;33m \u001b[0mviz\u001b[0m\u001b[1;33m.\u001b[0m\u001b[0mParse\u001b[0m\u001b[1;33m(\u001b[0m\u001b[0mpe\u001b[0m\u001b[1;33m)\u001b[0m\u001b[1;33m\u001b[0m\u001b[0m\n\u001b[0m",
      "\u001b[1;32mD:\\pycotools3\\pycotools3\\viz.py\u001b[0m in \u001b[0;36m__init__\u001b[1;34m(self, cls_instance, log10, copasi_file, alpha, rss_value, num_data_points)\u001b[0m\n\u001b[0;32m    561\u001b[0m                 \u001b[1;31m#     )\u001b[0m\u001b[1;33m\u001b[0m\u001b[1;33m\u001b[0m\u001b[0m\n\u001b[0;32m    562\u001b[0m \u001b[1;33m\u001b[0m\u001b[0m\n\u001b[1;32m--> 563\u001b[1;33m         \u001b[0mself\u001b[0m\u001b[1;33m.\u001b[0m\u001b[0mdata\u001b[0m \u001b[1;33m=\u001b[0m \u001b[0mself\u001b[0m\u001b[1;33m.\u001b[0m\u001b[0mparse\u001b[0m\u001b[1;33m(\u001b[0m\u001b[1;33m)\u001b[0m\u001b[1;33m\u001b[0m\u001b[0m\n\u001b[0m\u001b[0;32m    564\u001b[0m \u001b[1;33m\u001b[0m\u001b[0m\n\u001b[0;32m    565\u001b[0m     \u001b[1;32mdef\u001b[0m \u001b[0m__str__\u001b[0m\u001b[1;33m(\u001b[0m\u001b[0mself\u001b[0m\u001b[1;33m)\u001b[0m\u001b[1;33m:\u001b[0m\u001b[1;33m\u001b[0m\u001b[0m\n",
      "\u001b[1;32mD:\\pycotools3\\pycotools3\\viz.py\u001b[0m in \u001b[0;36mparse\u001b[1;34m(self)\u001b[0m\n\u001b[0;32m    598\u001b[0m \u001b[1;33m\u001b[0m\u001b[0m\n\u001b[0;32m    599\u001b[0m         \u001b[1;32melif\u001b[0m \u001b[0mtype\u001b[0m\u001b[1;33m(\u001b[0m\u001b[0mself\u001b[0m\u001b[1;33m.\u001b[0m\u001b[0mcls_instance\u001b[0m\u001b[1;33m)\u001b[0m \u001b[1;33m==\u001b[0m \u001b[0mtasks\u001b[0m\u001b[1;33m.\u001b[0m\u001b[0mParameterEstimation\u001b[0m\u001b[1;33m:\u001b[0m\u001b[1;33m\u001b[0m\u001b[0m\n\u001b[1;32m--> 600\u001b[1;33m             \u001b[0mdata\u001b[0m \u001b[1;33m=\u001b[0m \u001b[0mself\u001b[0m\u001b[1;33m.\u001b[0m\u001b[0mfrom_multi_parameter_estimation\u001b[0m\u001b[1;33m(\u001b[0m\u001b[0mself\u001b[0m\u001b[1;33m.\u001b[0m\u001b[0mcls_instance\u001b[0m\u001b[1;33m)\u001b[0m\u001b[1;33m\u001b[0m\u001b[0m\n\u001b[0m\u001b[0;32m    601\u001b[0m \u001b[1;33m\u001b[0m\u001b[0m\n\u001b[0;32m    602\u001b[0m         \u001b[1;32melif\u001b[0m \u001b[0mtype\u001b[0m\u001b[1;33m(\u001b[0m\u001b[0mself\u001b[0m\u001b[1;33m.\u001b[0m\u001b[0mcls_instance\u001b[0m\u001b[1;33m)\u001b[0m \u001b[1;33m==\u001b[0m \u001b[0mParse\u001b[0m\u001b[1;33m:\u001b[0m\u001b[1;33m\u001b[0m\u001b[0m\n",
      "\u001b[1;32mD:\\pycotools3\\pycotools3\\viz.py\u001b[0m in \u001b[0;36mfrom_multi_parameter_estimation\u001b[1;34m(cls_instance, folder)\u001b[0m\n\u001b[0;32m    762\u001b[0m                     \u001b[0mdata\u001b[0m\u001b[1;33m.\u001b[0m\u001b[0mto_csv\u001b[0m\u001b[1;33m(\u001b[0m\u001b[0mreport_name\u001b[0m\u001b[1;33m,\u001b[0m \u001b[0msep\u001b[0m\u001b[1;33m=\u001b[0m\u001b[1;34m'\\t'\u001b[0m\u001b[1;33m,\u001b[0m \u001b[0mindex\u001b[0m\u001b[1;33m=\u001b[0m\u001b[1;32mFalse\u001b[0m\u001b[1;33m)\u001b[0m\u001b[1;33m\u001b[0m\u001b[0m\n\u001b[0;32m    763\u001b[0m                     \u001b[0mtmp_dct\u001b[0m\u001b[1;33m[\u001b[0m\u001b[0mreport_name\u001b[0m\u001b[1;33m]\u001b[0m \u001b[1;33m=\u001b[0m \u001b[0mdata\u001b[0m\u001b[1;33m\u001b[0m\u001b[0m\n\u001b[1;32m--> 764\u001b[1;33m             \u001b[0mdf\u001b[0m \u001b[1;33m=\u001b[0m \u001b[0mpandas\u001b[0m\u001b[1;33m.\u001b[0m\u001b[0mconcat\u001b[0m\u001b[1;33m(\u001b[0m\u001b[0mtmp_dct\u001b[0m\u001b[1;33m)\u001b[0m\u001b[1;33m\u001b[0m\u001b[0m\n\u001b[0m\u001b[0;32m    765\u001b[0m             \u001b[0mcolumns\u001b[0m \u001b[1;33m=\u001b[0m \u001b[0mdf\u001b[0m\u001b[1;33m.\u001b[0m\u001b[0mcolumns\u001b[0m\u001b[1;33m\u001b[0m\u001b[0m\n\u001b[0;32m    766\u001b[0m             \u001b[1;31m## reindex, drop and sort by RSS\u001b[0m\u001b[1;33m\u001b[0m\u001b[1;33m\u001b[0m\u001b[0m\n",
      "\u001b[1;32mc:\\programdata\\miniconda3\\envs\\py36\\lib\\site-packages\\pandas\\core\\reshape\\concat.py\u001b[0m in \u001b[0;36mconcat\u001b[1;34m(objs, axis, join, join_axes, ignore_index, keys, levels, names, verify_integrity, sort, copy)\u001b[0m\n\u001b[0;32m    223\u001b[0m                        \u001b[0mkeys\u001b[0m\u001b[1;33m=\u001b[0m\u001b[0mkeys\u001b[0m\u001b[1;33m,\u001b[0m \u001b[0mlevels\u001b[0m\u001b[1;33m=\u001b[0m\u001b[0mlevels\u001b[0m\u001b[1;33m,\u001b[0m \u001b[0mnames\u001b[0m\u001b[1;33m=\u001b[0m\u001b[0mnames\u001b[0m\u001b[1;33m,\u001b[0m\u001b[1;33m\u001b[0m\u001b[0m\n\u001b[0;32m    224\u001b[0m                        \u001b[0mverify_integrity\u001b[0m\u001b[1;33m=\u001b[0m\u001b[0mverify_integrity\u001b[0m\u001b[1;33m,\u001b[0m\u001b[1;33m\u001b[0m\u001b[0m\n\u001b[1;32m--> 225\u001b[1;33m                        copy=copy, sort=sort)\n\u001b[0m\u001b[0;32m    226\u001b[0m     \u001b[1;32mreturn\u001b[0m \u001b[0mop\u001b[0m\u001b[1;33m.\u001b[0m\u001b[0mget_result\u001b[0m\u001b[1;33m(\u001b[0m\u001b[1;33m)\u001b[0m\u001b[1;33m\u001b[0m\u001b[0m\n\u001b[0;32m    227\u001b[0m \u001b[1;33m\u001b[0m\u001b[0m\n",
      "\u001b[1;32mc:\\programdata\\miniconda3\\envs\\py36\\lib\\site-packages\\pandas\\core\\reshape\\concat.py\u001b[0m in \u001b[0;36m__init__\u001b[1;34m(self, objs, axis, join, join_axes, keys, levels, names, ignore_index, verify_integrity, copy, sort)\u001b[0m\n\u001b[0;32m    257\u001b[0m \u001b[1;33m\u001b[0m\u001b[0m\n\u001b[0;32m    258\u001b[0m         \u001b[1;32mif\u001b[0m \u001b[0mlen\u001b[0m\u001b[1;33m(\u001b[0m\u001b[0mobjs\u001b[0m\u001b[1;33m)\u001b[0m \u001b[1;33m==\u001b[0m \u001b[1;36m0\u001b[0m\u001b[1;33m:\u001b[0m\u001b[1;33m\u001b[0m\u001b[0m\n\u001b[1;32m--> 259\u001b[1;33m             \u001b[1;32mraise\u001b[0m \u001b[0mValueError\u001b[0m\u001b[1;33m(\u001b[0m\u001b[1;34m'No objects to concatenate'\u001b[0m\u001b[1;33m)\u001b[0m\u001b[1;33m\u001b[0m\u001b[0m\n\u001b[0m\u001b[0;32m    260\u001b[0m \u001b[1;33m\u001b[0m\u001b[0m\n\u001b[0;32m    261\u001b[0m         \u001b[1;32mif\u001b[0m \u001b[0mkeys\u001b[0m \u001b[1;32mis\u001b[0m \u001b[1;32mNone\u001b[0m\u001b[1;33m:\u001b[0m\u001b[1;33m\u001b[0m\u001b[0m\n",
      "\u001b[1;31mValueError\u001b[0m: No objects to concatenate"
     ]
    }
   ],
   "source": [
    "viz.Parse(pe)"
   ]
  }
 ],
 "metadata": {
  "hide_input": false,
  "kernelspec": {
   "display_name": "Python 3",
   "language": "python",
   "name": "python3"
  },
  "language_info": {
   "codemirror_mode": {
    "name": "ipython",
    "version": 3
   },
   "file_extension": ".py",
   "mimetype": "text/x-python",
   "name": "python",
   "nbconvert_exporter": "python",
   "pygments_lexer": "ipython3",
   "version": "3.6.6"
  },
  "latex_envs": {
   "LaTeX_envs_menu_present": true,
   "autocomplete": true,
   "bibliofile": "biblio.bib",
   "cite_by": "apalike",
   "current_citInitial": 1,
   "eqLabelWithNumbers": true,
   "eqNumInitial": 1,
   "hotkeys": {
    "equation": "Ctrl-E",
    "itemize": "Ctrl-I"
   },
   "labels_anchors": false,
   "latex_user_defs": false,
   "report_style_numbering": false,
   "user_envs_cfg": false
  },
  "toc": {
   "colors": {
    "hover_highlight": "#DAA520",
    "navigate_num": "#000000",
    "navigate_text": "#333333",
    "running_highlight": "#FF0000",
    "selected_highlight": "#FFD700",
    "sidebar_border": "#EEEEEE",
    "wrapper_background": "#FFFFFF"
   },
   "moveMenuLeft": true,
   "nav_menu": {
    "height": "369px",
    "width": "252px"
   },
   "navigate_menu": true,
   "number_sections": true,
   "sideBar": true,
   "threshold": 4,
   "toc_cell": false,
   "toc_section_display": "block",
   "toc_window_display": false,
   "widenNotebook": false
  },
  "varInspector": {
   "cols": {
    "lenName": 16,
    "lenType": 16,
    "lenVar": 40
   },
   "kernels_config": {
    "python": {
     "delete_cmd_postfix": "",
     "delete_cmd_prefix": "del ",
     "library": "var_list.py",
     "varRefreshCmd": "print(var_dic_list())"
    },
    "r": {
     "delete_cmd_postfix": ") ",
     "delete_cmd_prefix": "rm(",
     "library": "var_list.r",
     "varRefreshCmd": "cat(var_dic_list()) "
    }
   },
   "types_to_exclude": [
    "module",
    "function",
    "builtin_function_or_method",
    "instance",
    "_Feature"
   ],
   "window_display": false
  }
 },
 "nbformat": 4,
 "nbformat_minor": 2
}
