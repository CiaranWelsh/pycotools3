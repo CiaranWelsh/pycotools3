{
 "cells": [
  {
   "cell_type": "markdown",
   "metadata": {},
   "source": [
    "## Insert Parameters\n",
    "Parameters can be inserted automatically into a Copasi model.\n",
    "\n",
    "### Build a demonistration model\n",
    "While antimony or the COPASI user interface are the preferred ways to build a model, PyCoTools does have a mechanism for constructing COPASI models. For variation and demonstration, this method is used here."
   ]
  },
  {
   "cell_type": "code",
   "execution_count": 1,
   "metadata": {
    "ExecuteTime": {
     "end_time": "2018-02-03T13:54:01.530541Z",
     "start_time": "2018-02-03T13:54:01.381029Z"
    }
   },
   "outputs": [
    {
     "data": {
      "text/plain": [
       "Model(name=Michaelis-Menten, time_unit=s, volume_unit=ml, quantity_unit=mmol)"
      ]
     },
     "execution_count": 1,
     "metadata": {},
     "output_type": "execute_result"
    }
   ],
   "source": [
    "import os\n",
    "import site\n",
    "site.addsitedir('D:\\pycotools3')\n",
    "site.addsitedir('/home/ncw135/Documents/pycotools3')\n",
    "from pycotools3 import model, tasks, viz\n",
    "## Choose a working directory for model\n",
    "working_directory = os.path.abspath('')\n",
    "copasi_file = os.path.join(working_directory, 'MichaelisMenten.cps')\n",
    "\n",
    "if os.path.isfile(copasi_file):\n",
    "    os.remove(copasi_file)\n",
    "\n",
    "    \n",
    "kf = 0.01\n",
    "kb = 0.1\n",
    "kcat = 0.05\n",
    "with model.Build(copasi_file) as m:\n",
    "    m.name = 'Michaelis-Menten'\n",
    "    m.add('compartment', name='Cell')\n",
    "    \n",
    "    m.add('metabolite', name='P', concentration=0)\n",
    "    m.add('metabolite', name='S', concentration=30)\n",
    "    m.add('metabolite', name='E', concentration=10)\n",
    "    m.add('metabolite', name='ES', concentration=0)\n",
    "    \n",
    "    m.add('reaction', name='S bind E', expression='S + E -> ES', rate_law='kf*S*E',\n",
    "          parameter_values={'kf': kf})\n",
    "    \n",
    "    m.add('reaction', name='S unbind E', expression='ES -> S + E', rate_law='kb*ES',\n",
    "         parameter_values={'kb': kb})\n",
    "\n",
    "    m.add('reaction', name='ES produce P', expression='ES -> P + E', rate_law='kcat*ES', \n",
    "          parameter_values={'kcat': kcat})\n",
    "    \n",
    "mm = model.Model(copasi_file)\n",
    "mm"
   ]
  },
  {
   "cell_type": "markdown",
   "metadata": {},
   "source": [
    "### Insert Parameters from Python Dictionary"
   ]
  },
  {
   "cell_type": "code",
   "execution_count": 2,
   "metadata": {
    "ExecuteTime": {
     "end_time": "2018-02-03T13:54:02.477919Z",
     "start_time": "2018-02-03T13:54:02.416807Z"
    }
   },
   "outputs": [
    {
     "data": {
      "text/html": [
       "<div>\n",
       "<style scoped>\n",
       "    .dataframe tbody tr th:only-of-type {\n",
       "        vertical-align: middle;\n",
       "    }\n",
       "\n",
       "    .dataframe tbody tr th {\n",
       "        vertical-align: top;\n",
       "    }\n",
       "\n",
       "    .dataframe thead th {\n",
       "        text-align: right;\n",
       "    }\n",
       "</style>\n",
       "<table border=\"1\" class=\"dataframe\">\n",
       "  <thead>\n",
       "    <tr style=\"text-align: right;\">\n",
       "      <th></th>\n",
       "      <th>Parameter Value</th>\n",
       "    </tr>\n",
       "  </thead>\n",
       "  <tbody>\n",
       "    <tr>\n",
       "      <th>E</th>\n",
       "      <td>100</td>\n",
       "    </tr>\n",
       "    <tr>\n",
       "      <th>P</th>\n",
       "      <td>150</td>\n",
       "    </tr>\n",
       "  </tbody>\n",
       "</table>\n",
       "</div>"
      ],
      "text/plain": [
       "   Parameter Value\n",
       "E              100\n",
       "P              150"
      ]
     },
     "execution_count": 2,
     "metadata": {},
     "output_type": "execute_result"
    }
   ],
   "source": [
    "params = {'E': 100,\n",
    "          'P': 150}\n",
    "\n",
    "## Insert into model \n",
    "I = model.InsertParameters(mm, parameter_dict=params)\n",
    "##format the parameters for displaying nicely\n",
    "I.parameters.index = ['Parameter Value']\n",
    "I.parameters.transpose()"
   ]
  },
  {
   "cell_type": "markdown",
   "metadata": {
    "ExecuteTime": {
     "end_time": "2017-12-12T15:45:52.771887Z",
     "start_time": "2017-12-12T15:45:52.767122Z"
    }
   },
   "source": [
    "Alternatively use `inplace=True` argument (analogous to the `pandas` library) to modify the object inplace, rather than needing to assign"
   ]
  },
  {
   "cell_type": "code",
   "execution_count": 3,
   "metadata": {
    "ExecuteTime": {
     "end_time": "2018-02-03T13:54:13.714919Z",
     "start_time": "2018-02-03T13:54:13.703046Z"
    }
   },
   "outputs": [
    {
     "data": {
      "text/plain": [
       "<pycotools3.model.InsertParameters at 0x15c51a255c0>"
      ]
     },
     "execution_count": 3,
     "metadata": {},
     "output_type": "execute_result"
    }
   ],
   "source": [
    "model.InsertParameters(mm, parameter_dict=params, inplace=True)"
   ]
  },
  {
   "cell_type": "markdown",
   "metadata": {},
   "source": [
    "### Insert Parameters from Pandas DataFrame"
   ]
  },
  {
   "cell_type": "code",
   "execution_count": 4,
   "metadata": {
    "ExecuteTime": {
     "end_time": "2018-02-03T13:54:15.962126Z",
     "start_time": "2018-02-03T13:54:15.949220Z"
    }
   },
   "outputs": [
    {
     "data": {
      "text/html": [
       "<div>\n",
       "<style scoped>\n",
       "    .dataframe tbody tr th:only-of-type {\n",
       "        vertical-align: middle;\n",
       "    }\n",
       "\n",
       "    .dataframe tbody tr th {\n",
       "        vertical-align: top;\n",
       "    }\n",
       "\n",
       "    .dataframe thead th {\n",
       "        text-align: right;\n",
       "    }\n",
       "</style>\n",
       "<table border=\"1\" class=\"dataframe\">\n",
       "  <thead>\n",
       "    <tr style=\"text-align: right;\">\n",
       "      <th></th>\n",
       "      <th>(S bind E).kf</th>\n",
       "      <th>(S unbind E).kb</th>\n",
       "    </tr>\n",
       "  </thead>\n",
       "  <tbody>\n",
       "    <tr>\n",
       "      <th>0</th>\n",
       "      <td>50</td>\n",
       "      <td>96</td>\n",
       "    </tr>\n",
       "  </tbody>\n",
       "</table>\n",
       "</div>"
      ],
      "text/plain": [
       "   (S bind E).kf  (S unbind E).kb\n",
       "0             50               96"
      ]
     },
     "execution_count": 4,
     "metadata": {},
     "output_type": "execute_result"
    }
   ],
   "source": [
    "import pandas\n",
    "params = {'(S bind E).kf': 50,\n",
    "          '(S unbind E).kb': 96}\n",
    "df = pandas.DataFrame(params, index=[0])\n",
    "df"
   ]
  },
  {
   "cell_type": "code",
   "execution_count": null,
   "metadata": {},
   "outputs": [],
   "source": []
  },
  {
   "cell_type": "code",
   "execution_count": 5,
   "metadata": {},
   "outputs": [
    {
     "data": {
      "text/plain": [
       "<pycotools3.model.InsertParameters at 0x15c519f8dd8>"
      ]
     },
     "execution_count": 5,
     "metadata": {},
     "output_type": "execute_result"
    }
   ],
   "source": [
    "model.InsertParameters(mm, df=df, inplace=True)"
   ]
  },
  {
   "cell_type": "markdown",
   "metadata": {},
   "source": [
    "### Insert Parameters from Parameter Estimation Output\n",
    "First we'll get some parameter estimation data by [fitting](ParameterEstimation.ipynb) a model to [simulated]('Timecourse.ipynb') data. "
   ]
  },
  {
   "cell_type": "code",
   "execution_count": 6,
   "metadata": {
    "ExecuteTime": {
     "end_time": "2018-02-03T13:57:25.426916Z",
     "start_time": "2018-02-03T13:57:10.207311Z"
    },
    "scrolled": true
   },
   "outputs": [
    {
     "name": "stdout",
     "output_type": "stream",
     "text": [
      "D:\\pycotools3\\docs\\source\\Tutorials\\timecourse.txt\n"
     ]
    }
   ],
   "source": [
    "fname = os.path.join(os.path.abspath(''), 'timecourse.txt')\n",
    "print(fname)\n",
    "data = mm.simulate(0, 50, 1, report_name=fname)\n",
    "assert os.path.isfile(fname)"
   ]
  },
  {
   "cell_type": "code",
   "execution_count": 7,
   "metadata": {
    "scrolled": false
   },
   "outputs": [
    {
     "name": "stdout",
     "output_type": "stream",
     "text": [
      "datasets:\n",
      "    experiments:\n",
      "        timecourse:\n",
      "            affected_models:\n",
      "            - MichaelisMenten\n",
      "            filename: D:\\pycotools3\\docs\\source\\Tutorials\\timecourse.txt\n",
      "            mappings:\n",
      "                E:\n",
      "                    model_object: E\n",
      "                    object_type: Metabolite\n",
      "                    role: dependent\n",
      "                ES:\n",
      "                    model_object: ES\n",
      "                    object_type: Metabolite\n",
      "                    role: dependent\n",
      "                P:\n",
      "                    model_object: P\n",
      "                    object_type: Metabolite\n",
      "                    role: dependent\n",
      "                S:\n",
      "                    model_object: S\n",
      "                    object_type: Metabolite\n",
      "                    role: dependent\n",
      "                Time:\n",
      "                    model_object: Time\n",
      "                    role: time\n",
      "            normalize_weights_per_experiment: true\n",
      "            separator: \"\\t\"\n",
      "    validations: {}\n",
      "items:\n",
      "    fit_items:\n",
      "        (ES produce P).kcat:\n",
      "            affected_experiments:\n",
      "            - timecourse\n",
      "            affected_models:\n",
      "            - MichaelisMenten\n",
      "            affected_validation_experiments: []\n",
      "            lower_bound: 1.0e-06\n",
      "            start_value: model_value\n",
      "            upper_bound: 1000000.0\n",
      "        (S bind E).kf:\n",
      "            affected_experiments:\n",
      "            - timecourse\n",
      "            affected_models:\n",
      "            - MichaelisMenten\n",
      "            affected_validation_experiments: []\n",
      "            lower_bound: 1.0e-06\n",
      "            start_value: model_value\n",
      "            upper_bound: 1000000.0\n",
      "        (S unbind E).kb:\n",
      "            affected_experiments:\n",
      "            - timecourse\n",
      "            affected_models:\n",
      "            - MichaelisMenten\n",
      "            affected_validation_experiments: []\n",
      "            lower_bound: 1.0e-06\n",
      "            start_value: model_value\n",
      "            upper_bound: 1000000.0\n",
      "models:\n",
      "    MichaelisMenten:\n",
      "        copasi_file: D:\\pycotools3\\docs\\source\\Tutorials\\MichaelisMenten.cps\n",
      "        model: Model(name=Michaelis-Menten, time_unit=s, volume_unit=ml, quantity_unit=mmol)\n",
      "settings:\n",
      "    calculate_statistics: false\n",
      "    config_filename: config.yml\n",
      "    context: s\n",
      "    cooling_factor: 0.85\n",
      "    copy_number: 1\n",
      "    create_parameter_sets: false\n",
      "    cross_validation_depth: 1\n",
      "    fit: 1\n",
      "    iteration_limit: 50\n",
      "    lower_bound: 0.01\n",
      "    max_active: 3\n",
      "    method: genetic_algorithm\n",
      "    number_of_generations: 200\n",
      "    number_of_iterations: 100000\n",
      "    overwrite_config_file: false\n",
      "    pe_number: 1\n",
      "    pf: 0.475\n",
      "    pl_lower_bound: 1000\n",
      "    pl_upper_bound: 1000\n",
      "    population_size: 50\n",
      "    prefix: null\n",
      "    problem: Problem1\n",
      "    quantity_type: concentration\n",
      "    random_number_generator: 1\n",
      "    randomize_start_values: true\n",
      "    report_name: PEData.txt\n",
      "    results_directory: ParameterEstimationData\n",
      "    rho: 0.2\n",
      "    run_mode: true\n",
      "    save: false\n",
      "    scale: 10\n",
      "    seed: 0\n",
      "    start_temperature: 1\n",
      "    start_value: 0.1\n",
      "    std_deviation: 1.0e-06\n",
      "    swarm_size: 50\n",
      "    tolerance: 1.0e-05\n",
      "    update_model: false\n",
      "    upper_bound: 100\n",
      "    use_config_start_values: false\n",
      "    validation_threshold: 5\n",
      "    validation_weight: 1\n",
      "    weight_method: mean_squared\n",
      "    working_directory: D:\\pycotools3\\docs\\source\\Tutorials\n",
      "\n"
     ]
    }
   ],
   "source": [
    "with  tasks.ParameterEstimation.Context(copasi_file, fname, context='s', parameters='l') as context:\n",
    "    context.set('randomize_start_values', True)\n",
    "    context.set('lower_bound', 0.01)\n",
    "    context.set('upper_bound', 100)\n",
    "    context.set('run_mode', True)\n",
    "    config = context.get_config()\n",
    "print(config)\n",
    "PE = tasks.ParameterEstimation(config)"
   ]
  },
  {
   "cell_type": "markdown",
   "metadata": {},
   "source": [
    "Now we can insert the estimated parameters using: "
   ]
  },
  {
   "cell_type": "code",
   "execution_count": 8,
   "metadata": {
    "ExecuteTime": {
     "end_time": "2018-02-03T13:57:33.796040Z",
     "start_time": "2018-02-03T13:57:33.286779Z"
    },
    "scrolled": true
   },
   "outputs": [
    {
     "data": {
      "text/plain": [
       "<pycotools3.model.InsertParameters at 0x15c6fb8c2e8>"
      ]
     },
     "execution_count": 8,
     "metadata": {},
     "output_type": "execute_result"
    }
   ],
   "source": [
    "##index=0 for best parameter set (i.e. lowest RSS)\n",
    "model.InsertParameters(mm, parameter_path=PE.results_directory['MichaelisMenten'], index=0, inplace=True) "
   ]
  },
  {
   "cell_type": "markdown",
   "metadata": {},
   "source": [
    "### Insert Parameters using the `model.Model().insert_parameters` method\n",
    "The same means of inserting parameters can be used from the model object itself"
   ]
  },
  {
   "cell_type": "code",
   "execution_count": 9,
   "metadata": {
    "ExecuteTime": {
     "end_time": "2018-02-03T13:57:43.639671Z",
     "start_time": "2018-02-03T13:57:43.631355Z"
    }
   },
   "outputs": [],
   "source": [
    "mm.insert_parameters(parameter_dict=params, inplace=True)"
   ]
  },
  {
   "cell_type": "markdown",
   "metadata": {},
   "source": [
    "### Change parameters using `model.Model().set`\n",
    "Individual parameters can also be changed using the `set` method. For example, we could set the `metabolite` with name `S` `concentration` or `particle numbers` to `55`"
   ]
  },
  {
   "cell_type": "code",
   "execution_count": 10,
   "metadata": {
    "ExecuteTime": {
     "end_time": "2018-02-03T13:57:46.305664Z",
     "start_time": "2018-02-03T13:57:46.292408Z"
    }
   },
   "outputs": [
    {
     "data": {
      "text/plain": [
       "Model(name=Michaelis-Menten, time_unit=s, volume_unit=ml, quantity_unit=mmol)"
      ]
     },
     "execution_count": 10,
     "metadata": {},
     "output_type": "execute_result"
    }
   ],
   "source": [
    "mm.set('metabolite', 'S', 55, 'name', 'concentration')\n",
    "\n",
    "## or \n",
    "\n",
    "mm.set('metabolite', 'S', 55, 'name', 'particle_numbers')"
   ]
  }
 ],
 "metadata": {
  "hide_input": false,
  "kernelspec": {
   "display_name": "Python 3",
   "language": "python",
   "name": "python3"
  },
  "language_info": {
   "codemirror_mode": {
    "name": "ipython",
    "version": 3
   },
   "file_extension": ".py",
   "mimetype": "text/x-python",
   "name": "python",
   "nbconvert_exporter": "python",
   "pygments_lexer": "ipython3",
   "version": "3.6.6"
  },
  "latex_envs": {
   "LaTeX_envs_menu_present": true,
   "autocomplete": true,
   "bibliofile": "biblio.bib",
   "cite_by": "apalike",
   "current_citInitial": 1,
   "eqLabelWithNumbers": true,
   "eqNumInitial": 1,
   "hotkeys": {
    "equation": "Ctrl-E",
    "itemize": "Ctrl-I"
   },
   "labels_anchors": false,
   "latex_user_defs": false,
   "report_style_numbering": false,
   "user_envs_cfg": false
  },
  "toc": {
   "colors": {
    "hover_highlight": "#DAA520",
    "navigate_num": "#000000",
    "navigate_text": "#333333",
    "running_highlight": "#FF0000",
    "selected_highlight": "#FFD700",
    "sidebar_border": "#EEEEEE",
    "wrapper_background": "#FFFFFF"
   },
   "moveMenuLeft": true,
   "nav_menu": {
    "height": "94px",
    "width": "252px"
   },
   "navigate_menu": true,
   "number_sections": true,
   "sideBar": true,
   "threshold": 4,
   "toc_cell": false,
   "toc_section_display": "block",
   "toc_window_display": false,
   "widenNotebook": false
  },
  "varInspector": {
   "cols": {
    "lenName": 16,
    "lenType": 16,
    "lenVar": 40
   },
   "kernels_config": {
    "python": {
     "delete_cmd_postfix": "",
     "delete_cmd_prefix": "del ",
     "library": "var_list.py",
     "varRefreshCmd": "print(var_dic_list())"
    },
    "r": {
     "delete_cmd_postfix": ") ",
     "delete_cmd_prefix": "rm(",
     "library": "var_list.r",
     "varRefreshCmd": "cat(var_dic_list()) "
    }
   },
   "types_to_exclude": [
    "module",
    "function",
    "builtin_function_or_method",
    "instance",
    "_Feature"
   ],
   "window_display": false
  }
 },
 "nbformat": 4,
 "nbformat_minor": 2
}
