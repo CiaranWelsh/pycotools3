{
 "cells": [
  {
   "cell_type": "markdown",
   "metadata": {},
   "source": [
    "## Insert Parameters\n",
    "Parameters can be inserted automatically into a Copasi model from python code using PyCoTools\n",
    "\n",
    "### Build a demonistration model\n",
    "While antimony or the COPASI user interface are the preferred ways to build a model, PyCoTools does have a mechanism for constructing COPASI models. For variation and demonstration, this method is used here."
   ]
  },
  {
   "cell_type": "code",
   "execution_count": 3,
   "metadata": {
    "ExecuteTime": {
     "end_time": "2018-02-03T13:54:01.530541Z",
     "start_time": "2018-02-03T13:54:01.381029Z"
    }
   },
   "outputs": [
    {
     "data": {
      "text/plain": [
       "Model(name=Michaelis-Menten, time_unit=s, volume_unit=ml, quantity_unit=mmol)"
      ]
     },
     "execution_count": 3,
     "metadata": {},
     "output_type": "execute_result"
    }
   ],
   "source": [
    "import os\n",
    "import site\n",
    "site.addsitedir('D:\\pycotools3')\n",
    "from pycotools3 import model, tasks, viz\n",
    "## Choose a working directory for model\n",
    "working_directory = os.path.abspath('')\n",
    "copasi_file = os.path.join(working_directory, 'MichaelisMenten.cps')\n",
    "\n",
    "if os.path.isfile(copasi_file):\n",
    "    os.remove(copasi_file)\n",
    "\n",
    "    \n",
    "kf = 0.01\n",
    "kb = 0.1\n",
    "kcat = 0.05\n",
    "with model.Build(copasi_file) as m:\n",
    "    m.name = 'Michaelis-Menten'\n",
    "    m.add('compartment', name='Cell')\n",
    "    \n",
    "    m.add('metabolite', name='P', concentration=0)\n",
    "    m.add('metabolite', name='S', concentration=30)\n",
    "    m.add('metabolite', name='E', concentration=10)\n",
    "    m.add('metabolite', name='ES', concentration=0)\n",
    "    \n",
    "    m.add('reaction', name='S bind E', expression='S + E -> ES', rate_law='kf*S*E',\n",
    "          parameter_values={'kf': kf})\n",
    "    \n",
    "    m.add('reaction', name='S unbind E', expression='ES -> S + E', rate_law='kb*ES',\n",
    "         parameter_values={'kb': kb})\n",
    "\n",
    "    m.add('reaction', name='ES produce P', expression='ES -> P + E', rate_law='kcat*ES', \n",
    "          parameter_values={'kcat': kcat})\n",
    "    \n",
    "mm = model.Model(copasi_file)\n",
    "mm"
   ]
  },
  {
   "cell_type": "markdown",
   "metadata": {},
   "source": [
    "### Insert Parameters from Python Dictionary"
   ]
  },
  {
   "cell_type": "code",
   "execution_count": 4,
   "metadata": {
    "ExecuteTime": {
     "end_time": "2018-02-03T13:54:02.477919Z",
     "start_time": "2018-02-03T13:54:02.416807Z"
    }
   },
   "outputs": [
    {
     "data": {
      "text/html": [
       "<div>\n",
       "<style scoped>\n",
       "    .dataframe tbody tr th:only-of-type {\n",
       "        vertical-align: middle;\n",
       "    }\n",
       "\n",
       "    .dataframe tbody tr th {\n",
       "        vertical-align: top;\n",
       "    }\n",
       "\n",
       "    .dataframe thead th {\n",
       "        text-align: right;\n",
       "    }\n",
       "</style>\n",
       "<table border=\"1\" class=\"dataframe\">\n",
       "  <thead>\n",
       "    <tr style=\"text-align: right;\">\n",
       "      <th></th>\n",
       "      <th>Parameter Value</th>\n",
       "    </tr>\n",
       "  </thead>\n",
       "  <tbody>\n",
       "    <tr>\n",
       "      <th>E</th>\n",
       "      <td>100</td>\n",
       "    </tr>\n",
       "    <tr>\n",
       "      <th>P</th>\n",
       "      <td>150</td>\n",
       "    </tr>\n",
       "  </tbody>\n",
       "</table>\n",
       "</div>"
      ],
      "text/plain": [
       "   Parameter Value\n",
       "E              100\n",
       "P              150"
      ]
     },
     "execution_count": 4,
     "metadata": {},
     "output_type": "execute_result"
    }
   ],
   "source": [
    "params = {'E': 100,\n",
    "          'P': 150}\n",
    "\n",
    "## Insert into model \n",
    "I = model.InsertParameters(mm, parameter_dict=params)\n",
    "I.parameters.index = ['Parameter Value']\n",
    "I.parameters.transpose()"
   ]
  },
  {
   "cell_type": "markdown",
   "metadata": {
    "ExecuteTime": {
     "end_time": "2017-12-12T15:45:52.771887Z",
     "start_time": "2017-12-12T15:45:52.767122Z"
    }
   },
   "source": [
    "Alternatively use `inplace=True` argument to save automatically"
   ]
  },
  {
   "cell_type": "code",
   "execution_count": 5,
   "metadata": {
    "ExecuteTime": {
     "end_time": "2018-02-03T13:54:13.714919Z",
     "start_time": "2018-02-03T13:54:13.703046Z"
    }
   },
   "outputs": [],
   "source": [
    "I = model.InsertParameters(mm, parameter_dict=params, inplace=True)"
   ]
  },
  {
   "cell_type": "markdown",
   "metadata": {},
   "source": [
    "### Insert Parameters from Pandas DataFrame"
   ]
  },
  {
   "cell_type": "code",
   "execution_count": 11,
   "metadata": {
    "ExecuteTime": {
     "end_time": "2018-02-03T13:54:15.962126Z",
     "start_time": "2018-02-03T13:54:15.949220Z"
    }
   },
   "outputs": [
    {
     "data": {
      "text/html": [
       "<div>\n",
       "<style scoped>\n",
       "    .dataframe tbody tr th:only-of-type {\n",
       "        vertical-align: middle;\n",
       "    }\n",
       "\n",
       "    .dataframe tbody tr th {\n",
       "        vertical-align: top;\n",
       "    }\n",
       "\n",
       "    .dataframe thead th {\n",
       "        text-align: right;\n",
       "    }\n",
       "</style>\n",
       "<table border=\"1\" class=\"dataframe\">\n",
       "  <thead>\n",
       "    <tr style=\"text-align: right;\">\n",
       "      <th></th>\n",
       "      <th>(S bind E).kf</th>\n",
       "      <th>(S unbind E).kb</th>\n",
       "    </tr>\n",
       "  </thead>\n",
       "  <tbody>\n",
       "    <tr>\n",
       "      <th>0</th>\n",
       "      <td>50</td>\n",
       "      <td>96</td>\n",
       "    </tr>\n",
       "  </tbody>\n",
       "</table>\n",
       "</div>"
      ],
      "text/plain": [
       "   (S bind E).kf  (S unbind E).kb\n",
       "0             50               96"
      ]
     },
     "execution_count": 11,
     "metadata": {},
     "output_type": "execute_result"
    }
   ],
   "source": [
    "import pandas\n",
    "params = {'(S bind E).kf': 50,\n",
    "          '(S unbind E).kb': 96}\n",
    "df = pandas.DataFrame(params, index=[0])\n",
    "df"
   ]
  },
  {
   "cell_type": "code",
   "execution_count": 10,
   "metadata": {},
   "outputs": [
    {
     "ename": "PermissionError",
     "evalue": "[WinError 5] Access is denied: 'D:\\\\pycotools3\\\\docs\\\\source\\\\Tutorials\\\\MichaelisMenten.cps'",
     "output_type": "error",
     "traceback": [
      "\u001b[1;31m---------------------------------------------------------------------------\u001b[0m",
      "\u001b[1;31mPermissionError\u001b[0m                           Traceback (most recent call last)",
      "\u001b[1;32m<ipython-input-10-cd4f95a8989f>\u001b[0m in \u001b[0;36m<module>\u001b[1;34m()\u001b[0m\n\u001b[1;32m----> 1\u001b[1;33m \u001b[0mmodel\u001b[0m\u001b[1;33m.\u001b[0m\u001b[0mInsertParameters\u001b[0m\u001b[1;33m(\u001b[0m\u001b[0mmm\u001b[0m\u001b[1;33m,\u001b[0m \u001b[0mdf\u001b[0m\u001b[1;33m=\u001b[0m\u001b[0mdf\u001b[0m\u001b[1;33m,\u001b[0m \u001b[0minplace\u001b[0m\u001b[1;33m=\u001b[0m\u001b[1;32mTrue\u001b[0m\u001b[1;33m)\u001b[0m\u001b[1;33m\u001b[0m\u001b[0m\n\u001b[0m",
      "\u001b[1;32mD:\\pycotools3\\pycotools3\\model.py\u001b[0m in \u001b[0;36m__init__\u001b[1;34m(self, model, parameter_dict, df, parameter_path, index, quantity_type, inplace)\u001b[0m\n\u001b[0;32m   4652\u001b[0m         \u001b[0mself\u001b[0m\u001b[1;33m.\u001b[0m\u001b[0mmodel\u001b[0m \u001b[1;33m=\u001b[0m \u001b[0mself\u001b[0m\u001b[1;33m.\u001b[0m\u001b[0minsert\u001b[0m\u001b[1;33m(\u001b[0m\u001b[1;33m)\u001b[0m\u001b[1;33m\u001b[0m\u001b[0m\n\u001b[0;32m   4653\u001b[0m         \u001b[1;32mif\u001b[0m \u001b[0mself\u001b[0m\u001b[1;33m.\u001b[0m\u001b[0minplace\u001b[0m\u001b[1;33m:\u001b[0m\u001b[1;33m\u001b[0m\u001b[0m\n\u001b[1;32m-> 4654\u001b[1;33m             \u001b[0mself\u001b[0m\u001b[1;33m.\u001b[0m\u001b[0mmodel\u001b[0m\u001b[1;33m.\u001b[0m\u001b[0msave\u001b[0m\u001b[1;33m(\u001b[0m\u001b[1;33m)\u001b[0m\u001b[1;33m\u001b[0m\u001b[0m\n\u001b[0m\u001b[0;32m   4655\u001b[0m \u001b[1;33m\u001b[0m\u001b[0m\n\u001b[0;32m   4656\u001b[0m     \u001b[1;31m# def __str__(self):\u001b[0m\u001b[1;33m\u001b[0m\u001b[1;33m\u001b[0m\u001b[0m\n",
      "\u001b[1;32mD:\\pycotools3\\pycotools3\\model.py\u001b[0m in \u001b[0;36msave\u001b[1;34m(self, copasi_file)\u001b[0m\n\u001b[0;32m   1956\u001b[0m         \u001b[1;31m## Then remove existing copasi file for ovewrite\u001b[0m\u001b[1;33m\u001b[0m\u001b[1;33m\u001b[0m\u001b[0m\n\u001b[0;32m   1957\u001b[0m         \u001b[1;32mif\u001b[0m \u001b[0mos\u001b[0m\u001b[1;33m.\u001b[0m\u001b[0mpath\u001b[0m\u001b[1;33m.\u001b[0m\u001b[0misfile\u001b[0m\u001b[1;33m(\u001b[0m\u001b[0mcopasi_file\u001b[0m\u001b[1;33m)\u001b[0m\u001b[1;33m:\u001b[0m\u001b[1;33m\u001b[0m\u001b[0m\n\u001b[1;32m-> 1958\u001b[1;33m             \u001b[0mos\u001b[0m\u001b[1;33m.\u001b[0m\u001b[0mremove\u001b[0m\u001b[1;33m(\u001b[0m\u001b[0mcopasi_file\u001b[0m\u001b[1;33m)\u001b[0m\u001b[1;33m\u001b[0m\u001b[0m\n\u001b[0m\u001b[0;32m   1959\u001b[0m \u001b[1;33m\u001b[0m\u001b[0m\n\u001b[0;32m   1960\u001b[0m         \u001b[1;31m## write\u001b[0m\u001b[1;33m\u001b[0m\u001b[1;33m\u001b[0m\u001b[0m\n",
      "\u001b[1;31mPermissionError\u001b[0m: [WinError 5] Access is denied: 'D:\\\\pycotools3\\\\docs\\\\source\\\\Tutorials\\\\MichaelisMenten.cps'"
     ]
    }
   ],
   "source": [
    "model.InsertParameters(mm, df=df, inplace=True)"
   ]
  },
  {
   "cell_type": "markdown",
   "metadata": {},
   "source": [
    "### Insert Parameters from Parameter Estimation Output\n",
    "Get some parameter estimation data"
   ]
  },
  {
   "cell_type": "code",
   "execution_count": 13,
   "metadata": {
    "ExecuteTime": {
     "end_time": "2018-02-03T13:57:25.426916Z",
     "start_time": "2018-02-03T13:57:10.207311Z"
    }
   },
   "outputs": [
    {
     "data": {
      "text/html": [
       "<div>\n",
       "<style scoped>\n",
       "    .dataframe tbody tr th:only-of-type {\n",
       "        vertical-align: middle;\n",
       "    }\n",
       "\n",
       "    .dataframe tbody tr th {\n",
       "        vertical-align: top;\n",
       "    }\n",
       "\n",
       "    .dataframe thead th {\n",
       "        text-align: right;\n",
       "    }\n",
       "</style>\n",
       "<table border=\"1\" class=\"dataframe\">\n",
       "  <thead>\n",
       "    <tr style=\"text-align: right;\">\n",
       "      <th></th>\n",
       "      <th>Time</th>\n",
       "      <th>S</th>\n",
       "      <th>ES</th>\n",
       "      <th>P</th>\n",
       "      <th>E</th>\n",
       "    </tr>\n",
       "  </thead>\n",
       "  <tbody>\n",
       "    <tr>\n",
       "      <th>0</th>\n",
       "      <td>0</td>\n",
       "      <td>30.000000</td>\n",
       "      <td>0.0000</td>\n",
       "      <td>150.000</td>\n",
       "      <td>100.0000</td>\n",
       "    </tr>\n",
       "    <tr>\n",
       "      <th>1</th>\n",
       "      <td>1</td>\n",
       "      <td>0.740547</td>\n",
       "      <td>27.8340</td>\n",
       "      <td>151.425</td>\n",
       "      <td>72.1660</td>\n",
       "    </tr>\n",
       "    <tr>\n",
       "      <th>2</th>\n",
       "      <td>2</td>\n",
       "      <td>0.693069</td>\n",
       "      <td>26.5228</td>\n",
       "      <td>152.784</td>\n",
       "      <td>73.4772</td>\n",
       "    </tr>\n",
       "    <tr>\n",
       "      <th>3</th>\n",
       "      <td>3</td>\n",
       "      <td>0.649328</td>\n",
       "      <td>25.2720</td>\n",
       "      <td>154.079</td>\n",
       "      <td>74.7280</td>\n",
       "    </tr>\n",
       "    <tr>\n",
       "      <th>4</th>\n",
       "      <td>4</td>\n",
       "      <td>0.608948</td>\n",
       "      <td>24.0788</td>\n",
       "      <td>155.312</td>\n",
       "      <td>75.9212</td>\n",
       "    </tr>\n",
       "  </tbody>\n",
       "</table>\n",
       "</div>"
      ],
      "text/plain": [
       "   Time          S       ES        P         E\n",
       "0     0  30.000000   0.0000  150.000  100.0000\n",
       "1     1   0.740547  27.8340  151.425   72.1660\n",
       "2     2   0.693069  26.5228  152.784   73.4772\n",
       "3     3   0.649328  25.2720  154.079   74.7280\n",
       "4     4   0.608948  24.0788  155.312   75.9212"
      ]
     },
     "execution_count": 13,
     "metadata": {},
     "output_type": "execute_result"
    }
   ],
   "source": [
    "## simulate data \n",
    "TC = tasks.TimeCourse(mm, end=100, step_size=1, intervals=100)\n",
    "\n",
    "viz.Parse(TC).data.head()"
   ]
  },
  {
   "cell_type": "code",
   "execution_count": 15,
   "metadata": {},
   "outputs": [
    {
     "ename": "AttributeError",
     "evalue": "'Context' object has no attribute 'config'",
     "output_type": "error",
     "traceback": [
      "\u001b[1;31m---------------------------------------------------------------------------\u001b[0m",
      "\u001b[1;31mAttributeError\u001b[0m                            Traceback (most recent call last)",
      "\u001b[1;32m<ipython-input-15-caba3871f251>\u001b[0m in \u001b[0;36m<module>\u001b[1;34m()\u001b[0m\n\u001b[0;32m     12\u001b[0m     \u001b[0mcontext\u001b[0m\u001b[1;33m.\u001b[0m\u001b[0madd_setting\u001b[0m\u001b[1;33m(\u001b[0m\u001b[1;34m'working_directory'\u001b[0m\u001b[1;33m,\u001b[0m \u001b[0mworking_directory\u001b[0m\u001b[1;33m)\u001b[0m\u001b[1;33m\u001b[0m\u001b[0m\n\u001b[0;32m     13\u001b[0m \u001b[1;33m\u001b[0m\u001b[0m\n\u001b[1;32m---> 14\u001b[1;33m \u001b[0mcontext\u001b[0m\u001b[1;33m.\u001b[0m\u001b[0mconfig\u001b[0m\u001b[1;33m\u001b[0m\u001b[0m\n\u001b[0m",
      "\u001b[1;31mAttributeError\u001b[0m: 'Context' object has no attribute 'config'"
     ]
    }
   ],
   "source": [
    "config_dct = dict(\n",
    "    models=dict(\n",
    "        mm=dict(\n",
    "            filename= mm.copasi_file\n",
    "        )\n",
    "    )\n",
    ")\n",
    "\n",
    "with tasks.ParameterEstimation.Context(context='s', parameters='a') as config:\n",
    "    context.add_models(mm.copasi_file)\n",
    "    context.add_experiments(TC.report_name)\n",
    "    context.add_setting('working_directory', working_directory)\n",
    "    \n",
    "context.config"
   ]
  },
  {
   "cell_type": "code",
   "execution_count": null,
   "metadata": {},
   "outputs": [],
   "source": [
    "## format copasi report headers\n",
    "misc.format_timecourse_data(TC.report_name)\n",
    "\n",
    "## run PEs\n",
    "PE = tasks.ParameterEstimation(mm, TC.report_name, \n",
    "                                   method='genetic_algorithm', \n",
    "                                   population_size=10, \n",
    "                                   number_of_generations=10, \n",
    "                                   copy_number=2, \n",
    "                                   pe_number=2, \n",
    "                                   run_mode=True)\n",
    "PE.write_config_file()\n",
    "PE.setup()\n",
    "PE.run()\n",
    "print (PE.results_directory)"
   ]
  },
  {
   "cell_type": "code",
   "execution_count": null,
   "metadata": {
    "ExecuteTime": {
     "end_time": "2018-02-03T13:57:33.796040Z",
     "start_time": "2018-02-03T13:57:33.286779Z"
    }
   },
   "outputs": [],
   "source": [
    "##index=0 for best parameter set (i.e. lowest RSS)\n",
    "model.InsertParameters(mm, parameter_path=PE.results_directory, index=0, inplace=True) "
   ]
  },
  {
   "cell_type": "markdown",
   "metadata": {},
   "source": [
    "### Insert Parameters using the `model.Model().insert_parameters` method\n",
    "The same means of inserting parameters can be used from the model object itself"
   ]
  },
  {
   "cell_type": "code",
   "execution_count": null,
   "metadata": {
    "ExecuteTime": {
     "end_time": "2018-02-03T13:57:43.639671Z",
     "start_time": "2018-02-03T13:57:43.631355Z"
    }
   },
   "outputs": [],
   "source": [
    "mm.insert_parameters(parameter_dict=params, inplace=True)"
   ]
  },
  {
   "cell_type": "markdown",
   "metadata": {},
   "source": [
    "### Change parameters using `model.Model().set`\n",
    "Individual parameters can also be changed using the `set` method. For example, we could set the `metabolite` with name `S` `concentration` or `particle numbers` to `55`"
   ]
  },
  {
   "cell_type": "code",
   "execution_count": null,
   "metadata": {
    "ExecuteTime": {
     "end_time": "2018-02-03T13:57:46.305664Z",
     "start_time": "2018-02-03T13:57:46.292408Z"
    }
   },
   "outputs": [],
   "source": [
    "mm.set('metabolite', 'S', 55, 'name', 'concentration')\n",
    "\n",
    "## or \n",
    "\n",
    "mm.set('metabolite', 'S', 55, 'name', 'particle_numbers')"
   ]
  }
 ],
 "metadata": {
  "hide_input": false,
  "kernelspec": {
   "display_name": "Python 3",
   "language": "python",
   "name": "python3"
  },
  "language_info": {
   "codemirror_mode": {
    "name": "ipython",
    "version": 3
   },
   "file_extension": ".py",
   "mimetype": "text/x-python",
   "name": "python",
   "nbconvert_exporter": "python",
   "pygments_lexer": "ipython3",
   "version": "3.6.6"
  },
  "latex_envs": {
   "LaTeX_envs_menu_present": true,
   "autocomplete": true,
   "bibliofile": "biblio.bib",
   "cite_by": "apalike",
   "current_citInitial": 1,
   "eqLabelWithNumbers": true,
   "eqNumInitial": 1,
   "hotkeys": {
    "equation": "Ctrl-E",
    "itemize": "Ctrl-I"
   },
   "labels_anchors": false,
   "latex_user_defs": false,
   "report_style_numbering": false,
   "user_envs_cfg": false
  },
  "toc": {
   "colors": {
    "hover_highlight": "#DAA520",
    "navigate_num": "#000000",
    "navigate_text": "#333333",
    "running_highlight": "#FF0000",
    "selected_highlight": "#FFD700",
    "sidebar_border": "#EEEEEE",
    "wrapper_background": "#FFFFFF"
   },
   "moveMenuLeft": true,
   "nav_menu": {
    "height": "94px",
    "width": "252px"
   },
   "navigate_menu": true,
   "number_sections": true,
   "sideBar": true,
   "threshold": 4,
   "toc_cell": false,
   "toc_section_display": "block",
   "toc_window_display": false,
   "widenNotebook": false
  },
  "varInspector": {
   "cols": {
    "lenName": 16,
    "lenType": 16,
    "lenVar": 40
   },
   "kernels_config": {
    "python": {
     "delete_cmd_postfix": "",
     "delete_cmd_prefix": "del ",
     "library": "var_list.py",
     "varRefreshCmd": "print(var_dic_list())"
    },
    "r": {
     "delete_cmd_postfix": ") ",
     "delete_cmd_prefix": "rm(",
     "library": "var_list.r",
     "varRefreshCmd": "cat(var_dic_list()) "
    }
   },
   "types_to_exclude": [
    "module",
    "function",
    "builtin_function_or_method",
    "instance",
    "_Feature"
   ],
   "window_display": false
  }
 },
 "nbformat": 4,
 "nbformat_minor": 2
}
