{
 "cells": [
  {
   "cell_type": "markdown",
   "metadata": {},
   "source": [
    "## The Model\n",
    "The `pycotools.model.Model` class is of central importance in pycotools. Copasi models are parsed from the copasi xml into custom python classes for storing model components such as metabolites, global quantities or reactions.\n",
    "\n",
    "PyCoTools supports two interfaces for creating a model. The object oriented interface is described in this document while the Antimony interface is described [here](http://pycotools.readthedocs.io/en/copasiversion21/Tutorials/Tutorial2BuildModelsWithAntimony.html). \n",
    "\n",
    "The Antimony interface is the recommended way to build models with PyCoTools and has the added advantage of portability between COPASI and [Tellurium environments](http://tellurium.analogmachine.org/). However, it is easier to make small modifications to existing COPASI model with the object oriented interface because you do not have to convert a COPASI model into an Antimony string, change what you want then then convert it back again. "
   ]
  },
  {
   "cell_type": "code",
   "execution_count": 1,
   "metadata": {
    "ExecuteTime": {
     "end_time": "2018-06-20T13:13:43.664327Z",
     "start_time": "2018-06-20T13:13:43.657145Z"
    },
    "scrolled": true
   },
   "outputs": [],
   "source": [
    "%matplotlib inline \n",
    "import site\n",
    "site.addsitedir('/home/ncw135/Documents/pycotools3')\n",
    "\n",
    "try:\n",
    "    ## if using the Python 3 version\n",
    "    from pycotools3 import viz, model, misc, tasks, models\n",
    "except ImportError:\n",
    "    ## fall back on the python 2 version \n",
    "    from pycotools import viz, model, misc, tasks, models\n",
    "\n",
    "import os\n",
    "import pandas\n",
    "import seaborn\n",
    "seaborn.set_style('white')\n",
    "seaborn.set_context('notebook')\n",
    "\n",
    "## turn off debugging warnings from matplotlib\n",
    "import logging \n",
    "mpl_logger = logging.getLogger('matplotlib') \n",
    "mpl_logger.setLevel(logging.WARNING) \n",
    "\n",
    "\n",
    "## Get the os and glob modules for interface with os\n",
    "import os, glob\n",
    "from lxml import etree"
   ]
  },
  {
   "cell_type": "markdown",
   "metadata": {},
   "source": [
    "### The Zi2012 Model\n",
    "For convenience, the xml for the published zi model is stored in a class `ZiModels()` under the `models` module. Take care not to confuse `models` with `model`. "
   ]
  },
  {
   "cell_type": "code",
   "execution_count": 5,
   "metadata": {
    "ExecuteTime": {
     "end_time": "2018-06-20T13:13:48.378582Z",
     "start_time": "2018-06-20T13:13:48.304176Z"
    }
   },
   "outputs": [
    {
     "ename": "PermissionError",
     "evalue": "[Errno 13] Permission denied: '/home/b3053674'",
     "output_type": "error",
     "traceback": [
      "\u001b[0;31m---------------------------------------------------------------------------\u001b[0m",
      "\u001b[0;31mPermissionError\u001b[0m                           Traceback (most recent call last)",
      "\u001b[0;32m<ipython-input-5-3c07b3d6c25c>\u001b[0m in \u001b[0;36m<module>\u001b[0;34m\u001b[0m\n\u001b[1;32m      5\u001b[0m \u001b[0mdirectory\u001b[0m \u001b[0;34m=\u001b[0m \u001b[0;34mr'/home/b3053674/Documents/Models/2017/10_Oct/TutorialWorkspace'\u001b[0m\u001b[0;34m\u001b[0m\u001b[0;34m\u001b[0m\u001b[0m\n\u001b[1;32m      6\u001b[0m \u001b[0;32mif\u001b[0m \u001b[0;32mnot\u001b[0m \u001b[0mos\u001b[0m\u001b[0;34m.\u001b[0m\u001b[0mpath\u001b[0m\u001b[0;34m.\u001b[0m\u001b[0misdir\u001b[0m\u001b[0;34m(\u001b[0m\u001b[0mdirectory\u001b[0m\u001b[0;34m)\u001b[0m\u001b[0;34m:\u001b[0m\u001b[0;34m\u001b[0m\u001b[0;34m\u001b[0m\u001b[0m\n\u001b[0;32m----> 7\u001b[0;31m     \u001b[0mos\u001b[0m\u001b[0;34m.\u001b[0m\u001b[0mmakedirs\u001b[0m\u001b[0;34m(\u001b[0m\u001b[0mdirectory\u001b[0m\u001b[0;34m)\u001b[0m\u001b[0;34m\u001b[0m\u001b[0;34m\u001b[0m\u001b[0m\n\u001b[0m\u001b[1;32m      8\u001b[0m \u001b[0;34m\u001b[0m\u001b[0m\n\u001b[1;32m      9\u001b[0m \u001b[0;31m## choose path to zi model\u001b[0m\u001b[0;34m\u001b[0m\u001b[0;34m\u001b[0m\u001b[0;34m\u001b[0m\u001b[0m\n",
      "\u001b[0;32m~/miniconda3/envs/py36/lib/python3.6/os.py\u001b[0m in \u001b[0;36mmakedirs\u001b[0;34m(name, mode, exist_ok)\u001b[0m\n\u001b[1;32m    208\u001b[0m     \u001b[0;32mif\u001b[0m \u001b[0mhead\u001b[0m \u001b[0;32mand\u001b[0m \u001b[0mtail\u001b[0m \u001b[0;32mand\u001b[0m \u001b[0;32mnot\u001b[0m \u001b[0mpath\u001b[0m\u001b[0;34m.\u001b[0m\u001b[0mexists\u001b[0m\u001b[0;34m(\u001b[0m\u001b[0mhead\u001b[0m\u001b[0;34m)\u001b[0m\u001b[0;34m:\u001b[0m\u001b[0;34m\u001b[0m\u001b[0;34m\u001b[0m\u001b[0m\n\u001b[1;32m    209\u001b[0m         \u001b[0;32mtry\u001b[0m\u001b[0;34m:\u001b[0m\u001b[0;34m\u001b[0m\u001b[0;34m\u001b[0m\u001b[0m\n\u001b[0;32m--> 210\u001b[0;31m             \u001b[0mmakedirs\u001b[0m\u001b[0;34m(\u001b[0m\u001b[0mhead\u001b[0m\u001b[0;34m,\u001b[0m \u001b[0mmode\u001b[0m\u001b[0;34m,\u001b[0m \u001b[0mexist_ok\u001b[0m\u001b[0;34m)\u001b[0m\u001b[0;34m\u001b[0m\u001b[0;34m\u001b[0m\u001b[0m\n\u001b[0m\u001b[1;32m    211\u001b[0m         \u001b[0;32mexcept\u001b[0m \u001b[0mFileExistsError\u001b[0m\u001b[0;34m:\u001b[0m\u001b[0;34m\u001b[0m\u001b[0;34m\u001b[0m\u001b[0m\n\u001b[1;32m    212\u001b[0m             \u001b[0;31m# Defeats race condition when another thread created the path\u001b[0m\u001b[0;34m\u001b[0m\u001b[0;34m\u001b[0m\u001b[0;34m\u001b[0m\u001b[0m\n",
      "\u001b[0;32m~/miniconda3/envs/py36/lib/python3.6/os.py\u001b[0m in \u001b[0;36mmakedirs\u001b[0;34m(name, mode, exist_ok)\u001b[0m\n\u001b[1;32m    208\u001b[0m     \u001b[0;32mif\u001b[0m \u001b[0mhead\u001b[0m \u001b[0;32mand\u001b[0m \u001b[0mtail\u001b[0m \u001b[0;32mand\u001b[0m \u001b[0;32mnot\u001b[0m \u001b[0mpath\u001b[0m\u001b[0;34m.\u001b[0m\u001b[0mexists\u001b[0m\u001b[0;34m(\u001b[0m\u001b[0mhead\u001b[0m\u001b[0;34m)\u001b[0m\u001b[0;34m:\u001b[0m\u001b[0;34m\u001b[0m\u001b[0;34m\u001b[0m\u001b[0m\n\u001b[1;32m    209\u001b[0m         \u001b[0;32mtry\u001b[0m\u001b[0;34m:\u001b[0m\u001b[0;34m\u001b[0m\u001b[0;34m\u001b[0m\u001b[0m\n\u001b[0;32m--> 210\u001b[0;31m             \u001b[0mmakedirs\u001b[0m\u001b[0;34m(\u001b[0m\u001b[0mhead\u001b[0m\u001b[0;34m,\u001b[0m \u001b[0mmode\u001b[0m\u001b[0;34m,\u001b[0m \u001b[0mexist_ok\u001b[0m\u001b[0;34m)\u001b[0m\u001b[0;34m\u001b[0m\u001b[0;34m\u001b[0m\u001b[0m\n\u001b[0m\u001b[1;32m    211\u001b[0m         \u001b[0;32mexcept\u001b[0m \u001b[0mFileExistsError\u001b[0m\u001b[0;34m:\u001b[0m\u001b[0;34m\u001b[0m\u001b[0;34m\u001b[0m\u001b[0m\n\u001b[1;32m    212\u001b[0m             \u001b[0;31m# Defeats race condition when another thread created the path\u001b[0m\u001b[0;34m\u001b[0m\u001b[0;34m\u001b[0m\u001b[0;34m\u001b[0m\u001b[0m\n",
      "\u001b[0;32m~/miniconda3/envs/py36/lib/python3.6/os.py\u001b[0m in \u001b[0;36mmakedirs\u001b[0;34m(name, mode, exist_ok)\u001b[0m\n\u001b[1;32m    208\u001b[0m     \u001b[0;32mif\u001b[0m \u001b[0mhead\u001b[0m \u001b[0;32mand\u001b[0m \u001b[0mtail\u001b[0m \u001b[0;32mand\u001b[0m \u001b[0;32mnot\u001b[0m \u001b[0mpath\u001b[0m\u001b[0;34m.\u001b[0m\u001b[0mexists\u001b[0m\u001b[0;34m(\u001b[0m\u001b[0mhead\u001b[0m\u001b[0;34m)\u001b[0m\u001b[0;34m:\u001b[0m\u001b[0;34m\u001b[0m\u001b[0;34m\u001b[0m\u001b[0m\n\u001b[1;32m    209\u001b[0m         \u001b[0;32mtry\u001b[0m\u001b[0;34m:\u001b[0m\u001b[0;34m\u001b[0m\u001b[0;34m\u001b[0m\u001b[0m\n\u001b[0;32m--> 210\u001b[0;31m             \u001b[0mmakedirs\u001b[0m\u001b[0;34m(\u001b[0m\u001b[0mhead\u001b[0m\u001b[0;34m,\u001b[0m \u001b[0mmode\u001b[0m\u001b[0;34m,\u001b[0m \u001b[0mexist_ok\u001b[0m\u001b[0;34m)\u001b[0m\u001b[0;34m\u001b[0m\u001b[0;34m\u001b[0m\u001b[0m\n\u001b[0m\u001b[1;32m    211\u001b[0m         \u001b[0;32mexcept\u001b[0m \u001b[0mFileExistsError\u001b[0m\u001b[0;34m:\u001b[0m\u001b[0;34m\u001b[0m\u001b[0;34m\u001b[0m\u001b[0m\n\u001b[1;32m    212\u001b[0m             \u001b[0;31m# Defeats race condition when another thread created the path\u001b[0m\u001b[0;34m\u001b[0m\u001b[0;34m\u001b[0m\u001b[0;34m\u001b[0m\u001b[0m\n",
      "\u001b[0;32m~/miniconda3/envs/py36/lib/python3.6/os.py\u001b[0m in \u001b[0;36mmakedirs\u001b[0;34m(name, mode, exist_ok)\u001b[0m\n\u001b[1;32m    208\u001b[0m     \u001b[0;32mif\u001b[0m \u001b[0mhead\u001b[0m \u001b[0;32mand\u001b[0m \u001b[0mtail\u001b[0m \u001b[0;32mand\u001b[0m \u001b[0;32mnot\u001b[0m \u001b[0mpath\u001b[0m\u001b[0;34m.\u001b[0m\u001b[0mexists\u001b[0m\u001b[0;34m(\u001b[0m\u001b[0mhead\u001b[0m\u001b[0;34m)\u001b[0m\u001b[0;34m:\u001b[0m\u001b[0;34m\u001b[0m\u001b[0;34m\u001b[0m\u001b[0m\n\u001b[1;32m    209\u001b[0m         \u001b[0;32mtry\u001b[0m\u001b[0;34m:\u001b[0m\u001b[0;34m\u001b[0m\u001b[0;34m\u001b[0m\u001b[0m\n\u001b[0;32m--> 210\u001b[0;31m             \u001b[0mmakedirs\u001b[0m\u001b[0;34m(\u001b[0m\u001b[0mhead\u001b[0m\u001b[0;34m,\u001b[0m \u001b[0mmode\u001b[0m\u001b[0;34m,\u001b[0m \u001b[0mexist_ok\u001b[0m\u001b[0;34m)\u001b[0m\u001b[0;34m\u001b[0m\u001b[0;34m\u001b[0m\u001b[0m\n\u001b[0m\u001b[1;32m    211\u001b[0m         \u001b[0;32mexcept\u001b[0m \u001b[0mFileExistsError\u001b[0m\u001b[0;34m:\u001b[0m\u001b[0;34m\u001b[0m\u001b[0;34m\u001b[0m\u001b[0m\n\u001b[1;32m    212\u001b[0m             \u001b[0;31m# Defeats race condition when another thread created the path\u001b[0m\u001b[0;34m\u001b[0m\u001b[0;34m\u001b[0m\u001b[0;34m\u001b[0m\u001b[0m\n",
      "\u001b[0;32m~/miniconda3/envs/py36/lib/python3.6/os.py\u001b[0m in \u001b[0;36mmakedirs\u001b[0;34m(name, mode, exist_ok)\u001b[0m\n\u001b[1;32m    208\u001b[0m     \u001b[0;32mif\u001b[0m \u001b[0mhead\u001b[0m \u001b[0;32mand\u001b[0m \u001b[0mtail\u001b[0m \u001b[0;32mand\u001b[0m \u001b[0;32mnot\u001b[0m \u001b[0mpath\u001b[0m\u001b[0;34m.\u001b[0m\u001b[0mexists\u001b[0m\u001b[0;34m(\u001b[0m\u001b[0mhead\u001b[0m\u001b[0;34m)\u001b[0m\u001b[0;34m:\u001b[0m\u001b[0;34m\u001b[0m\u001b[0;34m\u001b[0m\u001b[0m\n\u001b[1;32m    209\u001b[0m         \u001b[0;32mtry\u001b[0m\u001b[0;34m:\u001b[0m\u001b[0;34m\u001b[0m\u001b[0;34m\u001b[0m\u001b[0m\n\u001b[0;32m--> 210\u001b[0;31m             \u001b[0mmakedirs\u001b[0m\u001b[0;34m(\u001b[0m\u001b[0mhead\u001b[0m\u001b[0;34m,\u001b[0m \u001b[0mmode\u001b[0m\u001b[0;34m,\u001b[0m \u001b[0mexist_ok\u001b[0m\u001b[0;34m)\u001b[0m\u001b[0;34m\u001b[0m\u001b[0;34m\u001b[0m\u001b[0m\n\u001b[0m\u001b[1;32m    211\u001b[0m         \u001b[0;32mexcept\u001b[0m \u001b[0mFileExistsError\u001b[0m\u001b[0;34m:\u001b[0m\u001b[0;34m\u001b[0m\u001b[0;34m\u001b[0m\u001b[0m\n\u001b[1;32m    212\u001b[0m             \u001b[0;31m# Defeats race condition when another thread created the path\u001b[0m\u001b[0;34m\u001b[0m\u001b[0;34m\u001b[0m\u001b[0;34m\u001b[0m\u001b[0m\n",
      "\u001b[0;32m~/miniconda3/envs/py36/lib/python3.6/os.py\u001b[0m in \u001b[0;36mmakedirs\u001b[0;34m(name, mode, exist_ok)\u001b[0m\n\u001b[1;32m    218\u001b[0m             \u001b[0;32mreturn\u001b[0m\u001b[0;34m\u001b[0m\u001b[0;34m\u001b[0m\u001b[0m\n\u001b[1;32m    219\u001b[0m     \u001b[0;32mtry\u001b[0m\u001b[0;34m:\u001b[0m\u001b[0;34m\u001b[0m\u001b[0;34m\u001b[0m\u001b[0m\n\u001b[0;32m--> 220\u001b[0;31m         \u001b[0mmkdir\u001b[0m\u001b[0;34m(\u001b[0m\u001b[0mname\u001b[0m\u001b[0;34m,\u001b[0m \u001b[0mmode\u001b[0m\u001b[0;34m)\u001b[0m\u001b[0;34m\u001b[0m\u001b[0;34m\u001b[0m\u001b[0m\n\u001b[0m\u001b[1;32m    221\u001b[0m     \u001b[0;32mexcept\u001b[0m \u001b[0mOSError\u001b[0m\u001b[0;34m:\u001b[0m\u001b[0;34m\u001b[0m\u001b[0;34m\u001b[0m\u001b[0m\n\u001b[1;32m    222\u001b[0m         \u001b[0;31m# Cannot rely on checking for EEXIST, since the operating system\u001b[0m\u001b[0;34m\u001b[0m\u001b[0;34m\u001b[0m\u001b[0;34m\u001b[0m\u001b[0m\n",
      "\u001b[0;31mPermissionError\u001b[0m: [Errno 13] Permission denied: '/home/b3053674'"
     ]
    }
   ],
   "source": [
    "## get string model from `models`\n",
    "zi_model_string = models.ZiModels().published_zi\n",
    "\n",
    "## get a working directory. Change this to change this to wherever you like\n",
    "directory = r'/home/b3053674/Documents/Models/2017/10_Oct/TutorialWorkspace'\n",
    "if not os.path.isdir(directory):\n",
    "    os.makedirs(directory)\n",
    "\n",
    "## choose path to zi model\n",
    "zi_path = os.path.join(directory, 'zi2012.cps')\n",
    "\n",
    "##write model to file\n",
    "with open(zi_path, 'w') as f:\n",
    "    f.write(zi_model_string)\n",
    "    \n",
    "## check file exists\n",
    "if not os.path.isfile(zi_path):\n",
    "    raise Exception\n",
    "\n"
   ]
  },
  {
   "cell_type": "markdown",
   "metadata": {},
   "source": [
    "### Parse a Model into Pycotools\n",
    "The model.Model class accepts a path to a existing copasi file"
   ]
  },
  {
   "cell_type": "code",
   "execution_count": null,
   "metadata": {
    "ExecuteTime": {
     "end_time": "2018-06-20T13:13:55.159315Z",
     "start_time": "2018-06-20T13:13:55.086453Z"
    }
   },
   "outputs": [],
   "source": [
    "zi = model.Model(zi_path)\n",
    "zi"
   ]
  },
  {
   "cell_type": "markdown",
   "metadata": {},
   "source": [
    "### Open and Save\n",
    "It is sometimes desirable to `open` a copasi model that you're working with to manually perform sanity checks. The Model class has the open method for convenience: "
   ]
  },
  {
   "cell_type": "code",
   "execution_count": null,
   "metadata": {
    "ExecuteTime": {
     "end_time": "2018-06-20T13:14:06.068657Z",
     "start_time": "2018-06-20T13:13:59.561427Z"
    }
   },
   "outputs": [],
   "source": [
    "zi.open()"
   ]
  },
  {
   "cell_type": "markdown",
   "metadata": {},
   "source": [
    "The `Model.open()` method implicitly saves to file before calling CopasiUI form the command line. This means that the environment variable CopasiUI must be set and pointing to the location of the CopasiUI.exe (this is usually done when copasi installs). By default, the model is overwritten but this behaviour can be modified by passing a new filename to the `copasi_file` argument:"
   ]
  },
  {
   "cell_type": "code",
   "execution_count": null,
   "metadata": {
    "ExecuteTime": {
     "end_time": "2018-06-20T13:14:13.530063Z",
     "start_time": "2018-06-20T13:14:08.539375Z"
    }
   },
   "outputs": [],
   "source": [
    "## modify the zi path\n",
    "new_path = zi_path[:-4]+'2.cps'\n",
    "\n",
    "## saves model to new_path then opens\n",
    "zi.open(copasi_file=new_path)"
   ]
  },
  {
   "cell_type": "markdown",
   "metadata": {},
   "source": [
    "The `Model.save()` method behaves similarly to `Model.open`. By default it overwrites the model but takes an optional `copasi_file` as an argument."
   ]
  },
  {
   "cell_type": "code",
   "execution_count": null,
   "metadata": {
    "ExecuteTime": {
     "end_time": "2018-03-22T13:50:07.423302Z",
     "start_time": "2018-03-22T13:50:07.405532Z"
    }
   },
   "outputs": [],
   "source": [
    "zi.save()\n",
    "\n",
    "##equivalent\n",
    "zi.save(copasi_file=zi_path)"
   ]
  },
  {
   "cell_type": "markdown",
   "metadata": {},
   "source": [
    "### Get Model Information \n",
    "#### Model attributes\n",
    "Global model information such as model units or components are available as python attributes. "
   ]
  },
  {
   "cell_type": "code",
   "execution_count": null,
   "metadata": {
    "ExecuteTime": {
     "end_time": "2018-03-22T13:50:07.567560Z",
     "start_time": "2018-03-22T13:50:07.425075Z"
    }
   },
   "outputs": [],
   "source": [
    "attributes = ['time_unit', 'name', 'volume_unit', 'quantity_unit', 'area_unit', \n",
    "        'length_unit']\n",
    "for attr in attributes:\n",
    "    print ('is {} in zi model attributes? --> {}'.format(attr, attr in dir(zi)))\n"
   ]
  },
  {
   "cell_type": "markdown",
   "metadata": {},
   "source": [
    "#### Access Model Attributes\n",
    "Lists of `metabolites`, `global_quantities`, `functions`, `reactions`, `local_parameters` and `compartments` are all available as `model.Model` attributes. For example"
   ]
  },
  {
   "cell_type": "code",
   "execution_count": null,
   "metadata": {
    "ExecuteTime": {
     "end_time": "2018-03-22T13:50:07.698695Z",
     "start_time": "2018-03-22T13:50:07.569810Z"
    }
   },
   "outputs": [],
   "source": [
    "## metabolites\n",
    "print (type(zi.metabolites), len(zi.metabolites))"
   ]
  },
  {
   "cell_type": "code",
   "execution_count": null,
   "metadata": {
    "ExecuteTime": {
     "end_time": "2018-03-22T13:50:07.822332Z",
     "start_time": "2018-03-22T13:50:07.701870Z"
    }
   },
   "outputs": [],
   "source": [
    "## reactions\n",
    "print (type(zi.reactions), len(zi.reactions))"
   ]
  },
  {
   "cell_type": "markdown",
   "metadata": {},
   "source": [
    "Each element of the list returned from an attribute is a pycotools object."
   ]
  },
  {
   "cell_type": "code",
   "execution_count": null,
   "metadata": {
    "ExecuteTime": {
     "end_time": "2018-03-22T13:50:07.893335Z",
     "start_time": "2018-03-22T13:50:07.825281Z"
    }
   },
   "outputs": [],
   "source": [
    "print(type(zi.metabolites[0]))\n",
    "zi.metabolites[0]"
   ]
  },
  {
   "cell_type": "markdown",
   "metadata": {},
   "source": [
    "There are objects for `GlobalQuantity`, `Function`, `Reaction`, `LocalParameter` and `Compartment`. classes. These classes are storage classes and relevant information about that class is available as a python attribute."
   ]
  },
  {
   "cell_type": "code",
   "execution_count": null,
   "metadata": {
    "ExecuteTime": {
     "end_time": "2018-03-22T13:50:07.986775Z",
     "start_time": "2018-03-22T13:50:07.896190Z"
    }
   },
   "outputs": [],
   "source": [
    "##get global quantities list\n",
    "list_of_global_quantities = zi.global_quantities\n",
    "print ('type list_of_global_quantities --> {}'.format(type(list_of_global_quantities)))\n",
    "\n",
    "##get first GlobalQuantity in list\n",
    "global_quantity = list_of_global_quantities[0]\n",
    "print ('type global_quantity --> {}'.format(type(global_quantity)))\n",
    "\n",
    "## name of first GlobalQuantity\n",
    "print ('First global quantity in the list is --> {}'.format(global_quantity.name))\n",
    "\n",
    "## starting value of first GlobalQuantity\n",
    "print ('First global quantity in the list has initial value of --> {}'.format(global_quantity.initial_value))"
   ]
  },
  {
   "cell_type": "markdown",
   "metadata": {},
   "source": [
    "### Get, Set, Add and Remove\n",
    "#### How to get model objects\n",
    "The `Model.get` method is a high level interface into pycotools model components.\n",
    "\n",
    "Here are some examples:\n",
    "\n",
    "##### Get the Smad3c metabolite"
   ]
  },
  {
   "cell_type": "code",
   "execution_count": null,
   "metadata": {
    "ExecuteTime": {
     "end_time": "2018-06-20T13:14:47.568999Z",
     "start_time": "2018-06-20T13:14:47.524005Z"
    }
   },
   "outputs": [],
   "source": [
    "## get smad3 metabolite by name\n",
    "print (zi.get('metabolite', 'Smad3c', by='name'))"
   ]
  },
  {
   "cell_type": "markdown",
   "metadata": {},
   "source": [
    "##### Get any global quantity with a fixed simulation_type attribute "
   ]
  },
  {
   "cell_type": "code",
   "execution_count": null,
   "metadata": {
    "ExecuteTime": {
     "end_time": "2018-06-20T13:15:58.620336Z",
     "start_time": "2018-06-20T13:15:58.603469Z"
    },
    "scrolled": false
   },
   "outputs": [],
   "source": [
    "## get qlobal quantities with fixed simulation type\n",
    "fixed = (zi.get('global_quantity', 'fixed', by='simulation_type'))\n",
    "\n",
    "for f in fixed:\n",
    "    print(f.name, '\\t', f.initial_value)"
   ]
  },
  {
   "cell_type": "markdown",
   "metadata": {},
   "source": [
    "##### Get a function by its expression"
   ]
  },
  {
   "cell_type": "code",
   "execution_count": null,
   "metadata": {
    "ExecuteTime": {
     "end_time": "2018-06-20T13:16:11.031244Z",
     "start_time": "2018-06-20T13:16:11.022029Z"
    }
   },
   "outputs": [],
   "source": [
    "print (zi.get('function', 'v', by='expression'))"
   ]
  },
  {
   "cell_type": "markdown",
   "metadata": {},
   "source": [
    "##### Get all local parameters in the R17_LRC_formation reaction"
   ]
  },
  {
   "cell_type": "code",
   "execution_count": null,
   "metadata": {
    "ExecuteTime": {
     "end_time": "2018-03-22T13:50:08.408451Z",
     "start_time": "2018-03-22T13:50:08.310651Z"
    }
   },
   "outputs": [],
   "source": [
    "print (zi.get('local_parameter', 'R17_LRC_formation', by='reaction_name'))"
   ]
  },
  {
   "cell_type": "markdown",
   "metadata": {},
   "source": [
    "#### How to change existing model attributes\n",
    "Like `get` the `Model.set` method is a high level interface that takes a model component as first argument. The `set` method first searches the model for a component using the `get` method and then changes an attribute of the returned object. Often the attribute you want to change is the same as the attribute you've used to locate the object of interest (i.e. changing the name of a component). This does not need to be the case however. Here are some examples:\n",
    "\n",
    "##### Change the name of a metabolite"
   ]
  },
  {
   "cell_type": "code",
   "execution_count": null,
   "metadata": {
    "ExecuteTime": {
     "end_time": "2018-03-22T13:50:08.602424Z",
     "start_time": "2018-03-22T13:50:08.411538Z"
    }
   },
   "outputs": [],
   "source": [
    "## before the change\n",
    "print(zi.get('metabolite', 'Smad3c', by='name'))\n",
    "\n",
    "## Set the name of the metabolite with name 'Smad3c to 'NewSmad3c  \n",
    "zi.set('metabolite', 'Smad3c', 'NewSmad3c', match_field='name', change_field='name')\n",
    "\n",
    "## get Smad3c after the change\n",
    "print( zi.get('metabolite', 'Smad3c', by='name')) ## returns [] since it now doesn't exist\n",
    "\n",
    "## get NewSmad3c after the change\n",
    "print(zi.get('metabolite', 'NewSmad3c', by='name')) ##default value for by arg is 'name'\n",
    "\n",
    "## Change the name back\n",
    "zi.set('metabolite', 'NewSmad3c', 'Smad3c', match_field='name', change_field='name')\n",
    "## get Smad3c again after the change back\n",
    "print(zi.get('metabolite', 'Smad3c', by='name'))"
   ]
  },
  {
   "cell_type": "markdown",
   "metadata": {},
   "source": [
    "##### Change initial_value of a global_quantity"
   ]
  },
  {
   "cell_type": "code",
   "execution_count": null,
   "metadata": {
    "ExecuteTime": {
     "end_time": "2018-03-22T13:50:13.220691Z",
     "start_time": "2018-03-22T13:50:08.605105Z"
    }
   },
   "outputs": [],
   "source": [
    "## get Kexp_Smad2n global before a change\n",
    "kexp_smad2n = zi.get('global_quantity', 'Kexp_Smad2n', by='name')\n",
    "print(kexp_smad2n)\n",
    "\n",
    "## keep the initial value for later\n",
    "original_initial_value = kexp_smad2n.initial_value\n",
    "\n",
    "## change initial_value\n",
    "print (zi.set('global_quantity', 'Kexp_Smad2n', 35, match_field='name', change_field='initial_value'))\n",
    "zi.open()\n",
    "## get Kexp_Smad2n after the change\n",
    "print (zi.get('global_quantity', 'Kexp_Smad2n', by='name'))\n",
    "\n",
    "## change back to original value\n",
    "zi.set('global_quantity', 'Kexp_Smad2n', original_initial_value, match_field='name', change_field='initial_value')"
   ]
  },
  {
   "cell_type": "markdown",
   "metadata": {},
   "source": [
    "#### How to add a model component\n",
    "It is possible to add components to a copasi model directly from pycotools. It is easier to use the COPASI user interface however  (easily accessable using the `Model.open` method), unless there is a requirement for automation. For example, maybe you have many model replicates and want to add something to all of them. \n",
    "\n",
    "To add a component to the model directly from python, first create an instance of the class for the component you want to add. The possibilities are `model.Compartment`, `model.Metabolite`, `model.GlobalQuantity`, `model.Reaction`, `model.Function`. \n",
    "\n",
    "Note that support has not been built for assigning global_quantities to rate parameters for reactions. This is on the TODO list. \n",
    "\n",
    "##### Add a metabolite"
   ]
  },
  {
   "cell_type": "code",
   "execution_count": null,
   "metadata": {
    "ExecuteTime": {
     "end_time": "2018-03-22T13:50:13.246599Z",
     "start_time": "2018-03-22T13:50:13.222976Z"
    },
    "run_control": {
     "marked": true
    }
   },
   "outputs": [],
   "source": [
    "## add metabolite to model \n",
    "zi = zi.add('metabolite', name='metab', concentration=30, compartment='Nucleus')\n",
    "\n",
    "## Check the metabolite exists\n",
    "zi.get('metabolite', 'metab', by='name')"
   ]
  },
  {
   "cell_type": "markdown",
   "metadata": {},
   "source": [
    "Alternatively create a metabolite with default attribute values"
   ]
  },
  {
   "cell_type": "code",
   "execution_count": null,
   "metadata": {
    "ExecuteTime": {
     "end_time": "2018-03-22T13:50:13.612882Z",
     "start_time": "2018-03-22T13:50:13.248323Z"
    }
   },
   "outputs": [],
   "source": [
    "zi = zi.add('metabolite', name='this_is_a_new_metabolite')\n",
    "\n",
    "zi.get('metabolite', 'this_is_a_new_metabolite')"
   ]
  },
  {
   "cell_type": "markdown",
   "metadata": {},
   "source": [
    "##### Add a global quantity to the model"
   ]
  },
  {
   "cell_type": "code",
   "execution_count": null,
   "metadata": {
    "ExecuteTime": {
     "end_time": "2018-03-22T13:50:13.721730Z",
     "start_time": "2018-03-22T13:50:13.615339Z"
    }
   },
   "outputs": [],
   "source": [
    "## add global quantity to the model\n",
    "zi.add('global_quantity', name='X', initial_value=25)\n",
    "\n",
    "## Get the global quantity\n",
    "zi.get('global_quantity', 'X')"
   ]
  },
  {
   "cell_type": "markdown",
   "metadata": {},
   "source": [
    "##### Add a reaction\n",
    "A reaction takes a name, expression and rate law as minimum input requriments. The expression follows the same syntax as COPASI including the spaces. The rate law supports copasi syntax as well. If you want to us, wrap them in a '<>' delimiterse any.  of the other functions that copasi provides (such as `if`, `floor` or `ceil`), wrap them in a '<>' delimiters. "
   ]
  },
  {
   "cell_type": "code",
   "execution_count": null,
   "metadata": {
    "ExecuteTime": {
     "end_time": "2018-03-22T13:50:13.900893Z",
     "start_time": "2018-03-22T13:50:13.723838Z"
    }
   },
   "outputs": [],
   "source": [
    "## create reaction and add reaction\n",
    "zi.add('reaction', name='new_reaction', expression='A -> B ;C', rate_law='k*A^h-C')\n",
    "\n",
    "## check the reaction exists\n",
    "print(zi.get('reaction', 'new_reaction', by='name'))"
   ]
  },
  {
   "cell_type": "markdown",
   "metadata": {},
   "source": [
    "#### Remove model components\n",
    "We've just added a metabolite called `metab` and `this_is_a_new_metabolite`, a global quantity called `X` and a reaction called `new_reaction`. We can remove these components again with the model.Remove method"
   ]
  },
  {
   "cell_type": "code",
   "execution_count": null,
   "metadata": {
    "ExecuteTime": {
     "end_time": "2018-03-22T13:50:13.938656Z",
     "start_time": "2018-03-22T13:50:13.902706Z"
    },
    "scrolled": true
   },
   "outputs": [],
   "source": [
    "## Use simple list comprehension to remove both metabolites at the same time\n",
    "[zi.remove('metabolite', i) for i in ['metab', 'this_is_a_new_metabolite']]\n",
    "\n",
    "# ## remove global_quantity called 'X'\n",
    "zi.remove('global_quantity', 'X')\n",
    "\n",
    "# ## remove reaction called new_reaction\n",
    "zi.remove('reaction', 'new_reaction')"
   ]
  },
  {
   "cell_type": "markdown",
   "metadata": {},
   "source": [
    "### Build a new model: The Build Context Manager\n",
    "While the CopasiUI is still the best way to build a model, PyCoTools does support model construction. Here's how:"
   ]
  },
  {
   "cell_type": "code",
   "execution_count": null,
   "metadata": {
    "ExecuteTime": {
     "end_time": "2018-03-22T13:50:14.121940Z",
     "start_time": "2018-03-22T13:50:13.940654Z"
    }
   },
   "outputs": [],
   "source": [
    "working_directory = r'/home/b3053674/Documents/Models/2018/01_Jan/PyCoToolsQuickStart'\n",
    "copasi_file = os.path.join(working_directory, 'quick_start_model.cps')\n",
    "\n",
    "## By default, if the copasi_file already exists, the model will not save to it. \n",
    "## This is defence against accidently overwriting changes. Therefore here we say:\n",
    "## if the model already exists, remove it and we'll start again. \n",
    "if os.path.isfile(copasi_file):\n",
    "    os.remove(copasi_file)\n",
    "\n",
    "\n",
    "## create some python variables for convenience \n",
    "kf = 0.01\n",
    "kb = 0.1\n",
    "kcat = 0.03\n",
    "\n",
    "with model.Build(copasi_file) as m:\n",
    "    m.name = 'Michaelis-Menten'\n",
    "    \n",
    "    ## Prespecification of compartment and metabolites is not necessary as defaults are automaticlly created\n",
    "    ## Here we be explicit to directly specify specie concentrations\n",
    "    m.add('compartment', name='Cell')\n",
    "    \n",
    "    m.add('metabolite', name='P', concentration=0)\n",
    "    m.add('metabolite', name='S', concentration=50)\n",
    "    m.add('metabolite', name='E', concentration=15)\n",
    "    m.add('metabolite', name='ES', concentration=0)\n",
    "    \n",
    "    ## type of reaction component are inferred from the expression\n",
    "    ## For example, here S and E are substrates, ES is product and kf is parameter. \n",
    "    ## The reaction has no modifiers. Note, expression has the same syntax as copasi GUI\n",
    "    m.add('reaction', name='S bind E', \n",
    "          expression='S + E -> ES', \n",
    "          rate_law='k*S*E',\n",
    "          parameter_values={'kf': kf})\n",
    "    \n",
    "    m.add('reaction', name='S unbind E', \n",
    "          expression='ES -> S + E', \n",
    "          rate_law='kb*ES',\n",
    "         parameter_values={'kb': kb})\n",
    "\n",
    "    m.add('reaction', name='ES produce P', \n",
    "          expression='ES -> P',\n",
    "          rate_law='kcat*ES', \n",
    "          parameter_values={'kcat': kcat})\n",
    "    \n",
    "michaelis_menten = model.Model(copasi_file)\n",
    "\n",
    "michaelis_menten"
   ]
  },
  {
   "cell_type": "markdown",
   "metadata": {},
   "source": [
    "### Build With Antimony\n",
    "Please see the build with antimony Tutorial"
   ]
  }
 ],
 "metadata": {
  "hide_input": false,
  "kernelspec": {
   "display_name": "Python 3",
   "language": "python",
   "name": "python3"
  },
  "language_info": {
   "codemirror_mode": {
    "name": "ipython",
    "version": 3
   },
   "file_extension": ".py",
   "mimetype": "text/x-python",
   "name": "python",
   "nbconvert_exporter": "python",
   "pygments_lexer": "ipython3",
   "version": "3.6.8"
  },
  "latex_envs": {
   "LaTeX_envs_menu_present": true,
   "autocomplete": true,
   "bibliofile": "biblio.bib",
   "cite_by": "apalike",
   "current_citInitial": 1,
   "eqLabelWithNumbers": true,
   "eqNumInitial": 1,
   "hotkeys": {
    "equation": "Ctrl-E",
    "itemize": "Ctrl-I"
   },
   "labels_anchors": false,
   "latex_user_defs": false,
   "report_style_numbering": false,
   "user_envs_cfg": false
  },
  "toc": {
   "colors": {
    "hover_highlight": "#DAA520",
    "navigate_num": "#000000",
    "navigate_text": "#333333",
    "running_highlight": "#FF0000",
    "selected_highlight": "#FFD700",
    "sidebar_border": "#EEEEEE",
    "wrapper_background": "#FFFFFF"
   },
   "moveMenuLeft": true,
   "nav_menu": {
    "height": "238px",
    "width": "252px"
   },
   "navigate_menu": true,
   "number_sections": true,
   "sideBar": true,
   "threshold": 4,
   "toc_cell": false,
   "toc_section_display": "block",
   "toc_window_display": true,
   "widenNotebook": false
  },
  "varInspector": {
   "cols": {
    "lenName": 16,
    "lenType": 16,
    "lenVar": 40
   },
   "kernels_config": {
    "python": {
     "delete_cmd_postfix": "",
     "delete_cmd_prefix": "del ",
     "library": "var_list.py",
     "varRefreshCmd": "print(var_dic_list())"
    },
    "r": {
     "delete_cmd_postfix": ") ",
     "delete_cmd_prefix": "rm(",
     "library": "var_list.r",
     "varRefreshCmd": "cat(var_dic_list()) "
    }
   },
   "types_to_exclude": [
    "module",
    "function",
    "builtin_function_or_method",
    "instance",
    "_Feature"
   ],
   "window_display": false
  }
 },
 "nbformat": 4,
 "nbformat_minor": 2
}
