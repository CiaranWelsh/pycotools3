{
 "cells": [
  {
   "cell_type": "markdown",
   "metadata": {},
   "source": [
    "## Getting started\n",
    "As PyCoTools only provides an alternative interface into some of COPASI's tasks, if you are unfamiliar with `COPASI <http://copasi.org/>`_ then it is a good idea to become acquainted, prior to proceeding. As much as possible, arguments to PyCoTools functions follow the corresponding option in the COPASI user interface.\n",
    "\n",
    "In addition to COPASI, PyCoTools depends on `tellurium <http://tellurium.analogmachine.org/>`_ which is a Python package for modelling biological systems. While tellurium and COPASI have some of the same features, generally they are complementary and productivity is enhanced by using both together.\n",
    "\n",
    "More specifically, tellurium uses `antimony strings <http://tellurium.analogmachine.org/antimony-tutorial/>`_ to define a model which is then converted into SBML. PyCoTools provides the :class:`model.BuildAntimony` class which is a wrapper around this tellurium feature, which creates a Copasi model and parses it into a PyCoTools :class:`model.Model`\n",
    "\n",
    "Since antimony is described `elsewhere <http://tellurium.analogmachine.org/antimony-tutorial/>`_ we will focus here on using antimony to build a copasi model.\n",
    "\n",
    "\n",
    "### Build a model with antimony"
   ]
  },
  {
   "cell_type": "code",
   "execution_count": 6,
   "metadata": {},
   "outputs": [
    {
     "name": "stdout",
     "output_type": "stream",
     "text": [
      "Model(name=negative_feedback, time_unit=s, volume_unit=l, quantity_unit=mol)\n"
     ]
    }
   ],
   "source": [
    "import site, os\n",
    "site.addsitedir('D:\\pycotools3')\n",
    "from pycotools3 import model\n",
    "\n",
    "working_directory = os.path.abspath('')\n",
    "copasi_filename = os.path.join(working_directory, 'NegativeFeedbackModel.cps')\n",
    "antimony_string =  '''\n",
    "    model negative_feedback()\n",
    "        // define compartments\n",
    "        compartment cell = 1.0\n",
    "        //define species\n",
    "        var A in cell\n",
    "        var B in cell\n",
    "        //define some global parameter for use in reactions\n",
    "        vAProd = 0.1\n",
    "        kADeg = 0.2\n",
    "        kBProd = 0.3\n",
    "        kBDeg = 0.4\n",
    "        //define initial conditions\n",
    "        A = 0\n",
    "        B = 0\n",
    "        //define reactions\n",
    "        AProd: => A; cell*vAProd\n",
    "        ADeg: A =>; cell*kADeg*A*B\n",
    "        BProd: => B; cell*kBProd*A\n",
    "        BDeg: B => ; cell*kBDeg*B\n",
    "    end\n",
    "    '''\n",
    "with model.BuildAntimony(copasi_filename) as loader:\n",
    "    negative_feedback = loader.load(antimony_string)\n",
    "print(negative_feedback)\n",
    "assert os.path.isfile(copasi_filename)"
   ]
  },
  {
   "cell_type": "markdown",
   "metadata": {},
   "source": [
    "### Create an antmiony string from an existing model\n",
    "The Copasi user interface is an excellant way of constructing a model and it is easy to convert this model into an antimony string that can be pasted into a document."
   ]
  },
  {
   "cell_type": "code",
   "execution_count": 8,
   "metadata": {},
   "outputs": [
    {
     "name": "stdout",
     "output_type": "stream",
     "text": [
      "// Created by libAntimony v2.9.4\n",
      "function Constant_flux__irreversible(v)\n",
      "  v;\n",
      "end\n",
      "\n",
      "function Function_for_ADeg(A, B, kADeg)\n",
      "  kADeg*A*B;\n",
      "end\n",
      "\n",
      "function Function_for_BProd(A, kBProd)\n",
      "  kBProd*A;\n",
      "end\n",
      "\n",
      "\n",
      "model *negative_feedback()\n",
      "\n",
      "  // Compartments and Species:\n",
      "  compartment cell;\n",
      "  species A in cell, B in cell;\n",
      "\n",
      "  // Reactions:\n",
      "  AProd:  => A; cell*Constant_flux__irreversible(vAProd);\n",
      "  ADeg: A => ; cell*Function_for_ADeg(A, B, kADeg);\n",
      "  BProd:  => B; cell*Function_for_BProd(A, kBProd);\n",
      "  BDeg: B => ; cell*kBDeg*B;\n",
      "\n",
      "  // Species initializations:\n",
      "  A = 0;\n",
      "  B = 0;\n",
      "\n",
      "  // Compartment initializations:\n",
      "  cell = 1;\n",
      "\n",
      "  // Variable initializations:\n",
      "  vAProd = 0.1;\n",
      "  kADeg = 0.2;\n",
      "  kBProd = 0.3;\n",
      "  kBDeg = 0.4;\n",
      "\n",
      "  // Other declarations:\n",
      "  const cell, vAProd, kADeg, kBProd, kBDeg;\n",
      "end\n",
      "\n"
     ]
    }
   ],
   "source": [
    "print(negative_feedback.to_antimony())"
   ]
  },
  {
   "cell_type": "markdown",
   "metadata": {},
   "source": [
    "One paradigm of model development is to use antimony to 'hard code' perminent changes to the model and the Copasi user interface for experimental changes. The `Model.open()` method is useful for this paradigm as it opens the model with whatever configurations have been defined."
   ]
  },
  {
   "cell_type": "code",
   "execution_count": 10,
   "metadata": {},
   "outputs": [
    {
     "name": "stdout",
     "output_type": "stream",
     "text": [
      "cmd D:\\pycotools3\\pycotools3\\COPASI\\windows\\CopasiUI.exe \"D:\\pycotools3\\docs\\source\\NegativeFeedbackModel.cps\"\n"
     ]
    }
   ],
   "source": [
    "## negative_feedback.open()"
   ]
  },
  {
   "cell_type": "markdown",
   "metadata": {},
   "source": [
    "### Simulate a time course\n",
    "\n",
    "Since we have used an antimony string, we can simulate this model with either tellurium or Copasi. Simulating with tellurium uses a library called roadrunner which is described in detail `elsewhere <https://libroadrunner.readthedocs.io/en/latest/integration.html>`_. To run a simulation with Copasi we need to configure the time course task, make the task executable (i.e. tick the check box in the top right of the time course task) and run the simulation with CopasiSE. This is all taken care of by the :class:`tasks.TimeCourse` class.\n"
   ]
  },
  {
   "cell_type": "code",
   "execution_count": 15,
   "metadata": {},
   "outputs": [
    {
     "data": {
      "text/plain": [
       "<pycotools3.tasks.TimeCourse at 0x269945e9fd0>"
      ]
     },
     "execution_count": 15,
     "metadata": {},
     "output_type": "execute_result"
    }
   ],
   "source": [
    "from pycotools3 import tasks\n",
    "time_course = tasks.TimeCourse(negative_feedback, end=100, step_size=1, intervals=100)\n",
    "time_course"
   ]
  },
  {
   "cell_type": "markdown",
   "metadata": {},
   "source": [
    "\n",
    "The results are saved in a file defined by the :code:`report_name` option, which defaults to :code:`timecourse.txt` in the same directory as the copasi model.\n",
    "\n",
    "### Visualise a time course\n",
    "PyCoTools also provides facilities for visualising simulation output. To plot a timecourse, pass the :class:`task.TimeCourse` object to the :class:`viz.PlotTimeCourse` object.\n"
   ]
  },
  {
   "cell_type": "code",
   "execution_count": 16,
   "metadata": {},
   "outputs": [
    {
     "data": {
      "text/plain": [
       "<pycotools3.viz.PlotTimeCourse at 0x269945e9e48>"
      ]
     },
     "execution_count": 16,
     "metadata": {},
     "output_type": "execute_result"
    },
    {
     "data": {
      "image/png": "[encoded data removed]",
      "text/plain": [
       "<Figure size 432x288 with 1 Axes>"
      ]
     },
     "metadata": {
      "needs_background": "light"
     },
     "output_type": "display_data"
    },
    {
     "data": {
      "image/png": "[encoded data removed]",
      "text/plain": [
       "<Figure size 432x288 with 1 Axes>"
      ]
     },
     "metadata": {
      "needs_background": "light"
     },
     "output_type": "display_data"
    }
   ],
   "source": [
    "from pycotools3 import viz\n",
    "viz.PlotTimeCourse(time_course, savefig=True)"
   ]
  },
  {
   "cell_type": "markdown",
   "metadata": {},
   "source": [
    "More information about running time courses with PyCoTools and Copasi can be found in the `time course tutorial <./Tutorials/Timecourse.ipynb>`_"
   ]
  }
 ],
 "metadata": {
  "kernelspec": {
   "display_name": "Python 3",
   "language": "python",
   "name": "python3"
  },
  "language_info": {
   "codemirror_mode": {
    "name": "ipython",
    "version": 3
   },
   "file_extension": ".py",
   "mimetype": "text/x-python",
   "name": "python",
   "nbconvert_exporter": "python",
   "pygments_lexer": "ipython3",
   "version": "3.6.6"
  }
 },
 "nbformat": 4,
 "nbformat_minor": 2
}
