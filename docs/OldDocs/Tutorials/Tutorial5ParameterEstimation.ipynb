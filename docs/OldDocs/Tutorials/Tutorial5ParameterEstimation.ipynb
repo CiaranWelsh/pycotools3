{
 "cells": [
  {
   "cell_type": "markdown",
   "metadata": {},
   "source": [
    "## Parameter Estimation Tutorial"
   ]
  },
  {
   "cell_type": "code",
   "execution_count": 1,
   "metadata": {
    "ExecuteTime": {
     "end_time": "2018-04-20T09:52:27.017405Z",
     "start_time": "2018-04-20T09:52:27.012178Z"
    },
    "scrolled": true
   },
   "outputs": [],
   "source": [
    "import os, glob\n",
    "import site\n",
    "site.addsitedir(r'/home/ncw135/Documents/pycotools3')\n",
    "from pycotools3 import viz, model, misc, tasks, models\n",
    "from io import StringIO\n",
    "import pandas\n",
    "%matplotlib inline"
   ]
  },
  {
   "cell_type": "markdown",
   "metadata": {},
   "source": [
    "### Build a Model"
   ]
  },
  {
   "cell_type": "code",
   "execution_count": 2,
   "metadata": {
    "ExecuteTime": {
     "end_time": "2018-03-23T10:25:57.881079Z",
     "start_time": "2018-03-23T10:25:52.590150Z"
    }
   },
   "outputs": [],
   "source": [
    "working_directory = os.path.abspath('')\n",
    "\n",
    "copasi_file = os.path.join(working_directory, 'negative_feedback.cps')\n",
    "\n",
    "with model.BuildAntimony(copasi_file) as loader:\n",
    "    mod = loader.load(\n",
    "        \"\"\"\n",
    "        model negative_feedback\n",
    "            compartment cell = 1.0\n",
    "            var A in cell\n",
    "            var B in cell\n",
    "\n",
    "            vAProd = 0.1\n",
    "            kADeg = 0.2\n",
    "            kBProd = 0.3\n",
    "            kBDeg = 0.4\n",
    "            A = 0\n",
    "            B = 0\n",
    "\n",
    "            AProd: => A; cell*vAProd\n",
    "            ADeg: A =>; cell*kADeg*A*B\n",
    "            BProd: => B; cell*kBProd*A\n",
    "            BDeg: B => ; cell*kBDeg*B\n",
    "        end\n",
    "        \"\"\".strip()\n",
    "    )\n",
    "\n",
    "## open model in copasi\n",
    "#mod.open()"
   ]
  },
  {
   "cell_type": "markdown",
   "metadata": {},
   "source": [
    "### Collect some experimental data\n",
    "Organise your experimental data into delimited text files"
   ]
  },
  {
   "cell_type": "code",
   "execution_count": 3,
   "metadata": {},
   "outputs": [],
   "source": [
    "experimental_data = StringIO(\n",
    "    \"\"\"\n",
    "Time,A,B\n",
    " 0, 0.000000, 0.000000\n",
    " 1, 0.099932, 0.013181\n",
    " 2, 0.199023, 0.046643\n",
    " 3, 0.295526, 0.093275\n",
    " 4, 0.387233, 0.147810\n",
    " 5, 0.471935, 0.206160\n",
    " 6, 0.547789, 0.265083\n",
    " 7, 0.613554, 0.322023\n",
    " 8, 0.668702, 0.375056\n",
    " 9, 0.713393, 0.422852\n",
    "10, 0.748359, 0.464639\n",
    "    \"\"\".strip()\n",
    ")\n",
    "\n",
    "df = pandas.read_csv(experimental_data, index_col=0)\n",
    "\n",
    "fname = os.path.join(os.path.abspath(''), 'experimental_data.csv')\n",
    "df.to_csv(fname)\n",
    "\n",
    "assert os.path.isfile(fname)"
   ]
  },
  {
   "cell_type": "markdown",
   "metadata": {},
   "source": [
    "### The Config Object\n",
    "The interface to COPASI's parameter estimation using `pycotools3` revolves around the `ParameterEstimation.Config` object. `ParameterEstimation.Config` is a dictionary-like object which allows the user to define their parameter estimation problem. All features of COPASI's parameter estimations task are supported, including configuration of `validation experiments`, `affected experiments`, `affected validation experiments` and `constraints` as well additional features such as the configuration of multiple models simultaneously.\n",
    "\n",
    "The `ParameterEstimation.Config` object expects at the bare minimum some information about the models being configured, some experimental data, some fit items and a working directory. The remaining options are automatically filled in with defaults. "
   ]
  },
  {
   "cell_type": "code",
   "execution_count": 4,
   "metadata": {},
   "outputs": [
    {
     "data": {
      "text/plain": [
       "datasets:\n",
       "    experiments:\n",
       "        first_dataset:\n",
       "            affected_models: all\n",
       "            filename: /home/ncw135/Documents/pycotools3/docs/source/Tutorials/experimental_data.csv\n",
       "            mappings:\n",
       "                A:\n",
       "                    model_object: A\n",
       "                    object_type: Metabolite\n",
       "                    role: dependent\n",
       "                B:\n",
       "                    model_object: B\n",
       "                    object_type: Metabolite\n",
       "                    role: dependent\n",
       "                Time:\n",
       "                    model_object: Time\n",
       "                    role: time\n",
       "            normalize_weights_per_experiment: true\n",
       "            separator: ','\n",
       "    validations: {}\n",
       "items:\n",
       "    fit_items:\n",
       "        A:\n",
       "            affected_experiments:\n",
       "            - first_dataset\n",
       "            affected_models:\n",
       "            - model_name\n",
       "            affected_validation_experiments: []\n",
       "            lower_bound: 1.0e-06\n",
       "            start_value: model_value\n",
       "            upper_bound: 1000000.0\n",
       "        B:\n",
       "            affected_experiments:\n",
       "            - first_dataset\n",
       "            affected_models:\n",
       "            - model_name\n",
       "            affected_validation_experiments: []\n",
       "            lower_bound: 1.0e-06\n",
       "            start_value: model_value\n",
       "            upper_bound: 1000000.0\n",
       "models:\n",
       "    model_name:\n",
       "        copasi_file: /home/ncw135/Documents/pycotools3/docs/source/Tutorials/negative_feedback.cps\n",
       "        model: Model(name=negative_feedback, time_unit=s, volume_unit=l, quantity_unit=mol)\n",
       "settings:\n",
       "    calculate_statistics: false\n",
       "    config_filename: config.yml\n",
       "    cooling_factor: 0.85\n",
       "    copy_number: 1\n",
       "    create_parameter_sets: false\n",
       "    fit: 1\n",
       "    iteration_limit: 50\n",
       "    lower_bound: 1.0e-06\n",
       "    max_active: 3\n",
       "    method: genetic_algorithm\n",
       "    number_of_generations: 200\n",
       "    number_of_iterations: 100000\n",
       "    overwrite_config_file: false\n",
       "    pe_number: 1\n",
       "    pf: 0.475\n",
       "    population_size: 50\n",
       "    prefix: null\n",
       "    problem: 1\n",
       "    quantity_type: concentration\n",
       "    random_number_generator: 1\n",
       "    randomize_start_values: false\n",
       "    report_name: PEData.txt\n",
       "    results_directory: ParameterEstimationData\n",
       "    rho: 0.2\n",
       "    run_mode: false\n",
       "    save: false\n",
       "    scale: 10\n",
       "    seed: 0\n",
       "    start_temperature: 1\n",
       "    start_value: 0.1\n",
       "    std_deviation: 1.0e-06\n",
       "    swarm_size: 50\n",
       "    tolerance: 1.0e-05\n",
       "    update_model: false\n",
       "    upper_bound: 1000000\n",
       "    use_config_start_values: false\n",
       "    validation_threshold: 5\n",
       "    validation_weight: 1\n",
       "    weight_method: mean_squared\n",
       "    working_directory: /home/ncw135/Documents/pycotools3/docs/source/Tutorials"
      ]
     },
     "execution_count": 4,
     "metadata": {},
     "output_type": "execute_result"
    }
   ],
   "source": [
    "config = tasks.ParameterEstimation.Config(\n",
    "    models=dict(\n",
    "        model_name=dict(\n",
    "            copasi_file=copasi_file\n",
    "        )\n",
    "    ),\n",
    "    datasets=dict(\n",
    "        experiments=dict(\n",
    "            first_dataset=dict(\n",
    "                filename=fname,    \n",
    "                separator=','\n",
    "            )\n",
    "        )\n",
    "    ),\n",
    "    items=dict(\n",
    "        fit_items=dict(\n",
    "            A={},\n",
    "            B={},\n",
    "        )\n",
    "    ),\n",
    "    settings=dict(\n",
    "        working_directory=working_directory\n",
    "    )\n",
    ")\n",
    "config"
   ]
  },
  {
   "cell_type": "markdown",
   "metadata": {},
   "source": [
    "The COPASI user will be familiar with most of these settings, though there are also a few [additional options](link/to/additional/options).\n",
    "\n",
    "Once built, a `ParameterEstimation.Config` object can be passed to `ParameterEstimation` object. "
   ]
  },
  {
   "cell_type": "code",
   "execution_count": 5,
   "metadata": {},
   "outputs": [],
   "source": [
    "PE = tasks.ParameterEstimation(config)"
   ]
  },
  {
   "cell_type": "markdown",
   "metadata": {},
   "source": [
    "By default, the `run_mode` setting is set to False. To run the parameter estimation in background processes using CopasiSE, set `run_mode` to `True` or `parallel`. "
   ]
  },
  {
   "cell_type": "code",
   "execution_count": 7,
   "metadata": {
    "scrolled": true
   },
   "outputs": [
    {
     "ename": "TypeError",
     "evalue": "unsupported operand type(s) for +: 'dict' and 'str'",
     "output_type": "error",
     "traceback": [
      "\u001b[0;31m---------------------------------------------------------------------------\u001b[0m",
      "\u001b[0;31mTypeError\u001b[0m                                 Traceback (most recent call last)",
      "\u001b[0;32m<ipython-input-7-9151a6a5309e>\u001b[0m in \u001b[0;36m<module>\u001b[0;34m\u001b[0m\n\u001b[1;32m      1\u001b[0m \u001b[0mconfig\u001b[0m\u001b[0;34m.\u001b[0m\u001b[0msettings\u001b[0m\u001b[0;34m.\u001b[0m\u001b[0mrun_mode\u001b[0m \u001b[0;34m=\u001b[0m \u001b[0;32mTrue\u001b[0m\u001b[0;34m\u001b[0m\u001b[0;34m\u001b[0m\u001b[0m\n\u001b[1;32m      2\u001b[0m \u001b[0mPE\u001b[0m \u001b[0;34m=\u001b[0m \u001b[0mtasks\u001b[0m\u001b[0;34m.\u001b[0m\u001b[0mParameterEstimation\u001b[0m\u001b[0;34m(\u001b[0m\u001b[0mconfig\u001b[0m\u001b[0;34m)\u001b[0m\u001b[0;34m\u001b[0m\u001b[0;34m\u001b[0m\u001b[0m\n\u001b[0;32m----> 3\u001b[0;31m \u001b[0mviz\u001b[0m\u001b[0;34m.\u001b[0m\u001b[0mParse\u001b[0m\u001b[0;34m(\u001b[0m\u001b[0mPE\u001b[0m\u001b[0;34m)\u001b[0m\u001b[0;34m\u001b[0m\u001b[0;34m\u001b[0m\u001b[0m\n\u001b[0m\u001b[1;32m      4\u001b[0m \u001b[0;31m# config\u001b[0m\u001b[0;34m\u001b[0m\u001b[0;34m\u001b[0m\u001b[0;34m\u001b[0m\u001b[0m\n",
      "\u001b[0;32m~/Documents/pycotools3/pycotools3/viz.py\u001b[0m in \u001b[0;36m__init__\u001b[0;34m(self, cls_instance, log10, copasi_file, alpha, rss_value, num_data_points)\u001b[0m\n\u001b[1;32m    489\u001b[0m                 \u001b[0;31m#     )\u001b[0m\u001b[0;34m\u001b[0m\u001b[0;34m\u001b[0m\u001b[0;34m\u001b[0m\u001b[0m\n\u001b[1;32m    490\u001b[0m \u001b[0;34m\u001b[0m\u001b[0m\n\u001b[0;32m--> 491\u001b[0;31m         \u001b[0mself\u001b[0m\u001b[0;34m.\u001b[0m\u001b[0mdata\u001b[0m \u001b[0;34m=\u001b[0m \u001b[0mself\u001b[0m\u001b[0;34m.\u001b[0m\u001b[0mparse\u001b[0m\u001b[0;34m(\u001b[0m\u001b[0;34m)\u001b[0m\u001b[0;34m\u001b[0m\u001b[0;34m\u001b[0m\u001b[0m\n\u001b[0m\u001b[1;32m    492\u001b[0m \u001b[0;34m\u001b[0m\u001b[0m\n\u001b[1;32m    493\u001b[0m     \u001b[0;32mdef\u001b[0m \u001b[0mparse\u001b[0m\u001b[0;34m(\u001b[0m\u001b[0mself\u001b[0m\u001b[0;34m)\u001b[0m\u001b[0;34m:\u001b[0m\u001b[0;34m\u001b[0m\u001b[0;34m\u001b[0m\u001b[0m\n",
      "\u001b[0;32m~/Documents/pycotools3/pycotools3/viz.py\u001b[0m in \u001b[0;36mparse\u001b[0;34m(self)\u001b[0m\n\u001b[1;32m    507\u001b[0m \u001b[0;34m\u001b[0m\u001b[0m\n\u001b[1;32m    508\u001b[0m         \u001b[0;32melif\u001b[0m \u001b[0mtype\u001b[0m\u001b[0;34m(\u001b[0m\u001b[0mself\u001b[0m\u001b[0;34m.\u001b[0m\u001b[0mcls_instance\u001b[0m\u001b[0;34m)\u001b[0m \u001b[0;34m==\u001b[0m \u001b[0mtasks\u001b[0m\u001b[0;34m.\u001b[0m\u001b[0mParameterEstimation\u001b[0m\u001b[0;34m:\u001b[0m\u001b[0;34m\u001b[0m\u001b[0;34m\u001b[0m\u001b[0m\n\u001b[0;32m--> 509\u001b[0;31m             \u001b[0mdata\u001b[0m \u001b[0;34m=\u001b[0m \u001b[0mself\u001b[0m\u001b[0;34m.\u001b[0m\u001b[0mfrom_multi_parameter_estimation\u001b[0m\u001b[0;34m(\u001b[0m\u001b[0mself\u001b[0m\u001b[0;34m.\u001b[0m\u001b[0mcls_instance\u001b[0m\u001b[0;34m)\u001b[0m\u001b[0;34m\u001b[0m\u001b[0;34m\u001b[0m\u001b[0m\n\u001b[0m\u001b[1;32m    510\u001b[0m \u001b[0;34m\u001b[0m\u001b[0m\n\u001b[1;32m    511\u001b[0m         \u001b[0;32melif\u001b[0m \u001b[0mtype\u001b[0m\u001b[0;34m(\u001b[0m\u001b[0mself\u001b[0m\u001b[0;34m.\u001b[0m\u001b[0mcls_instance\u001b[0m\u001b[0;34m)\u001b[0m \u001b[0;34m==\u001b[0m \u001b[0mParse\u001b[0m\u001b[0;34m:\u001b[0m\u001b[0;34m\u001b[0m\u001b[0;34m\u001b[0m\u001b[0m\n",
      "\u001b[0;32m~/Documents/pycotools3/pycotools3/viz.py\u001b[0m in \u001b[0;36mfrom_multi_parameter_estimation\u001b[0;34m(cls_instance, folder)\u001b[0m\n\u001b[1;32m    613\u001b[0m         \u001b[0md\u001b[0m \u001b[0;34m=\u001b[0m \u001b[0;34m{\u001b[0m\u001b[0;34m}\u001b[0m\u001b[0;34m\u001b[0m\u001b[0;34m\u001b[0m\u001b[0m\n\u001b[1;32m    614\u001b[0m \u001b[0;34m\u001b[0m\u001b[0m\n\u001b[0;32m--> 615\u001b[0;31m         \u001b[0;32mfor\u001b[0m \u001b[0mreport_name\u001b[0m \u001b[0;32min\u001b[0m \u001b[0mglob\u001b[0m\u001b[0;34m.\u001b[0m\u001b[0mglob\u001b[0m\u001b[0;34m(\u001b[0m\u001b[0mfolder\u001b[0m\u001b[0;34m+\u001b[0m\u001b[0;34mr'/*.txt'\u001b[0m\u001b[0;34m)\u001b[0m\u001b[0;34m:\u001b[0m\u001b[0;34m\u001b[0m\u001b[0;34m\u001b[0m\u001b[0m\n\u001b[0m\u001b[1;32m    616\u001b[0m             \u001b[0mreport_name\u001b[0m \u001b[0;34m=\u001b[0m \u001b[0mos\u001b[0m\u001b[0;34m.\u001b[0m\u001b[0mpath\u001b[0m\u001b[0;34m.\u001b[0m\u001b[0mabspath\u001b[0m\u001b[0;34m(\u001b[0m\u001b[0mreport_name\u001b[0m\u001b[0;34m)\u001b[0m\u001b[0;34m\u001b[0m\u001b[0;34m\u001b[0m\u001b[0m\n\u001b[1;32m    617\u001b[0m             \u001b[0;32mif\u001b[0m \u001b[0mos\u001b[0m\u001b[0;34m.\u001b[0m\u001b[0mpath\u001b[0m\u001b[0;34m.\u001b[0m\u001b[0misfile\u001b[0m\u001b[0;34m(\u001b[0m\u001b[0mreport_name\u001b[0m\u001b[0;34m)\u001b[0m \u001b[0;34m!=\u001b[0m \u001b[0;32mTrue\u001b[0m\u001b[0;34m:\u001b[0m\u001b[0;34m\u001b[0m\u001b[0;34m\u001b[0m\u001b[0m\n",
      "\u001b[0;31mTypeError\u001b[0m: unsupported operand type(s) for +: 'dict' and 'str'"
     ]
    }
   ],
   "source": [
    "config.settings.run_mode = True\n",
    "PE = tasks.ParameterEstimation(config)\n",
    "viz.Parse(PE)\n",
    "# config"
   ]
  },
  {
   "cell_type": "markdown",
   "metadata": {},
   "source": [
    "Things to describe\n",
    "--------------------------\n",
    "- copy number and pe number\n",
    "- multiple models \n",
    "- context manager"
   ]
  },
  {
   "cell_type": "code",
   "execution_count": null,
   "metadata": {},
   "outputs": [],
   "source": [
    "\n",
    "This interface gives the user complete control over their parameter estimation configuration"
   ]
  },
  {
   "cell_type": "markdown",
   "metadata": {},
   "source": [
    "### Experimental Data Files\n",
    "Any experimental data files are passed to COPASI and should comply with [COPASI's format](http://copasi.org/Support/User_Manual/Tasks/Parameter_Estimation/). In addition, here are some additional rules to follow for using PyCoTools with COPASI:\n",
    "\n",
    "    - Column headings must match model variables exactly in order to be mapped. \n",
    "    - Independant variables can be mapped by appending the suffix `_indep` to the variable.\n",
    "        - For example, if you vary the concentration of A between 0 and 10ng/mL in an experiment:\n",
    "        \n",
    "                Time A_indep  B   C\n",
    "                t=1   0       -   - \n",
    "                t=2   0           -\n",
    "                t=3  10           -\n",
    "                t=4  10       -   -\n",
    "    - Do not use non-asci strings (i.e. alpha or beta) in parameter definitions. They are minimally supported in pycotools but this is unstable. \n",
    "\n",
    "Copasi time course output contains additional content in headers (i.e. `Values[specie_x]` instead of just `species_x`). For this demonstration to work the column headers must exactly match model variables. The `misc.format_timecourse_data` function specifically deals with this issue for the sake of this example.  `misc.format_timecourse_data` operates inplace (i.e. changes the content of the file) and returns the data as a `pandas.DataFrame`. "
   ]
  },
  {
   "cell_type": "markdown",
   "metadata": {},
   "source": [
    "### Simulate Experimental Data"
   ]
  },
  {
   "cell_type": "code",
   "execution_count": null,
   "metadata": {
    "ExecuteTime": {
     "end_time": "2018-03-23T10:25:58.227587Z",
     "start_time": "2018-03-23T10:25:57.885180Z"
    }
   },
   "outputs": [],
   "source": [
    "## choose report name\n",
    "report= 'parameter_estimation_synthetic_data.txt'\n",
    "\n",
    "## simulate some data. Set global variables to empty list to remove them from the data file output\n",
    "TC=tasks.TimeCourse(mod, start=0, end=10, intervals=10, step_size=1, report_name=report, \n",
    "                   global_quantities=[])\n",
    "\n",
    "## assign simulated data file to variable\n",
    "exp_data = TC.report_name\n",
    "\n",
    "print(os.path.isfile(exp_data))"
   ]
  },
  {
   "cell_type": "code",
   "execution_count": null,
   "metadata": {},
   "outputs": [],
   "source": [
    "exp_data"
   ]
  },
  {
   "cell_type": "markdown",
   "metadata": {},
   "source": [
    "### Format the Simulated Data"
   ]
  },
  {
   "cell_type": "code",
   "execution_count": null,
   "metadata": {
    "ExecuteTime": {
     "end_time": "2018-03-23T10:25:58.260369Z",
     "start_time": "2018-03-23T10:25:58.231727Z"
    }
   },
   "outputs": [],
   "source": [
    "print(misc.format_timecourse_data(exp_data))\n"
   ]
  },
  {
   "cell_type": "markdown",
   "metadata": {},
   "source": [
    "### Setup and run single parameter estimation \n",
    "\n",
    "Method outline:\n",
    "\n",
    "    1) Instantiate ParameterEstimation instance with model and data filenames\n",
    "        - Ensure optional arguments are specified to the ParameterEstimation class\n",
    "    2) Use `write_config_template()` method to write and configure a parameter estimation config file.\n",
    "    2) Use `setup()` method\n",
    "    3) Use `run()` method\n",
    "    4) Use `format_results()` method (to give output results meaningful headers)"
   ]
  },
  {
   "cell_type": "code",
   "execution_count": null,
   "metadata": {
    "ExecuteTime": {
     "end_time": "2018-03-23T10:25:58.363326Z",
     "start_time": "2018-03-23T10:25:58.262145Z"
    }
   },
   "outputs": [],
   "source": [
    "PE=tasks.ParameterEstimation(mod, exp_data, method='hooke_jeeves', tolerance=1e-6, iteration_limit=1000)"
   ]
  },
  {
   "cell_type": "markdown",
   "metadata": {},
   "source": [
    "#### Use Particle Swarm"
   ]
  },
  {
   "cell_type": "code",
   "execution_count": null,
   "metadata": {
    "ExecuteTime": {
     "end_time": "2018-03-23T10:25:58.520557Z",
     "start_time": "2018-03-23T10:25:58.366845Z"
    }
   },
   "outputs": [],
   "source": [
    "PE=tasks.ParameterEstimation(mod, exp_data, method='particle_swarm', swarm_size=50)"
   ]
  },
  {
   "cell_type": "markdown",
   "metadata": {},
   "source": [
    "### Use Genetic Algorithm"
   ]
  },
  {
   "cell_type": "code",
   "execution_count": null,
   "metadata": {
    "ExecuteTime": {
     "end_time": "2018-03-23T10:25:58.670518Z",
     "start_time": "2018-03-23T10:25:58.522719Z"
    }
   },
   "outputs": [],
   "source": [
    "## Set getetic algorithm parameters to low for speed of demonstration\n",
    "PE=tasks.ParameterEstimation(mod, exp_data, method='genetic_algorithm', \n",
    "                             population_size=15, number_of_generations=10)"
   ]
  },
  {
   "cell_type": "markdown",
   "metadata": {},
   "source": [
    "### Write Parameter Estimation Configuration File"
   ]
  },
  {
   "cell_type": "code",
   "execution_count": null,
   "metadata": {
    "ExecuteTime": {
     "end_time": "2018-03-23T10:25:58.821618Z",
     "start_time": "2018-03-23T10:25:58.672387Z"
    }
   },
   "outputs": [],
   "source": [
    "PE.write_config_file()\n",
    "os.path.isfile(PE.config_filename)"
   ]
  },
  {
   "cell_type": "markdown",
   "metadata": {},
   "source": [
    "### Configure Parameter Estimation\n",
    "Parameter Estimations can be configured manually or programmatically.\n",
    "\n",
    "##### Configure with API\n",
    "The `metabolites`, `global_parameters` and `local_parameters` atributes of the `tasks.parameter_estimation` class tell Pycotools which parameters to include in the config file. By default all model parameters are included but these can be overridden by giving our own lists. We can set these to empty lists to specify that we do not want to include them in the estimation process. We can also use the `upper_bound` and `lower_bound` arguments to constrain the estimation problem.\n",
    "\n",
    "\n",
    "##### Configure manually\n",
    "Configuration files can also be configured manually. This is useful for when an optimization problem requires a more complex setup - maybe different estimated parameters need different boundaries. To configure manually: \n",
    "\n",
    "    - Delete rows with parameters you do not want estimated\n",
    "    - Change start values, lower bounds and upper bounds\n",
    "        - To set custom start values, remember to set the \"randomize_start_values\" to False.\n",
    "    - If configuring manually, it is a good idea to set the \"overwrite_config_file\" argument to False."
   ]
  },
  {
   "cell_type": "code",
   "execution_count": null,
   "metadata": {
    "ExecuteTime": {
     "end_time": "2018-03-23T10:25:58.970524Z",
     "start_time": "2018-03-23T10:25:58.824352Z"
    }
   },
   "outputs": [],
   "source": [
    "PE = tasks.ParameterEstimation(\n",
    "    mod, exp_data, \n",
    "    method='genetic_algorithm', population_size=30, number_of_generations=100,\n",
    "    lower_bound = 0.001, upper_bound = 3000)"
   ]
  },
  {
   "cell_type": "markdown",
   "metadata": {},
   "source": [
    "### Set up the Parameter Estimation"
   ]
  },
  {
   "cell_type": "code",
   "execution_count": null,
   "metadata": {
    "ExecuteTime": {
     "end_time": "2018-03-23T10:25:59.176924Z",
     "start_time": "2018-03-23T10:25:58.972395Z"
    }
   },
   "outputs": [],
   "source": [
    "PE.setup()"
   ]
  },
  {
   "cell_type": "markdown",
   "metadata": {},
   "source": [
    "### Run Parameter Estimation"
   ]
  },
  {
   "cell_type": "code",
   "execution_count": null,
   "metadata": {
    "ExecuteTime": {
     "end_time": "2018-03-23T10:25:59.724104Z",
     "start_time": "2018-03-23T10:25:59.178698Z"
    }
   },
   "outputs": [],
   "source": [
    "PE.run()"
   ]
  },
  {
   "cell_type": "markdown",
   "metadata": {},
   "source": [
    "#### Check Parameter Estimation Report Exists"
   ]
  },
  {
   "cell_type": "code",
   "execution_count": null,
   "metadata": {
    "ExecuteTime": {
     "end_time": "2018-03-23T10:25:59.732400Z",
     "start_time": "2018-03-23T10:25:59.727091Z"
    }
   },
   "outputs": [],
   "source": [
    "os.path.isfile(PE.report_name)"
   ]
  },
  {
   "cell_type": "markdown",
   "metadata": {},
   "source": [
    "### Visualize Parameter Estimaton Data"
   ]
  },
  {
   "cell_type": "code",
   "execution_count": null,
   "metadata": {
    "ExecuteTime": {
     "end_time": "2018-03-23T10:26:00.669888Z",
     "start_time": "2018-03-23T10:25:59.735004Z"
    }
   },
   "outputs": [],
   "source": [
    "viz.PlotParameterEstimation(PE)"
   ]
  },
  {
   "cell_type": "markdown",
   "metadata": {},
   "source": [
    "#### Save to File"
   ]
  },
  {
   "cell_type": "code",
   "execution_count": null,
   "metadata": {
    "ExecuteTime": {
     "end_time": "2018-03-23T10:26:02.829328Z",
     "start_time": "2018-03-23T10:26:00.671829Z"
    }
   },
   "outputs": [],
   "source": [
    "viz.PlotParameterEstimation(PE, savefig=True)"
   ]
  },
  {
   "cell_type": "markdown",
   "metadata": {},
   "source": [
    "#### Choose Results Directory"
   ]
  },
  {
   "cell_type": "code",
   "execution_count": null,
   "metadata": {
    "ExecuteTime": {
     "end_time": "2018-03-23T10:26:05.231430Z",
     "start_time": "2018-03-23T10:26:02.832541Z"
    }
   },
   "outputs": [],
   "source": [
    "results_dir = os.path.join(working_directory, 'ParameterEstimationDemoResults')\n",
    "viz.PlotParameterEstimation(PE, savefig=True, results_directory=results_dir)"
   ]
  },
  {
   "cell_type": "markdown",
   "metadata": {},
   "source": [
    "#### Specify Which Variables to Plot"
   ]
  },
  {
   "cell_type": "code",
   "execution_count": null,
   "metadata": {
    "ExecuteTime": {
     "end_time": "2018-03-23T10:26:05.894638Z",
     "start_time": "2018-03-23T10:26:05.234355Z"
    }
   },
   "outputs": [],
   "source": [
    "viz.PlotParameterEstimation(PE, y=['A'])"
   ]
  },
  {
   "cell_type": "markdown",
   "metadata": {},
   "source": [
    "### Multiple Data Files\n",
    "\n",
    "Pycotools handles multiple data files by giving `ParameterEsimation` a list of data file paths as its second argument. For demonstration we change the value of a parameter and simulate some more data\n",
    "\n",
    "Lets simulate some more data.\n",
    "\n",
    "Lets first change a model parameter so both sets of simulated data are not identical:"
   ]
  },
  {
   "cell_type": "code",
   "execution_count": null,
   "metadata": {
    "ExecuteTime": {
     "end_time": "2018-03-23T10:26:10.424746Z",
     "start_time": "2018-03-23T10:26:05.896709Z"
    }
   },
   "outputs": [],
   "source": [
    "working_directory = '/home/b3053674/Documents/Models/2018/03_March/ParameterEstimationDemo'\n",
    "\n",
    "copasi_file2 = os.path.join(working_directory, 'negative_feedback_with_signal.cps')\n",
    "\n",
    "with model.BuildAntimony(copasi_file2) as loader:\n",
    "    mod2 = loader.load(\n",
    "        \"\"\"\n",
    "        model negative_feedback\n",
    "            compartment cell = 1.0\n",
    "            var A in cell\n",
    "            var B in cell\n",
    "            var Signal in cell\n",
    "\n",
    "            vAProd = 0.1\n",
    "            kADeg = 0.2\n",
    "            kBProd = 0.3\n",
    "            kBDeg = 0.4\n",
    "            A = 0\n",
    "            B = 0\n",
    "            Signal = 10\n",
    "\n",
    "            AProd: $Signal => A; cell*vAProd*Signal\n",
    "            ADeg: A =>; cell*kADeg*A*B\n",
    "            BProd: => B; cell*kBProd*A\n",
    "            BDeg: B => ; cell*kBDeg*B\n",
    "        end\n",
    "        \"\"\"\n",
    "    )\n",
    "\n",
    "## open model in copasi\n",
    "mod2.open()"
   ]
  },
  {
   "cell_type": "markdown",
   "metadata": {},
   "source": [
    "#### Generate Multiple Synthetic Data Files"
   ]
  },
  {
   "cell_type": "code",
   "execution_count": null,
   "metadata": {
    "ExecuteTime": {
     "end_time": "2018-03-23T10:26:12.518365Z",
     "start_time": "2018-03-23T10:26:10.432371Z"
    },
    "scrolled": true
   },
   "outputs": [],
   "source": [
    "import pandas\n",
    "## initialize empty dict to store TimeCourse objects\n",
    "TC_dict = {}\n",
    "for i in [10, 20, 30, 40]:\n",
    "    ## modify signal parameter\n",
    "    model.InsertParameters(mod2, parameter_dict={'Signal': i}, inplace=True)\n",
    "    \n",
    "    ## create unique report name\n",
    "    report_name = os.path.join(working_directory, 'timecourse_signal_{}.txt'.format(i))\n",
    "    \n",
    "    ## simulate time course. Turn off recording global quantities\n",
    "    TC_dict[i] = tasks.TimeCourse(mod2, end=10, intervals=10, step_size=1, report_name=report_name, \n",
    "                            global_quantities=[])\n",
    "    viz.PlotTimeCourse(TC_dict[i], separate=False)\n",
    "    \n",
    "    \n",
    "    ## format the time course data\n",
    "    df = misc.format_timecourse_data(TC_dict[i].report_name)\n",
    "    \n",
    "    ## create independent variable column\n",
    "    df['Signal_indep'] = [i]*df.shape[0]\n",
    "    \n",
    "    ## write data to file\n",
    "    df.to_csv(TC_dict[i].report_name, sep='\\t', index=False)"
   ]
  },
  {
   "cell_type": "markdown",
   "metadata": {},
   "source": [
    "#### Setup and Run Parameter Estimation"
   ]
  },
  {
   "cell_type": "code",
   "execution_count": null,
   "metadata": {
    "ExecuteTime": {
     "end_time": "2018-03-23T10:26:17.647342Z",
     "start_time": "2018-03-23T10:26:12.520339Z"
    }
   },
   "outputs": [],
   "source": [
    "PE2 = tasks.ParameterEstimation(mod2, [i.report_name for i in TC_dict.values()], \n",
    "                                method='genetic_algorithm', population_size=30, \n",
    "                                number_of_generations=100, run_mode=True\n",
    "                               )\n",
    "\n",
    "PE2.write_config_file()\n",
    "PE2.setup()\n",
    "# PE2.model.open() ## to check the model\n",
    "PE2.run()"
   ]
  },
  {
   "cell_type": "markdown",
   "metadata": {},
   "source": [
    "#### Plot the Results"
   ]
  },
  {
   "cell_type": "code",
   "execution_count": null,
   "metadata": {
    "ExecuteTime": {
     "end_time": "2018-03-23T10:26:20.886296Z",
     "start_time": "2018-03-23T10:26:17.649892Z"
    }
   },
   "outputs": [],
   "source": [
    "viz.PlotParameterEstimation(PE2)"
   ]
  },
  {
   "cell_type": "markdown",
   "metadata": {},
   "source": [
    "### Steady State Experiments\n",
    "By default, all data files are timecourse. To specify timecourse data we need to add a few more arguments to the ParameterEstimation instantiation - namely the experiment type argument. \n",
    "\n",
    "##### Create Synthetic Steady State Data"
   ]
  },
  {
   "cell_type": "code",
   "execution_count": null,
   "metadata": {
    "ExecuteTime": {
     "end_time": "2018-03-23T10:29:39.374966Z",
     "start_time": "2018-03-23T10:29:39.364084Z"
    }
   },
   "outputs": [],
   "source": [
    "steady_state_data_file = os.path.join(working_directory, 'steady_state_data.txt')\n",
    "df = pandas.DataFrame([400], columns=['A'])\n",
    "print(df)\n",
    "df.to_csv(steady_state_data_file, index=False)"
   ]
  },
  {
   "cell_type": "markdown",
   "metadata": {},
   "source": [
    "#### Setup and Run Parameter Estimation"
   ]
  },
  {
   "cell_type": "code",
   "execution_count": null,
   "metadata": {
    "ExecuteTime": {
     "end_time": "2018-03-23T10:32:07.865760Z",
     "start_time": "2018-03-23T10:32:07.397596Z"
    }
   },
   "outputs": [],
   "source": [
    "config_file = os.path.join(working_directory, 'steadystate_config_file.csv')\n",
    "PE3 = tasks.ParameterEstimation(\n",
    "    mod, [TC.report_name, steady_state_data_file],\n",
    "    experiment_type=['timecourse', 'steadystate'],\n",
    "    weight_method=['mean_squared', 'mean_squared'],\n",
    "    method='genetic_algorithm', population_size=15,\n",
    "    number_of_generations=10, metabolites=[], local_parameters=[],\n",
    "    lower_bound = 0.001, upper_bound = 3000, config_filename = config_file\n",
    ")\n",
    "PE3.write_config_file()\n",
    "PE3.setup()\n",
    "PE3.run()"
   ]
  }
 ],
 "metadata": {
  "hide_input": false,
  "kernelspec": {
   "display_name": "Python 3",
   "language": "python",
   "name": "python3"
  },
  "language_info": {
   "codemirror_mode": {
    "name": "ipython",
    "version": 3
   },
   "file_extension": ".py",
   "mimetype": "text/x-python",
   "name": "python",
   "nbconvert_exporter": "python",
   "pygments_lexer": "ipython3",
   "version": "3.6.8"
  },
  "latex_envs": {
   "LaTeX_envs_menu_present": true,
   "autocomplete": true,
   "bibliofile": "biblio.bib",
   "cite_by": "apalike",
   "current_citInitial": 1,
   "eqLabelWithNumbers": true,
   "eqNumInitial": 1,
   "hotkeys": {
    "equation": "Ctrl-E",
    "itemize": "Ctrl-I"
   },
   "labels_anchors": false,
   "latex_user_defs": false,
   "report_style_numbering": false,
   "user_envs_cfg": false
  },
  "toc": {
   "colors": {
    "hover_highlight": "#DAA520",
    "navigate_num": "#000000",
    "navigate_text": "#333333",
    "running_highlight": "#FF0000",
    "selected_highlight": "#FFD700",
    "sidebar_border": "#EEEEEE",
    "wrapper_background": "#FFFFFF"
   },
   "moveMenuLeft": true,
   "nav_menu": {
    "height": "369px",
    "width": "252px"
   },
   "navigate_menu": true,
   "number_sections": true,
   "sideBar": true,
   "threshold": 4,
   "toc_cell": false,
   "toc_section_display": "block",
   "toc_window_display": false,
   "widenNotebook": false
  },
  "varInspector": {
   "cols": {
    "lenName": 16,
    "lenType": 16,
    "lenVar": 40
   },
   "kernels_config": {
    "python": {
     "delete_cmd_postfix": "",
     "delete_cmd_prefix": "del ",
     "library": "var_list.py",
     "varRefreshCmd": "print(var_dic_list())"
    },
    "r": {
     "delete_cmd_postfix": ") ",
     "delete_cmd_prefix": "rm(",
     "library": "var_list.r",
     "varRefreshCmd": "cat(var_dic_list()) "
    }
   },
   "types_to_exclude": [
    "module",
    "function",
    "builtin_function_or_method",
    "instance",
    "_Feature"
   ],
   "window_display": false
  }
 },
 "nbformat": 4,
 "nbformat_minor": 2
}
