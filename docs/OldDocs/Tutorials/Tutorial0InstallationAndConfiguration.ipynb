{
 "cells": [
  {
   "cell_type": "markdown",
   "metadata": {},
   "source": [
    "## Installation, dependencies, versions, environment variables"
   ]
  },
  {
   "cell_type": "markdown",
   "metadata": {},
   "source": [
    "### COPASI \n",
    "Pycotools was written on **COPASI version 19 and 21** and has been confirmed to work on **COPASI version 24**.\n",
    "\n",
    "### COPASI Environment Variables\n",
    "\n",
    "Pycotools uses the COPASI simulation engine (CopasiSE). On install COPASI creates an environment variable 'CopasiSE' which can be used to run COPASI simulations via the command line. If the command 'CopasiSE' (in terminal or command prompt) doesn't give the CopasiSE help output then you need to reconfigure your environment variables. \n",
    "\n",
    "#### On Linux or macOS\n",
    "Create a symlink for CopasiSE and CopasiUI:\n",
    "    \n",
    "    $ sudo ln -s /path/to/CopasiSE /usr/bin/CopasiSE\n",
    "    $ sudo ln -s /path/to/CopasiUI /usr/bin/CopasiUI\n",
    "    \n",
    "#### On Windows\n",
    "Ensure the path to the copasi folder containing CopasiSE and CopasiUI programs are in the PATH environment variable. This is easiest using the GUI but can also be done with the command line. \n",
    "\n",
    "    1. Type `environment variables` into start menu\n",
    "    2. Click `environment variables` at the bottom\n",
    "    3. append the `/path/to/copasix.x.xxx/bin` to the system PATH variable, separated by a semi-colon (if using windows 7)\n",
    "\n",
    "### Installation\n",
    "Support for both Python 2 and 3 is currently available. For pycotools to run on Python 2.7 use:\n",
    "\n",
    "    $ pip install pycotools\n",
    "\n",
    "For PyCoTools to work on Python 3, use:\n",
    "\n",
    "    $ pip install pycotools3\n",
    "    \n",
    "The source code for [pycotools](https://github.com/CiaranWelsh/pycotools) and [pycotools3](https://github.com/CiaranWelsh/pycotools3) for these two versions are kept separate. Currently they are identical, but future changes will only be applied to pycotools3.\n",
    "\n",
    "#### Managing multiple Python environments \n",
    "Python has excellent tools for managing virtual environments. Python3 users can  setup a python2.7 environment using conda and vice versa. [Here](https://uoa-eresearch.github.io/eresearch-cookbook/recipe/2014/11/20/conda/) are some detailed instructions on how to properly manage and use multiple Python versions on one machine. Briefly\n",
    "        \n",
    "            1. Install conda (use `pip install conda` at the command prompt or terminal)\n",
    "            2. Use the command `conda create --name py27 python=2.7`\n",
    "            3. To use Python 2.7, use the command `activate py27` or `source activate py27` on linux\n",
    "\n",
    "            \n",
    "### Pip \n",
    "\n",
    "If you don't have [pip](https://docs.python.org/3/installing/) it can be [downloaded](https://bootstrap.pypa.io/) and installed by running:\n",
    "        \n",
    "        $ python get-pip.py \n",
    "\n",
    "from wherever to was downloaded it to (with administrative privalleges). Dependencies usually install with Pycotools but if they don't, run:\n",
    "        \n",
    "        $ pip install <pkg>\n",
    "    \n",
    "(with admin/sudo rights)\n"
   ]
  },
  {
   "cell_type": "code",
   "execution_count": null,
   "metadata": {},
   "outputs": [],
   "source": []
  }
 ],
 "metadata": {
  "hide_input": false,
  "kernelspec": {
   "display_name": "Python 3",
   "language": "python",
   "name": "python3"
  },
  "language_info": {
   "codemirror_mode": {
    "name": "ipython",
    "version": 3
   },
   "file_extension": ".py",
   "mimetype": "text/x-python",
   "name": "python",
   "nbconvert_exporter": "python",
   "pygments_lexer": "ipython3",
   "version": "3.6.6"
  },
  "latex_envs": {
   "LaTeX_envs_menu_present": true,
   "autocomplete": true,
   "bibliofile": "biblio.bib",
   "cite_by": "apalike",
   "current_citInitial": 1.0,
   "eqLabelWithNumbers": true,
   "eqNumInitial": 1.0,
   "hotkeys": {
    "equation": "Ctrl-E",
    "itemize": "Ctrl-I"
   },
   "labels_anchors": false,
   "latex_user_defs": false,
   "report_style_numbering": false,
   "user_envs_cfg": false
  },
  "toc": {
   "colors": {
    "hover_highlight": "#DAA520",
    "navigate_num": "#000000",
    "navigate_text": "#333333",
    "running_highlight": "#FF0000",
    "selected_highlight": "#FFD700",
    "sidebar_border": "#EEEEEE",
    "wrapper_background": "#FFFFFF"
   },
   "moveMenuLeft": true,
   "nav_menu": {
    "height": "193px",
    "width": "252px"
   },
   "navigate_menu": true,
   "number_sections": true,
   "sideBar": true,
   "threshold": 4.0,
   "toc_cell": false,
   "toc_section_display": "block",
   "toc_window_display": true,
   "widenNotebook": false
  },
  "varInspector": {
   "cols": {
    "lenName": 16.0,
    "lenType": 16.0,
    "lenVar": 40.0
   },
   "kernels_config": {
    "python": {
     "delete_cmd_postfix": "",
     "delete_cmd_prefix": "del ",
     "library": "var_list.py",
     "varRefreshCmd": "print(var_dic_list())"
    },
    "r": {
     "delete_cmd_postfix": ") ",
     "delete_cmd_prefix": "rm(",
     "library": "var_list.r",
     "varRefreshCmd": "cat(var_dic_list()) "
    }
   },
   "types_to_exclude": [
    "module",
    "function",
    "builtin_function_or_method",
    "instance",
    "_Feature"
   ],
   "window_display": false
  }
 },
 "nbformat": 4,
 "nbformat_minor": 2
}
