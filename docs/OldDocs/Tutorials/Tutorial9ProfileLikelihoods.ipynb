{
 "cells": [
  {
   "cell_type": "markdown",
   "metadata": {},
   "source": [
    "## Profile Likelihoods\n",
    "The [profile likelihood](https://academic.oup.com/bioinformatics/article-lookup/doi/10.1093/bioinformatics/btp358) method is a means of assessing a models identifiability status. PyCoTools and COPASI can together be used to efficiently configure a profile likelihood analysis of a model using either the current model parameters or parameters from a parameter estimation that have been written to file. \n",
    "\n",
    ".. important:: \n",
    "   The parameter estimation task is assumed to already be configured prior to running the profile likelihood.\n",
    "\n",
    "### Build a model for demonstration"
   ]
  },
  {
   "cell_type": "code",
   "execution_count": null,
   "metadata": {
    "ExecuteTime": {
     "end_time": "2018-07-22T11:27:06.244257Z",
     "start_time": "2018-07-22T11:26:59.786Z"
    },
    "scrolled": true
   },
   "outputs": [],
   "source": [
    "import os\n",
    "try:\n",
    "    ## if using the Python 3 version\n",
    "    from pycotools3 import viz, model, misc, tasks, models\n",
    "except ImportError:\n",
    "    ## fall back on the python 2 version \n",
    "    from pycotools import viz, model, misc, tasks, modelsimport seaborn\n",
    "import matplotlib\n",
    "import pandas\n",
    "%matplotlib inline\n",
    "seaborn.set_style('white')\n",
    "seaborn.set_context('notebook')\n"
   ]
  },
  {
   "cell_type": "code",
   "execution_count": 2,
   "metadata": {
    "ExecuteTime": {
     "end_time": "2018-07-22T11:26:56.988852Z",
     "start_time": "2018-07-22T11:26:56.789718Z"
    }
   },
   "outputs": [
    {
     "data": {
      "text/plain": [
       "Model(name=MM, time_unit=s, volume_unit=l, quantity_unit=mol)"
      ]
     },
     "execution_count": 2,
     "metadata": {},
     "output_type": "execute_result"
    }
   ],
   "source": [
    "antimony_string = \"\"\"\n",
    "model MM()\n",
    "  k1 = 2\n",
    "  k2 = 4\n",
    "  k3 = 6\n",
    "  \n",
    "  E = 10\n",
    "  S = 1000\n",
    "  P=0\n",
    "  \n",
    "  SBindE: S + E => SE; k1*S*E\n",
    "  SUnbindE: SE => S + E; k2*SE\n",
    "  Conversion: SE => E + P; k3*SE\n",
    "end\n",
    "\"\"\"\n",
    "\n",
    "directory = r'/home/b3053674/Documents/Models/2018/07_July'\n",
    "\n",
    "model_file = os.path.join(directory, 'profile_likelihood_model.cps')\n",
    "\n",
    "with model.BuildAntimony(model_file) as loader:\n",
    "    mod = loader.load(antimony_string)\n",
    "    \n",
    "mod"
   ]
  },
  {
   "cell_type": "markdown",
   "metadata": {},
   "source": [
    "### Simulate some data"
   ]
  },
  {
   "cell_type": "code",
   "execution_count": 3,
   "metadata": {
    "ExecuteTime": {
     "end_time": "2018-07-22T11:26:57.414031Z",
     "start_time": "2018-07-22T11:26:56.991647Z"
    }
   },
   "outputs": [
    {
     "data": {
      "text/html": [
       "<div>\n",
       "<style>\n",
       "    .dataframe thead tr:only-child th {\n",
       "        text-align: right;\n",
       "    }\n",
       "\n",
       "    .dataframe thead th {\n",
       "        text-align: left;\n",
       "    }\n",
       "\n",
       "    .dataframe tbody tr th {\n",
       "        vertical-align: top;\n",
       "    }\n",
       "</style>\n",
       "<table border=\"1\" class=\"dataframe\">\n",
       "  <thead>\n",
       "    <tr style=\"text-align: right;\">\n",
       "      <th></th>\n",
       "      <th>Time</th>\n",
       "      <th>S</th>\n",
       "      <th>P</th>\n",
       "    </tr>\n",
       "  </thead>\n",
       "  <tbody>\n",
       "    <tr>\n",
       "      <th>0</th>\n",
       "      <td>0</td>\n",
       "      <td>1.000000e+03</td>\n",
       "      <td>0.000</td>\n",
       "    </tr>\n",
       "    <tr>\n",
       "      <th>1</th>\n",
       "      <td>2</td>\n",
       "      <td>8.588050e+02</td>\n",
       "      <td>131.259</td>\n",
       "    </tr>\n",
       "    <tr>\n",
       "      <th>2</th>\n",
       "      <td>4</td>\n",
       "      <td>7.276450e+02</td>\n",
       "      <td>262.430</td>\n",
       "    </tr>\n",
       "    <tr>\n",
       "      <th>3</th>\n",
       "      <td>6</td>\n",
       "      <td>5.966540e+02</td>\n",
       "      <td>393.438</td>\n",
       "    </tr>\n",
       "    <tr>\n",
       "      <th>4</th>\n",
       "      <td>8</td>\n",
       "      <td>4.659160e+02</td>\n",
       "      <td>524.201</td>\n",
       "    </tr>\n",
       "    <tr>\n",
       "      <th>5</th>\n",
       "      <td>10</td>\n",
       "      <td>3.356010e+02</td>\n",
       "      <td>654.560</td>\n",
       "    </tr>\n",
       "    <tr>\n",
       "      <th>6</th>\n",
       "      <td>12</td>\n",
       "      <td>2.061380e+02</td>\n",
       "      <td>784.123</td>\n",
       "    </tr>\n",
       "    <tr>\n",
       "      <th>7</th>\n",
       "      <td>14</td>\n",
       "      <td>7.930950e+01</td>\n",
       "      <td>911.340</td>\n",
       "    </tr>\n",
       "    <tr>\n",
       "      <th>8</th>\n",
       "      <td>16</td>\n",
       "      <td>1.851430e-01</td>\n",
       "      <td>1000.100</td>\n",
       "    </tr>\n",
       "    <tr>\n",
       "      <th>9</th>\n",
       "      <td>18</td>\n",
       "      <td>1.032290e-05</td>\n",
       "      <td>1001.000</td>\n",
       "    </tr>\n",
       "    <tr>\n",
       "      <th>10</th>\n",
       "      <td>20</td>\n",
       "      <td>6.145790e-10</td>\n",
       "      <td>1001.000</td>\n",
       "    </tr>\n",
       "  </tbody>\n",
       "</table>\n",
       "</div>"
      ],
      "text/plain": [
       "    Time             S         P\n",
       "0      0  1.000000e+03     0.000\n",
       "1      2  8.588050e+02   131.259\n",
       "2      4  7.276450e+02   262.430\n",
       "3      6  5.966540e+02   393.438\n",
       "4      8  4.659160e+02   524.201\n",
       "5     10  3.356010e+02   654.560\n",
       "6     12  2.061380e+02   784.123\n",
       "7     14  7.930950e+01   911.340\n",
       "8     16  1.851430e-01  1000.100\n",
       "9     18  1.032290e-05  1001.000\n",
       "10    20  6.145790e-10  1001.000"
      ]
     },
     "execution_count": 3,
     "metadata": {},
     "output_type": "execute_result"
    }
   ],
   "source": [
    "report_loc = os.path.join(directory, 'synth_data.csv')\n",
    "tc = tasks.TimeCourse(mod, end=20, intervals=10, step_size=2,\n",
    "                      report_name=report_loc,\n",
    "                      metabolites=['S', 'P'],\n",
    "                      global_quantities=[])\n",
    "\n",
    "## format time series data for compatibility with pycotools parameter estimation \n",
    "utils.format_timecourse_data(tc.report_name)"
   ]
  },
  {
   "cell_type": "markdown",
   "metadata": {},
   "source": [
    "### Fit the data back to the model\n",
    "Do not estimate metabolites. Limit the estimation to between 1 and 10 so the estimates will be good. Repeat the estimation 10 times"
   ]
  },
  {
   "cell_type": "code",
   "execution_count": 4,
   "metadata": {
    "ExecuteTime": {
     "end_time": "2018-07-22T11:27:02.378833Z",
     "start_time": "2018-07-22T11:26:57.416014Z"
    },
    "scrolled": false
   },
   "outputs": [
    {
     "name": "stdout",
     "output_type": "stream",
     "text": [
      "pycotools.tasks:INFO:3748:    running model: 0\n"
     ]
    },
    {
     "data": {
      "text/html": [
       "<div>\n",
       "<style>\n",
       "    .dataframe thead tr:only-child th {\n",
       "        text-align: right;\n",
       "    }\n",
       "\n",
       "    .dataframe thead th {\n",
       "        text-align: left;\n",
       "    }\n",
       "\n",
       "    .dataframe tbody tr th {\n",
       "        vertical-align: top;\n",
       "    }\n",
       "</style>\n",
       "<table border=\"1\" class=\"dataframe\">\n",
       "  <thead>\n",
       "    <tr style=\"text-align: right;\">\n",
       "      <th></th>\n",
       "      <th>k1</th>\n",
       "      <th>k2</th>\n",
       "      <th>k3</th>\n",
       "      <th>RSS</th>\n",
       "    </tr>\n",
       "  </thead>\n",
       "  <tbody>\n",
       "    <tr>\n",
       "      <th>0</th>\n",
       "      <td>2.04130</td>\n",
       "      <td>4.17350</td>\n",
       "      <td>5.99978</td>\n",
       "      <td>0.000301</td>\n",
       "    </tr>\n",
       "    <tr>\n",
       "      <th>1</th>\n",
       "      <td>2.35601</td>\n",
       "      <td>5.68654</td>\n",
       "      <td>5.99945</td>\n",
       "      <td>0.003649</td>\n",
       "    </tr>\n",
       "    <tr>\n",
       "      <th>2</th>\n",
       "      <td>1.67421</td>\n",
       "      <td>2.41428</td>\n",
       "      <td>6.00035</td>\n",
       "      <td>0.006037</td>\n",
       "    </tr>\n",
       "    <tr>\n",
       "      <th>3</th>\n",
       "      <td>2.58370</td>\n",
       "      <td>6.82563</td>\n",
       "      <td>5.99950</td>\n",
       "      <td>0.007181</td>\n",
       "    </tr>\n",
       "    <tr>\n",
       "      <th>4</th>\n",
       "      <td>2.86622</td>\n",
       "      <td>8.21383</td>\n",
       "      <td>5.99943</td>\n",
       "      <td>0.012828</td>\n",
       "    </tr>\n",
       "    <tr>\n",
       "      <th>5</th>\n",
       "      <td>2.98754</td>\n",
       "      <td>8.81198</td>\n",
       "      <td>5.99940</td>\n",
       "      <td>0.015362</td>\n",
       "    </tr>\n",
       "    <tr>\n",
       "      <th>6</th>\n",
       "      <td>3.09629</td>\n",
       "      <td>9.31470</td>\n",
       "      <td>5.99925</td>\n",
       "      <td>0.017560</td>\n",
       "    </tr>\n",
       "    <tr>\n",
       "      <th>7</th>\n",
       "      <td>3.00296</td>\n",
       "      <td>8.74665</td>\n",
       "      <td>5.99881</td>\n",
       "      <td>0.017874</td>\n",
       "    </tr>\n",
       "    <tr>\n",
       "      <th>8</th>\n",
       "      <td>3.22633</td>\n",
       "      <td>9.96450</td>\n",
       "      <td>5.99927</td>\n",
       "      <td>0.020209</td>\n",
       "    </tr>\n",
       "    <tr>\n",
       "      <th>9</th>\n",
       "      <td>3.21867</td>\n",
       "      <td>9.99569</td>\n",
       "      <td>5.99956</td>\n",
       "      <td>0.020881</td>\n",
       "    </tr>\n",
       "  </tbody>\n",
       "</table>\n",
       "</div>"
      ],
      "text/plain": [
       "        k1       k2       k3       RSS\n",
       "0  2.04130  4.17350  5.99978  0.000301\n",
       "1  2.35601  5.68654  5.99945  0.003649\n",
       "2  1.67421  2.41428  6.00035  0.006037\n",
       "3  2.58370  6.82563  5.99950  0.007181\n",
       "4  2.86622  8.21383  5.99943  0.012828\n",
       "5  2.98754  8.81198  5.99940  0.015362\n",
       "6  3.09629  9.31470  5.99925  0.017560\n",
       "7  3.00296  8.74665  5.99881  0.017874\n",
       "8  3.22633  9.96450  5.99927  0.020209\n",
       "9  3.21867  9.99569  5.99956  0.020881"
      ]
     },
     "execution_count": 4,
     "metadata": {},
     "output_type": "execute_result"
    }
   ],
   "source": [
    "MPE = tasks.MultiParameterEstimation(\n",
    "    mod, tc.report_name, upper_bound=10,\n",
    "    lower_bound=1, method='hooke_jeeves',\n",
    "    run_mode=True, metabolites=[], iteration_limit=500,\n",
    "    pe_number=10\n",
    "    )\n",
    "MPE.write_config_file()\n",
    "MPE.setup()\n",
    "MPE.run()\n",
    "\n",
    "viz.Parse(MPE).data"
   ]
  },
  {
   "cell_type": "markdown",
   "metadata": {},
   "source": [
    "### Calculate Profile Likelihoods Using the Estimation Data\n",
    "If PyCoTools has been used to configure the parameter estimation, then there will be a file or list of files containing the parameter estimation data. Parameter sets can be extracted from these files and used in profile likelihood calculations. In this situation the profile likelihood configuration process is largely automatic. \n",
    "\n",
    "The `ProfileLikelihood` class requires the `model.Model` object as first argument. The model must already be configured with the parameter estimation that produced the data. This is automatically performed with `tasks.MultiParameterEstimation` if it was used for configuration. \n",
    "\n",
    ".. important:: Make sure you use the same model that produced the parameter estimation data. It is easy to get mixed up. \n",
    "\n",
    "The `ProfileLikelihood` object can take a pandas dataframe as argument to the `df` keyword which is the same as the output from `viz.Parse(MPE).data`. This can be used for manually specifying parameter values for profile likelihood calculations. Alternatively and more commonly used is the `parameter_path` argument which is the full path to the directory containing a list of parameter estimation files. For convenience, here we use `MPE.results_directory` which is where the data is stored. Also, the `index` argument requires an integer and is the index of best fitting parameter set that you would like to calculate profile likelihoods from. An `index=0` specifies the parameter set that has the lowest `RSS` value. PyCoTools will insert this parameter set into the model before computing profile likelihoods.\n",
    "\n",
    ".. note:: The `index` argument also excepts a list of integers for configuring profile likelihoods around multiple sets of parameters at the same time. "
   ]
  },
  {
   "cell_type": "code",
   "execution_count": 11,
   "metadata": {
    "ExecuteTime": {
     "end_time": "2018-07-22T11:27:29.001751Z",
     "start_time": "2018-07-22T11:27:25.310804Z"
    }
   },
   "outputs": [
    {
     "name": "stdout",
     "output_type": "stream",
     "text": [
      "pycotools.tasks:INFO:4942:    running /home/b3053674/Documents/Models/2018/07_July/ProfileLikelihoods/0/k3.cps\n",
      "pycotools.tasks:INFO:4942:    running /home/b3053674/Documents/Models/2018/07_July/ProfileLikelihoods/0/k2.cps\n",
      "pycotools.tasks:INFO:4942:    running /home/b3053674/Documents/Models/2018/07_July/ProfileLikelihoods/0/k1.cps\n"
     ]
    }
   ],
   "source": [
    "pl = tasks.ProfileLikelihood(mod, parameter_path=MPE.results_directory, index=0, run=True, \n",
    "                            intervals=20)"
   ]
  },
  {
   "cell_type": "markdown",
   "metadata": {},
   "source": [
    ".. WARNING:: For other tasks, the `run_mode` kwarg is used to tell PyCoTools how to run the model. In the `ProfileLikelihood` class, the `run` argument performs the same function. This is due to be updated in the next version, but for now, just be aware of the difference. \n",
    "\n",
    "### Plot Profile Likelihoods"
   ]
  },
  {
   "cell_type": "code",
   "execution_count": 12,
   "metadata": {
    "ExecuteTime": {
     "end_time": "2018-07-22T11:27:31.438155Z",
     "start_time": "2018-07-22T11:27:30.155949Z"
    }
   },
   "outputs": [
    {
     "name": "stdout",
     "output_type": "stream",
     "text": [
      "('idx', 0)\n"
     ]
    },
    {
     "data": {
      "text/plain": [
       "<pycotools.viz.PlotProfileLikelihood at 0x7fca64678d90>"
      ]
     },
     "execution_count": 12,
     "metadata": {},
     "output_type": "execute_result"
    },
    {
     "data": {
      "image/png": "[encoded data removed]",
      "text/plain": [
       "<matplotlib.figure.Figure at 0x7fca64678f90>"
      ]
     },
     "metadata": {},
     "output_type": "display_data"
    },
    {
     "data": {
      "image/png": "[encoded data removed]",
      "text/plain": [
       "<matplotlib.figure.Figure at 0x7fca6463b890>"
      ]
     },
     "metadata": {},
     "output_type": "display_data"
    },
    {
     "data": {
      "image/png": "[encoded data removed]",
      "text/plain": [
       "<matplotlib.figure.Figure at 0x7fca65200890>"
      ]
     },
     "metadata": {},
     "output_type": "display_data"
    }
   ],
   "source": [
    "viz.PlotProfileLikelihood(pl, interpolation='cubic')"
   ]
  },
  {
   "cell_type": "markdown",
   "metadata": {},
   "source": [
    "### Profile likelihoods around current parameters\n",
    "PyCoTools is not as flexible as COPASI in the types of parameter estimation you can configure. For instance, no support is yet built for the `Affected Experiments` section (as described in caveats). Therefore it is sometimes desirable to calculate profile likelihoods from the current parameters. However, in this case, not everything can be automated and so there are a few additional things you need to do. \n",
    "\n",
    "Firstly, make sure the model is configured exactly as it was for the parameter estimation. If the current parameter estimation configuration does reflect that which was used to estimate the model parameters then you'll get incorrect results. \n",
    "\n",
    "Secondly, ensure you have noted the best RSS value as it will be needed for calculation of the confidence level. The other metric needed is the number of data points used for estimation, however, PyCoTools uses the experiment configuration to find these data files and count the data points. \n",
    "\n",
    "To demonstrate we'll still use the above example but we'll first insert the 5th best parameter set before running the profile likelihood. As we have modified the parameter estimation task in the previous example, we will reconfigure the parameter estimation using the `MultiParameterEstimation` (but note this bit will be done manually in a real problem). \n",
    "\n",
    ".. note:: The following code is copied from above. The only difference is that we have not run the parameter estimation, only used `MultiParameterEstimation` for task configuration. "
   ]
  },
  {
   "cell_type": "code",
   "execution_count": 15,
   "metadata": {
    "ExecuteTime": {
     "end_time": "2018-07-22T11:28:58.185449Z",
     "start_time": "2018-07-22T11:28:57.939389Z"
    }
   },
   "outputs": [
    {
     "data": {
      "text/plain": [
       "{0: Model(name=MM, time_unit=s, volume_unit=l, quantity_unit=mol)}"
      ]
     },
     "execution_count": 15,
     "metadata": {},
     "output_type": "execute_result"
    }
   ],
   "source": [
    "MPE = tasks.MultiParameterEstimation(\n",
    "    mod, tc.report_name, upper_bound=10,\n",
    "    lower_bound=1, method='hooke_jeeves',\n",
    "    run_mode=False, metabolites=[], iteration_limit=500,\n",
    "    pe_number=10\n",
    "    )\n",
    "MPE.write_config_file()\n",
    "MPE.setup()"
   ]
  },
  {
   "cell_type": "markdown",
   "metadata": {},
   "source": [
    "#### Collect the best RSS value\n",
    "In a real profile likelihood calculation, you'll have already ran the parameter estimation using the COPASI UI and noted the best RSS value for later. Here, we'll look at the data estimated earlier. "
   ]
  },
  {
   "cell_type": "code",
   "execution_count": 14,
   "metadata": {
    "ExecuteTime": {
     "end_time": "2018-07-22T11:27:40.786115Z",
     "start_time": "2018-07-22T11:27:40.765593Z"
    }
   },
   "outputs": [
    {
     "data": {
      "text/html": [
       "<div>\n",
       "<style>\n",
       "    .dataframe thead tr:only-child th {\n",
       "        text-align: right;\n",
       "    }\n",
       "\n",
       "    .dataframe thead th {\n",
       "        text-align: left;\n",
       "    }\n",
       "\n",
       "    .dataframe tbody tr th {\n",
       "        vertical-align: top;\n",
       "    }\n",
       "</style>\n",
       "<table border=\"1\" class=\"dataframe\">\n",
       "  <thead>\n",
       "    <tr style=\"text-align: right;\">\n",
       "      <th></th>\n",
       "      <th>k1</th>\n",
       "      <th>k2</th>\n",
       "      <th>k3</th>\n",
       "      <th>RSS</th>\n",
       "    </tr>\n",
       "  </thead>\n",
       "  <tbody>\n",
       "    <tr>\n",
       "      <th>0</th>\n",
       "      <td>2.04130</td>\n",
       "      <td>4.17350</td>\n",
       "      <td>5.99978</td>\n",
       "      <td>0.000301</td>\n",
       "    </tr>\n",
       "    <tr>\n",
       "      <th>1</th>\n",
       "      <td>2.35601</td>\n",
       "      <td>5.68654</td>\n",
       "      <td>5.99945</td>\n",
       "      <td>0.003649</td>\n",
       "    </tr>\n",
       "    <tr>\n",
       "      <th>2</th>\n",
       "      <td>1.67421</td>\n",
       "      <td>2.41428</td>\n",
       "      <td>6.00035</td>\n",
       "      <td>0.006037</td>\n",
       "    </tr>\n",
       "    <tr>\n",
       "      <th>3</th>\n",
       "      <td>2.58370</td>\n",
       "      <td>6.82563</td>\n",
       "      <td>5.99950</td>\n",
       "      <td>0.007181</td>\n",
       "    </tr>\n",
       "    <tr>\n",
       "      <th>4</th>\n",
       "      <td>2.86622</td>\n",
       "      <td>8.21383</td>\n",
       "      <td>5.99943</td>\n",
       "      <td>0.012828</td>\n",
       "    </tr>\n",
       "    <tr>\n",
       "      <th>5</th>\n",
       "      <td>2.98754</td>\n",
       "      <td>8.81198</td>\n",
       "      <td>5.99940</td>\n",
       "      <td>0.015362</td>\n",
       "    </tr>\n",
       "    <tr>\n",
       "      <th>6</th>\n",
       "      <td>3.09629</td>\n",
       "      <td>9.31470</td>\n",
       "      <td>5.99925</td>\n",
       "      <td>0.017560</td>\n",
       "    </tr>\n",
       "    <tr>\n",
       "      <th>7</th>\n",
       "      <td>3.00296</td>\n",
       "      <td>8.74665</td>\n",
       "      <td>5.99881</td>\n",
       "      <td>0.017874</td>\n",
       "    </tr>\n",
       "    <tr>\n",
       "      <th>8</th>\n",
       "      <td>3.22633</td>\n",
       "      <td>9.96450</td>\n",
       "      <td>5.99927</td>\n",
       "      <td>0.020209</td>\n",
       "    </tr>\n",
       "    <tr>\n",
       "      <th>9</th>\n",
       "      <td>3.21867</td>\n",
       "      <td>9.99569</td>\n",
       "      <td>5.99956</td>\n",
       "      <td>0.020881</td>\n",
       "    </tr>\n",
       "  </tbody>\n",
       "</table>\n",
       "</div>"
      ],
      "text/plain": [
       "        k1       k2       k3       RSS\n",
       "0  2.04130  4.17350  5.99978  0.000301\n",
       "1  2.35601  5.68654  5.99945  0.003649\n",
       "2  1.67421  2.41428  6.00035  0.006037\n",
       "3  2.58370  6.82563  5.99950  0.007181\n",
       "4  2.86622  8.21383  5.99943  0.012828\n",
       "5  2.98754  8.81198  5.99940  0.015362\n",
       "6  3.09629  9.31470  5.99925  0.017560\n",
       "7  3.00296  8.74665  5.99881  0.017874\n",
       "8  3.22633  9.96450  5.99927  0.020209\n",
       "9  3.21867  9.99569  5.99956  0.020881"
      ]
     },
     "execution_count": 14,
     "metadata": {},
     "output_type": "execute_result"
    }
   ],
   "source": [
    "df = viz.Parse(MPE).data\n",
    "df"
   ]
  },
  {
   "cell_type": "markdown",
   "metadata": {},
   "source": [
    "#### Insert the parameter values\n",
    "Again, when doing this in real scenario, you'll already have estimated the parameters and updated the model. Here, we'll insert the 5th best parameter set using `model.InsertParameters` instead. Use `model.open()` to verify the correct parameters have been inserted. "
   ]
  },
  {
   "cell_type": "code",
   "execution_count": 9,
   "metadata": {
    "ExecuteTime": {
     "end_time": "2018-07-22T11:27:05.226668Z",
     "start_time": "2018-07-22T11:27:05.113973Z"
    },
    "collapsed": true
   },
   "outputs": [],
   "source": [
    "mod.insert_parameters(df=df, index=5, inplace=True)"
   ]
  },
  {
   "cell_type": "markdown",
   "metadata": {},
   "source": [
    "#### Calculate Profile Likelihoods"
   ]
  },
  {
   "cell_type": "code",
   "execution_count": 10,
   "metadata": {
    "ExecuteTime": {
     "end_time": "2018-07-22T11:27:05.897316Z",
     "start_time": "2018-07-22T11:27:05.229727Z"
    },
    "scrolled": true
   },
   "outputs": [
    {
     "name": "stdout",
     "output_type": "stream",
     "text": [
      "pycotools.tasks:WARNING:4457:    Parameter estimation data has been specified without an index so will be ignored. Specify argument to index kwarg\n",
      "pycotools.tasks:INFO:4942:    running /home/b3053674/Documents/Models/2018/07_July/ProfileLikelihoods/0/k3.cps\n",
      "pycotools.tasks:INFO:4942:    running /home/b3053674/Documents/Models/2018/07_July/ProfileLikelihoods/0/k2.cps\n",
      "pycotools.tasks:INFO:4942:    running /home/b3053674/Documents/Models/2018/07_July/ProfileLikelihoods/0/k1.cps\n"
     ]
    }
   ],
   "source": [
    "pl = tasks.ProfileLikelihood(mod, index='current_parameters', run='parallel', intervals=20)"
   ]
  },
  {
   "cell_type": "code",
   "execution_count": 19,
   "metadata": {
    "ExecuteTime": {
     "end_time": "2018-07-22T11:29:39.935947Z",
     "start_time": "2018-07-22T11:29:38.707808Z"
    },
    "scrolled": true
   },
   "outputs": [
    {
     "name": "stdout",
     "output_type": "stream",
     "text": [
      "('idx', 0)\n"
     ]
    },
    {
     "data": {
      "text/plain": [
       "<pycotools.viz.PlotProfileLikelihood at 0x7fca5d925f50>"
      ]
     },
     "execution_count": 19,
     "metadata": {},
     "output_type": "execute_result"
    },
    {
     "data": {
      "image/png": "[encoded data removed]",
      "text/plain": [
       "<matplotlib.figure.Figure at 0x7fca64063510>"
      ]
     },
     "metadata": {},
     "output_type": "display_data"
    },
    {
     "data": {
      "image/png": "[encoded data removed]",
      "text/plain": [
       "<matplotlib.figure.Figure at 0x7fca5d893f10>"
      ]
     },
     "metadata": {},
     "output_type": "display_data"
    },
    {
     "data": {
      "image/png": "[encoded data removed]",
      "text/plain": [
       "<matplotlib.figure.Figure at 0x7fca640dc750>"
      ]
     },
     "metadata": {},
     "output_type": "display_data"
    }
   ],
   "source": [
    "viz.PlotProfileLikelihood(pl, interpolation='linear')"
   ]
  },
  {
   "cell_type": "markdown",
   "metadata": {},
   "source": [
    "### Multiple Profile Likelihoods\n",
    "It is also possible to compute profile likelihoods from multiple points in parameter space. "
   ]
  },
  {
   "cell_type": "code",
   "execution_count": 21,
   "metadata": {
    "ExecuteTime": {
     "end_time": "2018-07-22T11:32:09.639676Z",
     "start_time": "2018-07-22T11:31:58.470747Z"
    },
    "scrolled": true
   },
   "outputs": [
    {
     "name": "stdout",
     "output_type": "stream",
     "text": [
      "pycotools.tasks:INFO:4942:    running /home/b3053674/Documents/Models/2018/07_July/ProfileLikelihoods/0/k3.cps\n",
      "pycotools.tasks:INFO:4942:    running /home/b3053674/Documents/Models/2018/07_July/ProfileLikelihoods/0/k2.cps\n",
      "pycotools.tasks:INFO:4942:    running /home/b3053674/Documents/Models/2018/07_July/ProfileLikelihoods/0/k1.cps\n",
      "pycotools.tasks:INFO:4942:    running /home/b3053674/Documents/Models/2018/07_July/ProfileLikelihoods/3/k3.cps\n",
      "pycotools.tasks:INFO:4942:    running /home/b3053674/Documents/Models/2018/07_July/ProfileLikelihoods/3/k2.cps\n",
      "pycotools.tasks:INFO:4942:    running /home/b3053674/Documents/Models/2018/07_July/ProfileLikelihoods/3/k1.cps\n",
      "pycotools.tasks:INFO:4942:    running /home/b3053674/Documents/Models/2018/07_July/ProfileLikelihoods/5/k3.cps\n",
      "pycotools.tasks:INFO:4942:    running /home/b3053674/Documents/Models/2018/07_July/ProfileLikelihoods/5/k2.cps\n",
      "pycotools.tasks:INFO:4942:    running /home/b3053674/Documents/Models/2018/07_July/ProfileLikelihoods/5/k1.cps\n",
      "pycotools.tasks:INFO:4942:    running /home/b3053674/Documents/Models/2018/07_July/ProfileLikelihoods/7/k3.cps\n",
      "pycotools.tasks:INFO:4942:    running /home/b3053674/Documents/Models/2018/07_July/ProfileLikelihoods/7/k2.cps\n",
      "pycotools.tasks:INFO:4942:    running /home/b3053674/Documents/Models/2018/07_July/ProfileLikelihoods/7/k1.cps\n"
     ]
    }
   ],
   "source": [
    "pl = tasks.ProfileLikelihood(mod, parameter_path=MPE.results_directory, index=[0, 3, 5, 7], run=True, \n",
    "                            intervals=10)"
   ]
  },
  {
   "cell_type": "markdown",
   "metadata": {},
   "source": [
    "#### Plotting\n",
    "To plot all on the same graph, use the index and multiple arguments like in the following. \n",
    "\n",
    ".. note:: when saving multiplot profile likelihoods to file, the algorithm starts at the highest index, plots the data and then works its way to the lowest. Therefore the lowest index contains graphs you want. "
   ]
  },
  {
   "cell_type": "code",
   "execution_count": 24,
   "metadata": {
    "ExecuteTime": {
     "end_time": "2018-07-22T11:34:46.346970Z",
     "start_time": "2018-07-22T11:34:42.400190Z"
    }
   },
   "outputs": [
    {
     "name": "stdout",
     "output_type": "stream",
     "text": [
      "('idx', 0)\n",
      "('idx', 3)\n",
      "('idx', 5)\n",
      "('idx', 7)\n"
     ]
    },
    {
     "data": {
      "text/plain": [
       "<pycotools.viz.PlotProfileLikelihood at 0x7fca64325b90>"
      ]
     },
     "execution_count": 24,
     "metadata": {},
     "output_type": "execute_result"
    },
    {
     "data": {
      "image/png": "[encoded data removed]",
      "text/plain": [
       "<matplotlib.figure.Figure at 0x7fca651eded0>"
      ]
     },
     "metadata": {},
     "output_type": "display_data"
    },
    {
     "data": {
      "image/png": "[encoded data removed]",
      "text/plain": [
       "<matplotlib.figure.Figure at 0x7fca64678790>"
      ]
     },
     "metadata": {},
     "output_type": "display_data"
    },
    {
     "data": {
      "image/png": "[encoded data removed]",
      "text/plain": [
       "<matplotlib.figure.Figure at 0x7fca652047d0>"
      ]
     },
     "metadata": {},
     "output_type": "display_data"
    }
   ],
   "source": [
    "viz.PlotProfileLikelihood(pl, index=[0, 3, 5, 7], multiplot=True)"
   ]
  },
  {
   "cell_type": "code",
   "execution_count": null,
   "metadata": {
    "collapsed": true
   },
   "outputs": [],
   "source": []
  }
 ],
 "metadata": {
  "hide_input": false,
  "kernelspec": {
   "display_name": "Python 3",
   "language": "python",
   "name": "python3"
  },
  "language_info": {
   "codemirror_mode": {
    "name": "ipython",
    "version": 3
   },
   "file_extension": ".py",
   "mimetype": "text/x-python",
   "name": "python",
   "nbconvert_exporter": "python",
   "pygments_lexer": "ipython3",
   "version": "3.6.6"
  },
  "latex_envs": {
   "LaTeX_envs_menu_present": true,
   "autocomplete": true,
   "bibliofile": "biblio.bib",
   "cite_by": "apalike",
   "current_citInitial": 1,
   "eqLabelWithNumbers": true,
   "eqNumInitial": 1,
   "hotkeys": {
    "equation": "Ctrl-E",
    "itemize": "Ctrl-I"
   },
   "labels_anchors": false,
   "latex_user_defs": false,
   "report_style_numbering": false,
   "user_envs_cfg": false
  },
  "toc": {
   "colors": {
    "hover_highlight": "#DAA520",
    "navigate_num": "#000000",
    "navigate_text": "#333333",
    "running_highlight": "#FF0000",
    "selected_highlight": "#FFD700",
    "sidebar_border": "#EEEEEE",
    "wrapper_background": "#FFFFFF"
   },
   "moveMenuLeft": true,
   "nav_menu": {
    "height": "245px",
    "width": "252px"
   },
   "navigate_menu": true,
   "number_sections": true,
   "sideBar": true,
   "threshold": 4,
   "toc_cell": false,
   "toc_section_display": "block",
   "toc_window_display": false,
   "widenNotebook": false
  },
  "varInspector": {
   "cols": {
    "lenName": 16,
    "lenType": 16,
    "lenVar": 40
   },
   "kernels_config": {
    "python": {
     "delete_cmd_postfix": "",
     "delete_cmd_prefix": "del ",
     "library": "var_list.py",
     "varRefreshCmd": "print(var_dic_list())"
    },
    "r": {
     "delete_cmd_postfix": ") ",
     "delete_cmd_prefix": "rm(",
     "library": "var_list.r",
     "varRefreshCmd": "cat(var_dic_list()) "
    }
   },
   "types_to_exclude": [
    "module",
    "function",
    "builtin_function_or_method",
    "instance",
    "_Feature"
   ],
   "window_display": false
  }
 },
 "nbformat": 4,
 "nbformat_minor": 2
}
