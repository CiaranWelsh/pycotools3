{
 "cells": [
  {
   "cell_type": "markdown",
   "metadata": {},
   "source": [
    "## Build Models With Antimony\n",
    "[Antimony](http://antimony.sourceforge.net/) is a model definition language that has been used together with [RoadRunner](https://sys-bio.github.io/roadrunner/python_docs/index.html) in a python package called [Tellurium](http://tellurium.analogmachine.org/) for constructing SBML models. Tellurium enables conversion between sbml and antimony and these functions (together with command line copasi) have been used by PyCoTools to enable building COPASI models with Antimony. For more information on how to build an antimony model, please see [here](http://tellurium.readthedocs.io/en/latest/antimony.html) or [here](http://tellurium.analogmachine.org/documentation/antimony-tutorial/)."
   ]
  },
  {
   "cell_type": "code",
   "execution_count": 7,
   "metadata": {
    "ExecuteTime": {
     "end_time": "2018-03-22T14:01:52.484912Z",
     "start_time": "2018-03-22T14:01:52.467622Z"
    },
    "collapsed": true
   },
   "outputs": [],
   "source": [
    "from pycotools3 import viz, model, misc, tasks, models\n",
    "import os, glob\n",
    "%matplotlib inline"
   ]
  },
  {
   "cell_type": "markdown",
   "metadata": {},
   "source": [
    "### A Negative Feedback Motif"
   ]
  },
  {
   "cell_type": "code",
   "execution_count": 11,
   "metadata": {
    "ExecuteTime": {
     "end_time": "2018-03-22T14:01:54.630032Z",
     "start_time": "2018-03-22T14:01:54.437892Z"
    }
   },
   "outputs": [
    {
     "data": {
      "text/plain": [
       "Model(name=negative_feedback, time_unit=s, volume_unit=l, quantity_unit=mol)"
      ]
     },
     "execution_count": 11,
     "metadata": {},
     "output_type": "execute_result"
    }
   ],
   "source": [
    "working_directory = os.path.abspath('')\n",
    "copasi_filename = os.path.join(working_directory, 'NegativeFeedbackModel.cps')\n",
    "\n",
    "with model.BuildAntimony(copasi_filename) as loader:\n",
    "    negative_feedback = loader.load(\n",
    "        \"\"\"\n",
    "        model negative_feedback()\n",
    "            compartment cell = 1.0\n",
    "            var A in cell\n",
    "            var B in cell\n",
    "\n",
    "            vAProd = 0.1\n",
    "            kADeg = 0.2\n",
    "            kBProd = 0.3\n",
    "            kBDeg = 0.4\n",
    "            A = 0\n",
    "            B = 0\n",
    "\n",
    "            AProd: => A; cell*vAProd\n",
    "            ADeg: A =>; cell*kADeg*A*B\n",
    "            BProd: => B; cell*kBProd*A\n",
    "            BDeg: B => ; cell*kBDeg*B\n",
    "        end\n",
    "        \"\"\"\n",
    "    )\n",
    "negative_feedback"
   ]
  },
  {
   "cell_type": "markdown",
   "metadata": {},
   "source": [
    "#### Simulate from Negative Feedback Model"
   ]
  },
  {
   "cell_type": "code",
   "execution_count": 12,
   "metadata": {
    "ExecuteTime": {
     "end_time": "2018-03-22T14:02:13.919842Z",
     "start_time": "2018-03-22T14:02:13.435579Z"
    }
   },
   "outputs": [
    {
     "data": {
      "text/plain": [
       "<pycotools3.viz.PlotTimeCourse at 0x7efe619db7b8>"
      ]
     },
     "execution_count": 12,
     "metadata": {},
     "output_type": "execute_result"
    },
    {
     "data": {
      "image/png": "[encoded data removed]",
      "text/plain": [
       "<Figure size 432x288 with 1 Axes>"
      ]
     },
     "metadata": {},
     "output_type": "display_data"
    }
   ],
   "source": [
    "TC = tasks.TimeCourse(negative_feedback, end=100, intervals=100, step_size=1)\n",
    "viz.PlotTimeCourse(TC, separate=False)"
   ]
  },
  {
   "cell_type": "markdown",
   "metadata": {},
   "source": [
    "### Positive Plus Negative Feedbck Loop"
   ]
  },
  {
   "cell_type": "code",
   "execution_count": 13,
   "metadata": {
    "ExecuteTime": {
     "end_time": "2018-03-22T14:24:55.226608Z",
     "start_time": "2018-03-22T14:24:55.024889Z"
    }
   },
   "outputs": [
    {
     "data": {
      "text/plain": [
       "Model(name=PositivePlusNegativeFB, time_unit=s, volume_unit=l, quantity_unit=mol)"
      ]
     },
     "execution_count": 13,
     "metadata": {},
     "output_type": "execute_result"
    }
   ],
   "source": [
    "copasi_filename = os.path.join(working_directory, 'MichaelisMenten.cps')\n",
    "\n",
    "with model.BuildAntimony(copasi_filename) as loader:\n",
    "    positive_plus_negative = loader.load(\n",
    "        \"\"\"\n",
    "        model PositivePlusNegativeFB()\n",
    "            compartment cell = 1.0\n",
    "            var A in cell\n",
    "            var B in cell\n",
    "            var C in cell\n",
    "            \n",
    "            E = 0;\n",
    "            S = 0;\n",
    "            P = 0;\n",
    "            \n",
    "            R1: => A; cell*kBasalAProd + cell*kAProd*C;\n",
    "            R2: A => ; cell*kADeg*A*B;\n",
    "            R3: => B; cell*kBProd*A;\n",
    "            R4: B => ; cell*kBDeg*B;\n",
    "            R5: => C; cell*kCProd*B; \n",
    "            R6: C => ; cell*kCDeg*C;\n",
    "            \n",
    "            kBasalAProd = 0.1\n",
    "            kAProd = 0.1\n",
    "            kADeg = 0.01\n",
    "            kBProd = 1\n",
    "            kBDeg = 0.1\n",
    "            kCProd = 0.1\n",
    "            kCDeg = 0.06\n",
    "        end\n",
    "        \"\"\"\n",
    "    )\n",
    "positive_plus_negative "
   ]
  },
  {
   "cell_type": "markdown",
   "metadata": {},
   "source": [
    "#### Simulate"
   ]
  },
  {
   "cell_type": "code",
   "execution_count": 14,
   "metadata": {
    "ExecuteTime": {
     "end_time": "2018-03-22T14:24:52.451338Z",
     "start_time": "2018-03-22T14:24:51.943705Z"
    }
   },
   "outputs": [
    {
     "data": {
      "text/plain": [
       "<pycotools3.viz.PlotTimeCourse at 0x7efe619b83c8>"
      ]
     },
     "execution_count": 14,
     "metadata": {},
     "output_type": "execute_result"
    },
    {
     "data": {
      "image/png": "[encoded data removed]",
      "text/plain": [
       "<Figure size 432x288 with 1 Axes>"
      ]
     },
     "metadata": {},
     "output_type": "display_data"
    }
   ],
   "source": [
    "TC = tasks.TimeCourse(positive_plus_negative, end=1000, intervals=1000, step_size=1)\n",
    "viz.PlotTimeCourse(TC, separate=False)"
   ]
  }
 ],
 "metadata": {
  "hide_input": false,
  "kernelspec": {
   "display_name": "Python 3",
   "language": "python",
   "name": "python3"
  },
  "language_info": {
   "codemirror_mode": {
    "name": "ipython",
    "version": 3
   },
   "file_extension": ".py",
   "mimetype": "text/x-python",
   "name": "python",
   "nbconvert_exporter": "python",
   "pygments_lexer": "ipython3",
   "version": "3.6.6"
  },
  "latex_envs": {
   "LaTeX_envs_menu_present": true,
   "autocomplete": true,
   "bibliofile": "biblio.bib",
   "cite_by": "apalike",
   "current_citInitial": 1.0,
   "eqLabelWithNumbers": true,
   "eqNumInitial": 1.0,
   "hotkeys": {
    "equation": "Ctrl-E",
    "itemize": "Ctrl-I"
   },
   "labels_anchors": false,
   "latex_user_defs": false,
   "report_style_numbering": false,
   "user_envs_cfg": false
  },
  "toc": {
   "colors": {
    "hover_highlight": "#DAA520",
    "navigate_num": "#000000",
    "navigate_text": "#333333",
    "running_highlight": "#FF0000",
    "selected_highlight": "#FFD700",
    "sidebar_border": "#EEEEEE",
    "wrapper_background": "#FFFFFF"
   },
   "moveMenuLeft": true,
   "nav_menu": {
    "height": "117px",
    "width": "252px"
   },
   "navigate_menu": true,
   "number_sections": true,
   "sideBar": true,
   "threshold": 4.0,
   "toc_cell": false,
   "toc_section_display": "block",
   "toc_window_display": true,
   "widenNotebook": false
  },
  "varInspector": {
   "cols": {
    "lenName": 16.0,
    "lenType": 16.0,
    "lenVar": 40.0
   },
   "kernels_config": {
    "python": {
     "delete_cmd_postfix": "",
     "delete_cmd_prefix": "del ",
     "library": "var_list.py",
     "varRefreshCmd": "print(var_dic_list())"
    },
    "r": {
     "delete_cmd_postfix": ") ",
     "delete_cmd_prefix": "rm(",
     "library": "var_list.r",
     "varRefreshCmd": "cat(var_dic_list()) "
    }
   },
   "types_to_exclude": [
    "module",
    "function",
    "builtin_function_or_method",
    "instance",
    "_Feature"
   ],
   "window_display": false
  }
 },
 "nbformat": 4,
 "nbformat_minor": 2
}
