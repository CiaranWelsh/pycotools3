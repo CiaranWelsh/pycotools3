{
 "cells": [
  {
   "cell_type": "markdown",
   "metadata": {},
   "source": [
    "## TimeCourse\n",
    "\n",
    " \n",
    "\n",
    "### Imports and Getting the Test Model"
   ]
  },
  {
   "cell_type": "code",
   "execution_count": 2,
   "metadata": {
    "ExecuteTime": {
     "end_time": "2018-04-20T09:52:03.986553Z",
     "start_time": "2018-04-20T09:52:03.980118Z"
    },
    "scrolled": true
   },
   "outputs": [],
   "source": [
    "%matplotlib inline\n",
    "try:\n",
    "    ## if using the Python 3 version\n",
    "    from pycotools3 import viz, model, misc, tasks, models\n",
    "except ImportError:\n",
    "    ## fall back on the python 2 version \n",
    "    from pycotools import viz, model, misc, tasks, models\n",
    "import os\n",
    "import pandas\n",
    "from lxml import etree"
   ]
  },
  {
   "cell_type": "markdown",
   "metadata": {},
   "source": [
    "### Get Model Object "
   ]
  },
  {
   "cell_type": "code",
   "execution_count": 7,
   "metadata": {
    "ExecuteTime": {
     "end_time": "2018-02-03T13:39:19.723932Z",
     "start_time": "2018-02-03T13:39:19.710847Z"
    }
   },
   "outputs": [],
   "source": [
    "## get string model from `models`\n",
    "zi_model_string = models.ZiModels().published_zi\n",
    "\n",
    "## get a working directory. Change this to change this to wherever you like\n",
    "directory = r'/home/b3053674/Documents/Models/2017/10_Oct/TutorialWorkspace'\n",
    "\n",
    "## choose path to zi model\n",
    "zi_path = os.path.join(directory, 'zi2012.cps')\n",
    "\n",
    "##write model to file\n",
    "with open(zi_path, 'w') as f:\n",
    "    f.write(zi_model_string)\n",
    "    \n",
    "## check file exists\n",
    "if not os.path.isfile(zi_path):\n",
    "    raise Exception\n",
    "    \n",
    "zi = model.Model(zi_path)"
   ]
  },
  {
   "cell_type": "markdown",
   "metadata": {},
   "source": [
    "### Deterministic Time Course\n",
    "#### Run a deterministic time course"
   ]
  },
  {
   "cell_type": "code",
   "execution_count": null,
   "metadata": {
    "ExecuteTime": {
     "end_time": "2018-02-03T13:34:55.382160Z",
     "start_time": "2018-02-03T13:34:54.968181Z"
    },
    "scrolled": true
   },
   "outputs": [],
   "source": [
    "TC = tasks.TimeCourse(\n",
    "    zi, report_name='zi_timecourse_report.txt',\n",
    "    end=1000, intervals=50, step_size=20\n",
    ")\n",
    "\n",
    "## check its worked\n",
    "os.path.isfile(TC.report_name)\n",
    "\n",
    "\n",
    "df = pandas.read_csv(TC.report_name, sep='\\t')\n",
    "df.head()"
   ]
  },
  {
   "cell_type": "markdown",
   "metadata": {},
   "source": [
    "##### Save time course configured model"
   ]
  },
  {
   "cell_type": "code",
   "execution_count": null,
   "metadata": {
    "ExecuteTime": {
     "end_time": "2018-02-03T13:34:56.683615Z",
     "start_time": "2018-02-03T13:34:56.669135Z"
    }
   },
   "outputs": [],
   "source": [
    "zi = TC.model\n",
    "zi.save()"
   ]
  },
  {
   "cell_type": "markdown",
   "metadata": {},
   "source": [
    "The following equation must hold true: $intervals \\cdot step\\_size = end$. Alternatively, the model can be saved by setting the `save` keyword to True. \n",
    "\n",
    "#### Being selective about which output variables to select\n",
    "Use the `metabolites`, `global_quantities` and `local_parameters` arguments"
   ]
  },
  {
   "cell_type": "code",
   "execution_count": null,
   "metadata": {
    "ExecuteTime": {
     "end_time": "2018-02-03T13:34:58.585973Z",
     "start_time": "2018-02-03T13:34:58.215498Z"
    },
    "scrolled": false
   },
   "outputs": [],
   "source": [
    "TC=tasks.TimeCourse(\n",
    "    zi,\n",
    "    report_name='zi_timecourse_report.txt',\n",
    "    end=1000,\n",
    "    intervals=50,\n",
    "    step_size=20,\n",
    "    metabolites=['Smad3c','Smad3n', 'Smad4n', 'Smad4c'],\n",
    "    global_quantities = [],\n",
    "    save=True\n",
    ")\n",
    "\n",
    "##check that we only have two variables\n",
    "pandas.read_csv(TC.report_name,sep='\\t').head()"
   ]
  },
  {
   "cell_type": "markdown",
   "metadata": {},
   "source": [
    "Note that this model is specifically a deterministic model and will not simulate with the stochastic or hybrid solvers. "
   ]
  },
  {
   "cell_type": "markdown",
   "metadata": {},
   "source": [
    "### Visualization"
   ]
  },
  {
   "cell_type": "markdown",
   "metadata": {},
   "source": [
    "#### Plot the results\n",
    "By default all species are plotted separetly"
   ]
  },
  {
   "cell_type": "code",
   "execution_count": null,
   "metadata": {
    "ExecuteTime": {
     "end_time": "2018-02-03T13:35:01.356908Z",
     "start_time": "2018-02-03T13:35:00.388672Z"
    }
   },
   "outputs": [],
   "source": [
    "viz.PlotTimeCourse(TC)"
   ]
  },
  {
   "cell_type": "markdown",
   "metadata": {},
   "source": [
    "#### Plot on the same axis\n",
    "We can plot on the same axis"
   ]
  },
  {
   "cell_type": "code",
   "execution_count": null,
   "metadata": {
    "ExecuteTime": {
     "end_time": "2018-02-03T13:35:03.644932Z",
     "start_time": "2018-02-03T13:35:03.428538Z"
    },
    "scrolled": true
   },
   "outputs": [],
   "source": [
    "viz.PlotTimeCourse(TC, separate=False)"
   ]
  },
  {
   "cell_type": "markdown",
   "metadata": {},
   "source": [
    "#### Choose Y variables"
   ]
  },
  {
   "cell_type": "code",
   "execution_count": null,
   "metadata": {
    "ExecuteTime": {
     "end_time": "2018-02-03T13:35:05.747871Z",
     "start_time": "2018-02-03T13:35:05.332691Z"
    }
   },
   "outputs": [],
   "source": [
    "viz.PlotTimeCourse(TC, y=['Smad3c', 'Smad3n'], separate=False)\n",
    "viz.PlotTimeCourse(TC, y=['Smad4c', 'Smad4n'], separate=False)"
   ]
  },
  {
   "cell_type": "markdown",
   "metadata": {},
   "source": [
    "#### Plot in Phase Space\n",
    "Choose the x variable to plot phase space. Same arguments apply as above. "
   ]
  },
  {
   "cell_type": "code",
   "execution_count": null,
   "metadata": {
    "ExecuteTime": {
     "end_time": "2018-02-03T13:35:09.129295Z",
     "start_time": "2018-02-03T13:35:08.357921Z"
    }
   },
   "outputs": [],
   "source": [
    "viz.PlotTimeCourse(TC, x='Smad3c', separate=True)"
   ]
  },
  {
   "cell_type": "markdown",
   "metadata": {},
   "source": []
  },
  {
   "cell_type": "markdown",
   "metadata": {},
   "source": [
    "#### Save to file"
   ]
  },
  {
   "cell_type": "code",
   "execution_count": null,
   "metadata": {
    "ExecuteTime": {
     "end_time": "2018-02-03T13:35:10.958029Z",
     "start_time": "2018-02-03T13:35:10.485128Z"
    }
   },
   "outputs": [],
   "source": [
    "viz.PlotTimeCourse(TC, y=['Smad3c', 'Smad3n'], separate=False, savefig=True, filename='MyTimeCourse.eps')"
   ]
  },
  {
   "cell_type": "markdown",
   "metadata": {},
   "source": [
    "### Alternative Solvers\n",
    "Valid arguments for the `method` argument of `TimeCourse` are:\n",
    "\n",
    "    -  deterministic\n",
    "    -  direct\n",
    "    -  gibson_bruck\n",
    "    -  tau_leap\n",
    "    -  adaptive_tau_leap\n",
    "    -  hybrid_runge_kutta\n",
    "    -  hybrid_lsoda\n",
    "\n",
    "Copasi also includes a `hybrid_rk45` solver but this is not yet supported by Pycotools. To use an alternative solver, pass the name of the solver to the `method` argument. \n",
    "\n",
    "#### Stochastic MM\n",
    "For demonstrating simulation of stochastic time courses we build another michaelis-menten type reaction schema "
   ]
  },
  {
   "cell_type": "code",
   "execution_count": 33,
   "metadata": {
    "ExecuteTime": {
     "end_time": "2018-02-05T20:57:08.292570Z",
     "start_time": "2018-02-05T20:57:08.177073Z"
    }
   },
   "outputs": [
    {
     "data": {
      "text/plain": [
       "Model(name=Michaelis-Menten Stochastic, time_unit=s, volume_unit=ml, quantity_unit=mmol)"
      ]
     },
     "execution_count": 33,
     "metadata": {},
     "output_type": "execute_result"
    }
   ],
   "source": [
    "working_directory = r'/home/b3053674/Documents/Models/2017/12_Dec/PycotoolsWorkflowDir'\n",
    "copasi_file = os.path.join(working_directory, 'MichaelisMentenStochastic.cps')\n",
    "\n",
    "if os.path.isfile(copasi_file):\n",
    "    os.remove(copasi_file)\n",
    "\n",
    "    \n",
    "kf = 100\n",
    "kb = 0.1\n",
    "kcat = 0.05\n",
    "E = 200\n",
    "S = 1000\n",
    "with model.Build(copasi_file) as m:\n",
    "    m.name = 'Michaelis-Menten Stochastic'\n",
    "    m.add('compartment', name='Cell', initial_value=1e-15)\n",
    "    \n",
    "    m.add('metabolite', name='P', particle_numbers=0)\n",
    "    m.add('metabolite', name='S', particle_numbers=S)\n",
    "    m.add('metabolite', name='E', particle_numbers=E)\n",
    "    m.add('metabolite', name='ES', particle_numbers=0)\n",
    "    \n",
    "    m.add('reaction', name='S bind E', expression='S + E -> ES', rate_law='kf*S*E',\n",
    "          parameter_values={'kf': kf})\n",
    "    \n",
    "    m.add('reaction', name='S unbind E', expression='ES -> S + E', rate_law='kb*ES',\n",
    "         parameter_values={'kb': kb})\n",
    "\n",
    "    m.add('reaction', name='ES produce P', expression='ES -> P + E', rate_law='kcat*ES', \n",
    "          parameter_values={'kcat': kcat})\n",
    "    \n",
    "stochastic_michaelis_menten = model.Model(copasi_file)\n",
    "stochastic_michaelis_menten"
   ]
  },
  {
   "cell_type": "markdown",
   "metadata": {},
   "source": [
    "### Run a Time Course Using Direct Method"
   ]
  },
  {
   "cell_type": "code",
   "execution_count": 34,
   "metadata": {
    "ExecuteTime": {
     "end_time": "2018-02-05T20:57:14.172352Z",
     "start_time": "2018-02-05T20:57:10.682610Z"
    }
   },
   "outputs": [],
   "source": [
    "TC = tasks.TimeCourse(stochastic_michaelis_menten, end=100, intervals=100, step_size=1, method='direct')"
   ]
  },
  {
   "cell_type": "markdown",
   "metadata": {
    "collapsed": true
   },
   "source": [
    "### Plot stochastic time course"
   ]
  },
  {
   "cell_type": "code",
   "execution_count": 35,
   "metadata": {
    "ExecuteTime": {
     "end_time": "2018-02-05T20:57:15.318352Z",
     "start_time": "2018-02-05T20:57:15.024746Z"
    },
    "scrolled": true
   },
   "outputs": [
    {
     "data": {
      "text/plain": [
       "<pycotools.viz.PlotTimeCourse at 0x7f98df953410>"
      ]
     },
     "execution_count": 35,
     "metadata": {},
     "output_type": "execute_result"
    },
    {
     "data": {
      "image/png": "[encoded data removed]",
      "text/plain": [
       "<matplotlib.figure.Figure at 0x7f98df8cba50>"
      ]
     },
     "metadata": {},
     "output_type": "display_data"
    }
   ],
   "source": [
    "viz.PlotTimeCourse(TC, separate=False)"
   ]
  }
 ],
 "metadata": {
  "hide_input": false,
  "kernelspec": {
   "display_name": "Python 3",
   "language": "python",
   "name": "python3"
  },
  "language_info": {
   "codemirror_mode": {
    "name": "ipython",
    "version": 3
   },
   "file_extension": ".py",
   "mimetype": "text/x-python",
   "name": "python",
   "nbconvert_exporter": "python",
   "pygments_lexer": "ipython3",
   "version": "3.6.6"
  },
  "latex_envs": {
   "LaTeX_envs_menu_present": true,
   "autocomplete": true,
   "bibliofile": "biblio.bib",
   "cite_by": "apalike",
   "current_citInitial": 1,
   "eqLabelWithNumbers": true,
   "eqNumInitial": 1,
   "hotkeys": {
    "equation": "Ctrl-E",
    "itemize": "Ctrl-I"
   },
   "labels_anchors": false,
   "latex_user_defs": false,
   "report_style_numbering": false,
   "user_envs_cfg": false
  },
  "toc": {
   "colors": {
    "hover_highlight": "#DAA520",
    "navigate_num": "#000000",
    "navigate_text": "#333333",
    "running_highlight": "#FF0000",
    "selected_highlight": "#FFD700",
    "sidebar_border": "#EEEEEE",
    "wrapper_background": "#FFFFFF"
   },
   "moveMenuLeft": true,
   "nav_menu": {
    "height": "48px",
    "width": "252px"
   },
   "navigate_menu": true,
   "number_sections": true,
   "sideBar": true,
   "threshold": 4,
   "toc_cell": false,
   "toc_position": {
    "height": "813px",
    "left": "0px",
    "right": "1024.67px",
    "top": "131px",
    "width": "212px"
   },
   "toc_section_display": "block",
   "toc_window_display": true,
   "widenNotebook": false
  },
  "varInspector": {
   "cols": {
    "lenName": 16,
    "lenType": 16,
    "lenVar": 40
   },
   "kernels_config": {
    "python": {
     "delete_cmd_postfix": "",
     "delete_cmd_prefix": "del ",
     "library": "var_list.py",
     "varRefreshCmd": "print(var_dic_list())"
    },
    "r": {
     "delete_cmd_postfix": ") ",
     "delete_cmd_prefix": "rm(",
     "library": "var_list.r",
     "varRefreshCmd": "cat(var_dic_list()) "
    }
   },
   "types_to_exclude": [
    "module",
    "function",
    "builtin_function_or_method",
    "instance",
    "_Feature"
   ],
   "window_display": false
  }
 },
 "nbformat": 4,
 "nbformat_minor": 2
}
