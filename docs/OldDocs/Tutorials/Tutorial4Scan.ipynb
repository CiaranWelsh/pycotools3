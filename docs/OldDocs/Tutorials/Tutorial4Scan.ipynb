{
 "cells": [
  {
   "cell_type": "markdown",
   "metadata": {},
   "source": [
    "## Parameter Scan"
   ]
  },
  {
   "cell_type": "code",
   "execution_count": 1,
   "metadata": {
    "ExecuteTime": {
     "end_time": "2018-04-20T09:52:12.173150Z",
     "start_time": "2018-04-20T09:52:12.169304Z"
    },
    "scrolled": false
   },
   "outputs": [
    {
     "name": "stdout",
     "output_type": "stream",
     "text": [
      "matplotlib.pyplot:DEBUG:211:    Loaded backend module://ipykernel.pylab.backend_inline version unknown.\n"
     ]
    }
   ],
   "source": [
    "try:\n",
    "    ## if using the Python 3 version\n",
    "    from pycotools3 import viz, model, misc, tasks, models\n",
    "except ImportError:\n",
    "    ## fall back on the python 2 version \n",
    "    from pycotools import viz, model, misc, tasks, models\n",
    "import os\n",
    "from lxml import etree"
   ]
  },
  {
   "cell_type": "markdown",
   "metadata": {},
   "source": [
    "### Get Model String"
   ]
  },
  {
   "cell_type": "code",
   "execution_count": null,
   "metadata": {
    "ExecuteTime": {
     "end_time": "2017-11-10T12:04:00.233000Z",
     "start_time": "2017-11-10T12:03:56.465Z"
    }
   },
   "outputs": [],
   "source": [
    "## get string model from `models`\n",
    "zi_model_string = models.ZiModels().published_zi\n",
    "\n",
    "## specify directory for workspace\n",
    "dire = r'/home/b3053674/Documents/Models/2017/10_Oct/TutorialWorkspace'\n",
    "\n",
    "## name our copasi file\n",
    "copasi_file = os.path.join(dire, 'zi_model.cps')\n",
    "\n",
    "# write model to file\n",
    "with open(copasi_file, 'w') as f:\n",
    "    f.write(model_string)\n",
    "    \n",
    "## make sure it exists\n",
    "assert os.path.isfile(copasi_file)"
   ]
  },
  {
   "cell_type": "markdown",
   "metadata": {},
   "source": [
    "### Parse Model "
   ]
  },
  {
   "cell_type": "code",
   "execution_count": null,
   "metadata": {
    "ExecuteTime": {
     "end_time": "2017-11-10T12:04:00.237000Z",
     "start_time": "2017-11-10T12:03:56.490Z"
    }
   },
   "outputs": [],
   "source": [
    "zi = model.Model(copasi_file)\n",
    "zi"
   ]
  },
  {
   "cell_type": "markdown",
   "metadata": {},
   "source": [
    "Copasi supports three types of scan: \n",
    "\n",
    "### Parameter Scan\n",
    "Set up a scan subtask with a single parameter being systematically varied. Run the scan via CopasiSE."
   ]
  },
  {
   "cell_type": "code",
   "execution_count": null,
   "metadata": {
    "ExecuteTime": {
     "end_time": "2017-11-10T12:04:00.240000Z",
     "start_time": "2017-11-10T12:03:56.513Z"
    },
    "scrolled": true
   },
   "outputs": [],
   "source": [
    "S = tasks.Scan(\n",
    "    zi, scan_type='scan', subtask='time_course', report_type='time_course',\n",
    "    report_name = 'ParameterScanOfTimeCourse.txt', variable='Smad4n',\n",
    "    minimum=1, maximum=20, number_of_steps=8, run=True,\n",
    ")\n",
    "\n",
    "## Now check parameter scan data exists\n",
    "os.path.isfile(S.report_name)"
   ]
  },
  {
   "cell_type": "markdown",
   "metadata": {},
   "source": [
    "### Two Way Parameter Scan\n",
    "By default, scan tasks are removed before setting up a new scan. To set up dual scans, set  clear_scans to False in a  second call to `Scan`."
   ]
  },
  {
   "cell_type": "code",
   "execution_count": null,
   "metadata": {
    "ExecuteTime": {
     "end_time": "2017-11-10T12:04:00.243000Z",
     "start_time": "2017-11-10T12:03:56.533Z"
    }
   },
   "outputs": [],
   "source": [
    "## Clear scans for setting up first scan\n",
    "tasks.Scan(\n",
    "    zi, scan_type='scan', subtask='time_course', report_type='time_course',\n",
    "    variable='Smad4n', minimum=1, maximum=20, number_of_steps=8, run=False, clear_scan=True,\n",
    ")\n",
    "\n",
    "## do not clear tasks when setting up the second\n",
    "S = tasks.Scan(\n",
    "    zi, scan_type='scan', subtask='time_course', report_type='time_course',\n",
    "    report_name = 'TwoWayParameterScanOfTimeCourse.csv', variable='Smad4c',\n",
    "    minimum=1, maximum=20, number_of_steps=8, run=True, clear_scan=False,\n",
    ")\n",
    "\n",
    "## check the output exists\n",
    "os.path.isfile(S.report_name)"
   ]
  },
  {
   "cell_type": "markdown",
   "metadata": {},
   "source": [
    "An arbitrary number of scans can be setup this way. Further, its possible to chain together scans with repeat or random distribution scans."
   ]
  },
  {
   "cell_type": "markdown",
   "metadata": {},
   "source": [
    "### Repeat Scan Items\n",
    "Repeat scans are very useful for running multiple parameter estimations and for running stochastic time courses."
   ]
  },
  {
   "cell_type": "code",
   "execution_count": null,
   "metadata": {
    "ExecuteTime": {
     "end_time": "2017-11-10T12:04:00.246000Z",
     "start_time": "2017-11-10T12:03:56.574Z"
    }
   },
   "outputs": [],
   "source": [
    "## Assume Parameter Estimation task already configured\n",
    "tasks.Scan(\n",
    "    zi, scan_type='repeat', subtask='parameter_estimation', report_type='parameter_estimation',\n",
    "    number_of_steps=6, run=False, ##set run to True to run via CopasiSE\n",
    ")\n",
    "\n",
    "\n",
    "## Assume model runs stochastically and time course settings are already configured\n",
    "tasks.Scan(\n",
    "    zi, scan_type='repeat', subtask='time_course', report_type='time_course',\n",
    "    number_of_steps=100, run=False,  ##set run to True to run via CopasiSE\n",
    ")"
   ]
  }
 ],
 "metadata": {
  "hide_input": false,
  "kernelspec": {
   "display_name": "Python 3",
   "language": "python",
   "name": "python3"
  },
  "language_info": {
   "codemirror_mode": {
    "name": "ipython",
    "version": 3
   },
   "file_extension": ".py",
   "mimetype": "text/x-python",
   "name": "python",
   "nbconvert_exporter": "python",
   "pygments_lexer": "ipython3",
   "version": "3.6.6"
  },
  "latex_envs": {
   "LaTeX_envs_menu_present": true,
   "autocomplete": true,
   "bibliofile": "biblio.bib",
   "cite_by": "apalike",
   "current_citInitial": 1,
   "eqLabelWithNumbers": true,
   "eqNumInitial": 1,
   "hotkeys": {
    "equation": "Ctrl-E",
    "itemize": "Ctrl-I"
   },
   "labels_anchors": false,
   "latex_user_defs": false,
   "report_style_numbering": false,
   "user_envs_cfg": false
  },
  "toc": {
   "colors": {
    "hover_highlight": "#DAA520",
    "navigate_num": "#000000",
    "navigate_text": "#333333",
    "running_highlight": "#FF0000",
    "selected_highlight": "#FFD700",
    "sidebar_border": "#EEEEEE",
    "wrapper_background": "#FFFFFF"
   },
   "moveMenuLeft": true,
   "nav_menu": {
    "height": "102px",
    "width": "252px"
   },
   "navigate_menu": true,
   "number_sections": true,
   "sideBar": true,
   "threshold": 4,
   "toc_cell": false,
   "toc_section_display": "block",
   "toc_window_display": true,
   "widenNotebook": false
  },
  "varInspector": {
   "cols": {
    "lenName": 16,
    "lenType": 16,
    "lenVar": 40
   },
   "kernels_config": {
    "python": {
     "delete_cmd_postfix": "",
     "delete_cmd_prefix": "del ",
     "library": "var_list.py",
     "varRefreshCmd": "print(var_dic_list())"
    },
    "r": {
     "delete_cmd_postfix": ") ",
     "delete_cmd_prefix": "rm(",
     "library": "var_list.r",
     "varRefreshCmd": "cat(var_dic_list()) "
    }
   },
   "types_to_exclude": [
    "module",
    "function",
    "builtin_function_or_method",
    "instance",
    "_Feature"
   ],
   "window_display": false
  }
 },
 "nbformat": 4,
 "nbformat_minor": 2
}
